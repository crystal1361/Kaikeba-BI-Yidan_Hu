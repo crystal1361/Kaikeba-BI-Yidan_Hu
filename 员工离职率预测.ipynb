{
 "cells": [
  {
   "cell_type": "code",
   "execution_count": 1,
   "metadata": {},
   "outputs": [],
   "source": [
    "import pandas as pd\n",
    "train_Attrition=pd.read_csv('train_Employee_Attrition.csv')"
   ]
  },
  {
   "cell_type": "code",
   "execution_count": 2,
   "metadata": {},
   "outputs": [
    {
     "data": {
      "text/plain": [
       "(1176, 36)"
      ]
     },
     "execution_count": 2,
     "metadata": {},
     "output_type": "execute_result"
    }
   ],
   "source": [
    "train_Attrition.shape"
   ]
  },
  {
   "cell_type": "code",
   "execution_count": 3,
   "metadata": {},
   "outputs": [
    {
     "data": {
      "text/html": [
       "<div>\n",
       "<style scoped>\n",
       "    .dataframe tbody tr th:only-of-type {\n",
       "        vertical-align: middle;\n",
       "    }\n",
       "\n",
       "    .dataframe tbody tr th {\n",
       "        vertical-align: top;\n",
       "    }\n",
       "\n",
       "    .dataframe thead th {\n",
       "        text-align: right;\n",
       "    }\n",
       "</style>\n",
       "<table border=\"1\" class=\"dataframe\">\n",
       "  <thead>\n",
       "    <tr style=\"text-align: right;\">\n",
       "      <th></th>\n",
       "      <th>user_id</th>\n",
       "      <th>Age</th>\n",
       "      <th>Attrition</th>\n",
       "      <th>BusinessTravel</th>\n",
       "      <th>DailyRate</th>\n",
       "      <th>Department</th>\n",
       "      <th>DistanceFromHome</th>\n",
       "      <th>Education</th>\n",
       "      <th>EducationField</th>\n",
       "      <th>EmployeeCount</th>\n",
       "      <th>...</th>\n",
       "      <th>RelationshipSatisfaction</th>\n",
       "      <th>StandardHours</th>\n",
       "      <th>StockOptionLevel</th>\n",
       "      <th>TotalWorkingYears</th>\n",
       "      <th>TrainingTimesLastYear</th>\n",
       "      <th>WorkLifeBalance</th>\n",
       "      <th>YearsAtCompany</th>\n",
       "      <th>YearsInCurrentRole</th>\n",
       "      <th>YearsSinceLastPromotion</th>\n",
       "      <th>YearsWithCurrManager</th>\n",
       "    </tr>\n",
       "  </thead>\n",
       "  <tbody>\n",
       "    <tr>\n",
       "      <th>0</th>\n",
       "      <td>1374</td>\n",
       "      <td>58</td>\n",
       "      <td>No</td>\n",
       "      <td>Travel_Rarely</td>\n",
       "      <td>605</td>\n",
       "      <td>Sales</td>\n",
       "      <td>21</td>\n",
       "      <td>3</td>\n",
       "      <td>Life Sciences</td>\n",
       "      <td>1</td>\n",
       "      <td>...</td>\n",
       "      <td>3</td>\n",
       "      <td>80</td>\n",
       "      <td>1</td>\n",
       "      <td>29</td>\n",
       "      <td>2</td>\n",
       "      <td>2</td>\n",
       "      <td>1</td>\n",
       "      <td>0</td>\n",
       "      <td>0</td>\n",
       "      <td>0</td>\n",
       "    </tr>\n",
       "    <tr>\n",
       "      <th>1</th>\n",
       "      <td>1092</td>\n",
       "      <td>45</td>\n",
       "      <td>No</td>\n",
       "      <td>Travel_Rarely</td>\n",
       "      <td>950</td>\n",
       "      <td>Research &amp; Development</td>\n",
       "      <td>28</td>\n",
       "      <td>3</td>\n",
       "      <td>Technical Degree</td>\n",
       "      <td>1</td>\n",
       "      <td>...</td>\n",
       "      <td>4</td>\n",
       "      <td>80</td>\n",
       "      <td>1</td>\n",
       "      <td>8</td>\n",
       "      <td>3</td>\n",
       "      <td>3</td>\n",
       "      <td>5</td>\n",
       "      <td>4</td>\n",
       "      <td>0</td>\n",
       "      <td>3</td>\n",
       "    </tr>\n",
       "    <tr>\n",
       "      <th>2</th>\n",
       "      <td>768</td>\n",
       "      <td>40</td>\n",
       "      <td>No</td>\n",
       "      <td>Travel_Rarely</td>\n",
       "      <td>300</td>\n",
       "      <td>Sales</td>\n",
       "      <td>26</td>\n",
       "      <td>3</td>\n",
       "      <td>Marketing</td>\n",
       "      <td>1</td>\n",
       "      <td>...</td>\n",
       "      <td>2</td>\n",
       "      <td>80</td>\n",
       "      <td>1</td>\n",
       "      <td>8</td>\n",
       "      <td>3</td>\n",
       "      <td>2</td>\n",
       "      <td>7</td>\n",
       "      <td>7</td>\n",
       "      <td>7</td>\n",
       "      <td>5</td>\n",
       "    </tr>\n",
       "    <tr>\n",
       "      <th>3</th>\n",
       "      <td>569</td>\n",
       "      <td>36</td>\n",
       "      <td>No</td>\n",
       "      <td>Non-Travel</td>\n",
       "      <td>1434</td>\n",
       "      <td>Sales</td>\n",
       "      <td>8</td>\n",
       "      <td>4</td>\n",
       "      <td>Life Sciences</td>\n",
       "      <td>1</td>\n",
       "      <td>...</td>\n",
       "      <td>2</td>\n",
       "      <td>80</td>\n",
       "      <td>0</td>\n",
       "      <td>10</td>\n",
       "      <td>1</td>\n",
       "      <td>3</td>\n",
       "      <td>10</td>\n",
       "      <td>7</td>\n",
       "      <td>0</td>\n",
       "      <td>9</td>\n",
       "    </tr>\n",
       "    <tr>\n",
       "      <th>4</th>\n",
       "      <td>911</td>\n",
       "      <td>25</td>\n",
       "      <td>Yes</td>\n",
       "      <td>Travel_Frequently</td>\n",
       "      <td>599</td>\n",
       "      <td>Sales</td>\n",
       "      <td>24</td>\n",
       "      <td>1</td>\n",
       "      <td>Life Sciences</td>\n",
       "      <td>1</td>\n",
       "      <td>...</td>\n",
       "      <td>4</td>\n",
       "      <td>80</td>\n",
       "      <td>0</td>\n",
       "      <td>1</td>\n",
       "      <td>4</td>\n",
       "      <td>3</td>\n",
       "      <td>1</td>\n",
       "      <td>0</td>\n",
       "      <td>1</td>\n",
       "      <td>0</td>\n",
       "    </tr>\n",
       "  </tbody>\n",
       "</table>\n",
       "<p>5 rows × 36 columns</p>\n",
       "</div>"
      ],
      "text/plain": [
       "   user_id  Age Attrition     BusinessTravel  DailyRate  \\\n",
       "0     1374   58        No      Travel_Rarely        605   \n",
       "1     1092   45        No      Travel_Rarely        950   \n",
       "2      768   40        No      Travel_Rarely        300   \n",
       "3      569   36        No         Non-Travel       1434   \n",
       "4      911   25       Yes  Travel_Frequently        599   \n",
       "\n",
       "               Department  DistanceFromHome  Education    EducationField  \\\n",
       "0                   Sales                21          3     Life Sciences   \n",
       "1  Research & Development                28          3  Technical Degree   \n",
       "2                   Sales                26          3         Marketing   \n",
       "3                   Sales                 8          4     Life Sciences   \n",
       "4                   Sales                24          1     Life Sciences   \n",
       "\n",
       "   EmployeeCount  ...  RelationshipSatisfaction  StandardHours  \\\n",
       "0              1  ...                         3             80   \n",
       "1              1  ...                         4             80   \n",
       "2              1  ...                         2             80   \n",
       "3              1  ...                         2             80   \n",
       "4              1  ...                         4             80   \n",
       "\n",
       "  StockOptionLevel  TotalWorkingYears  TrainingTimesLastYear  WorkLifeBalance  \\\n",
       "0                1                 29                      2                2   \n",
       "1                1                  8                      3                3   \n",
       "2                1                  8                      3                2   \n",
       "3                0                 10                      1                3   \n",
       "4                0                  1                      4                3   \n",
       "\n",
       "  YearsAtCompany  YearsInCurrentRole YearsSinceLastPromotion  \\\n",
       "0              1                   0                       0   \n",
       "1              5                   4                       0   \n",
       "2              7                   7                       7   \n",
       "3             10                   7                       0   \n",
       "4              1                   0                       1   \n",
       "\n",
       "   YearsWithCurrManager  \n",
       "0                     0  \n",
       "1                     3  \n",
       "2                     5  \n",
       "3                     9  \n",
       "4                     0  \n",
       "\n",
       "[5 rows x 36 columns]"
      ]
     },
     "execution_count": 3,
     "metadata": {},
     "output_type": "execute_result"
    }
   ],
   "source": [
    "train_Attrition.head()"
   ]
  },
  {
   "cell_type": "code",
   "execution_count": 4,
   "metadata": {},
   "outputs": [
    {
     "data": {
      "text/plain": [
       "Index(['user_id', 'Age', 'Attrition', 'BusinessTravel', 'DailyRate',\n",
       "       'Department', 'DistanceFromHome', 'Education', 'EducationField',\n",
       "       'EmployeeCount', 'EmployeeNumber', 'EnvironmentSatisfaction', 'Gender',\n",
       "       'HourlyRate', 'JobInvolvement', 'JobLevel', 'JobRole',\n",
       "       'JobSatisfaction', 'MaritalStatus', 'MonthlyIncome', 'MonthlyRate',\n",
       "       'NumCompaniesWorked', 'Over18', 'OverTime', 'PercentSalaryHike',\n",
       "       'PerformanceRating', 'RelationshipSatisfaction', 'StandardHours',\n",
       "       'StockOptionLevel', 'TotalWorkingYears', 'TrainingTimesLastYear',\n",
       "       'WorkLifeBalance', 'YearsAtCompany', 'YearsInCurrentRole',\n",
       "       'YearsSinceLastPromotion', 'YearsWithCurrManager'],\n",
       "      dtype='object')"
      ]
     },
     "execution_count": 4,
     "metadata": {},
     "output_type": "execute_result"
    }
   ],
   "source": [
    "train_Attrition.columns"
   ]
  },
  {
   "cell_type": "code",
   "execution_count": 5,
   "metadata": {},
   "outputs": [
    {
     "data": {
      "text/plain": [
       "{dtype('int64'): Index(['user_id', 'Age', 'DailyRate', 'DistanceFromHome', 'Education',\n",
       "        'EmployeeCount', 'EmployeeNumber', 'EnvironmentSatisfaction',\n",
       "        'HourlyRate', 'JobInvolvement', 'JobLevel', 'JobSatisfaction',\n",
       "        'MonthlyIncome', 'MonthlyRate', 'NumCompaniesWorked',\n",
       "        'PercentSalaryHike', 'PerformanceRating', 'RelationshipSatisfaction',\n",
       "        'StandardHours', 'StockOptionLevel', 'TotalWorkingYears',\n",
       "        'TrainingTimesLastYear', 'WorkLifeBalance', 'YearsAtCompany',\n",
       "        'YearsInCurrentRole', 'YearsSinceLastPromotion',\n",
       "        'YearsWithCurrManager'],\n",
       "       dtype='object'),\n",
       " dtype('O'): Index(['Attrition', 'BusinessTravel', 'Department', 'EducationField', 'Gender',\n",
       "        'JobRole', 'MaritalStatus', 'Over18', 'OverTime'],\n",
       "       dtype='object')}"
      ]
     },
     "execution_count": 5,
     "metadata": {},
     "output_type": "execute_result"
    }
   ],
   "source": [
    "# break down the columns by their type (i.e. int64, float64, object)\n",
    "train_Attrition.columns.to_series().groupby(train_Attrition.dtypes).groups"
   ]
  },
  {
   "cell_type": "code",
   "execution_count": 6,
   "metadata": {},
   "outputs": [
    {
     "name": "stdout",
     "output_type": "stream",
     "text": [
      "<class 'pandas.core.frame.DataFrame'>\n",
      "RangeIndex: 1176 entries, 0 to 1175\n",
      "Data columns (total 36 columns):\n",
      "user_id                     1176 non-null int64\n",
      "Age                         1176 non-null int64\n",
      "Attrition                   1176 non-null object\n",
      "BusinessTravel              1176 non-null object\n",
      "DailyRate                   1176 non-null int64\n",
      "Department                  1176 non-null object\n",
      "DistanceFromHome            1176 non-null int64\n",
      "Education                   1176 non-null int64\n",
      "EducationField              1176 non-null object\n",
      "EmployeeCount               1176 non-null int64\n",
      "EmployeeNumber              1176 non-null int64\n",
      "EnvironmentSatisfaction     1176 non-null int64\n",
      "Gender                      1176 non-null object\n",
      "HourlyRate                  1176 non-null int64\n",
      "JobInvolvement              1176 non-null int64\n",
      "JobLevel                    1176 non-null int64\n",
      "JobRole                     1176 non-null object\n",
      "JobSatisfaction             1176 non-null int64\n",
      "MaritalStatus               1176 non-null object\n",
      "MonthlyIncome               1176 non-null int64\n",
      "MonthlyRate                 1176 non-null int64\n",
      "NumCompaniesWorked          1176 non-null int64\n",
      "Over18                      1176 non-null object\n",
      "OverTime                    1176 non-null object\n",
      "PercentSalaryHike           1176 non-null int64\n",
      "PerformanceRating           1176 non-null int64\n",
      "RelationshipSatisfaction    1176 non-null int64\n",
      "StandardHours               1176 non-null int64\n",
      "StockOptionLevel            1176 non-null int64\n",
      "TotalWorkingYears           1176 non-null int64\n",
      "TrainingTimesLastYear       1176 non-null int64\n",
      "WorkLifeBalance             1176 non-null int64\n",
      "YearsAtCompany              1176 non-null int64\n",
      "YearsInCurrentRole          1176 non-null int64\n",
      "YearsSinceLastPromotion     1176 non-null int64\n",
      "YearsWithCurrManager        1176 non-null int64\n",
      "dtypes: int64(27), object(9)\n",
      "memory usage: 330.8+ KB\n"
     ]
    }
   ],
   "source": [
    "# Columns datatypes and missign values\n",
    "train_Attrition.info()"
   ]
  },
  {
   "cell_type": "markdown",
   "metadata": {},
   "source": [
    "## Numerical features overview"
   ]
  },
  {
   "cell_type": "code",
   "execution_count": 7,
   "metadata": {},
   "outputs": [
    {
     "data": {
      "text/html": [
       "<div>\n",
       "<style scoped>\n",
       "    .dataframe tbody tr th:only-of-type {\n",
       "        vertical-align: middle;\n",
       "    }\n",
       "\n",
       "    .dataframe tbody tr th {\n",
       "        vertical-align: top;\n",
       "    }\n",
       "\n",
       "    .dataframe thead th {\n",
       "        text-align: right;\n",
       "    }\n",
       "</style>\n",
       "<table border=\"1\" class=\"dataframe\">\n",
       "  <thead>\n",
       "    <tr style=\"text-align: right;\">\n",
       "      <th></th>\n",
       "      <th>user_id</th>\n",
       "      <th>Age</th>\n",
       "      <th>DailyRate</th>\n",
       "      <th>DistanceFromHome</th>\n",
       "      <th>Education</th>\n",
       "      <th>EmployeeCount</th>\n",
       "      <th>EmployeeNumber</th>\n",
       "      <th>EnvironmentSatisfaction</th>\n",
       "      <th>HourlyRate</th>\n",
       "      <th>JobInvolvement</th>\n",
       "      <th>...</th>\n",
       "      <th>RelationshipSatisfaction</th>\n",
       "      <th>StandardHours</th>\n",
       "      <th>StockOptionLevel</th>\n",
       "      <th>TotalWorkingYears</th>\n",
       "      <th>TrainingTimesLastYear</th>\n",
       "      <th>WorkLifeBalance</th>\n",
       "      <th>YearsAtCompany</th>\n",
       "      <th>YearsInCurrentRole</th>\n",
       "      <th>YearsSinceLastPromotion</th>\n",
       "      <th>YearsWithCurrManager</th>\n",
       "    </tr>\n",
       "  </thead>\n",
       "  <tbody>\n",
       "    <tr>\n",
       "      <th>count</th>\n",
       "      <td>1176.000000</td>\n",
       "      <td>1176.000000</td>\n",
       "      <td>1176.000000</td>\n",
       "      <td>1176.000000</td>\n",
       "      <td>1176.000000</td>\n",
       "      <td>1176.0</td>\n",
       "      <td>1176.000000</td>\n",
       "      <td>1176.000000</td>\n",
       "      <td>1176.000000</td>\n",
       "      <td>1176.000000</td>\n",
       "      <td>...</td>\n",
       "      <td>1176.000000</td>\n",
       "      <td>1176.0</td>\n",
       "      <td>1176.000000</td>\n",
       "      <td>1176.000000</td>\n",
       "      <td>1176.000000</td>\n",
       "      <td>1176.000000</td>\n",
       "      <td>1176.000000</td>\n",
       "      <td>1176.00000</td>\n",
       "      <td>1176.000000</td>\n",
       "      <td>1176.000000</td>\n",
       "    </tr>\n",
       "    <tr>\n",
       "      <th>mean</th>\n",
       "      <td>736.124150</td>\n",
       "      <td>36.805272</td>\n",
       "      <td>802.033163</td>\n",
       "      <td>9.159864</td>\n",
       "      <td>2.918367</td>\n",
       "      <td>1.0</td>\n",
       "      <td>1026.960034</td>\n",
       "      <td>2.750850</td>\n",
       "      <td>65.130102</td>\n",
       "      <td>2.724490</td>\n",
       "      <td>...</td>\n",
       "      <td>2.714286</td>\n",
       "      <td>80.0</td>\n",
       "      <td>0.805272</td>\n",
       "      <td>11.161565</td>\n",
       "      <td>2.767007</td>\n",
       "      <td>2.764456</td>\n",
       "      <td>6.982143</td>\n",
       "      <td>4.19898</td>\n",
       "      <td>2.160714</td>\n",
       "      <td>4.098639</td>\n",
       "    </tr>\n",
       "    <tr>\n",
       "      <th>std</th>\n",
       "      <td>419.336964</td>\n",
       "      <td>9.065549</td>\n",
       "      <td>405.946729</td>\n",
       "      <td>8.137224</td>\n",
       "      <td>1.009809</td>\n",
       "      <td>0.0</td>\n",
       "      <td>594.763609</td>\n",
       "      <td>1.096221</td>\n",
       "      <td>20.294326</td>\n",
       "      <td>0.715027</td>\n",
       "      <td>...</td>\n",
       "      <td>1.080583</td>\n",
       "      <td>0.0</td>\n",
       "      <td>0.865611</td>\n",
       "      <td>7.747576</td>\n",
       "      <td>1.250756</td>\n",
       "      <td>0.713251</td>\n",
       "      <td>6.094338</td>\n",
       "      <td>3.63124</td>\n",
       "      <td>3.208052</td>\n",
       "      <td>3.564190</td>\n",
       "    </tr>\n",
       "    <tr>\n",
       "      <th>min</th>\n",
       "      <td>0.000000</td>\n",
       "      <td>18.000000</td>\n",
       "      <td>104.000000</td>\n",
       "      <td>1.000000</td>\n",
       "      <td>1.000000</td>\n",
       "      <td>1.0</td>\n",
       "      <td>1.000000</td>\n",
       "      <td>1.000000</td>\n",
       "      <td>30.000000</td>\n",
       "      <td>1.000000</td>\n",
       "      <td>...</td>\n",
       "      <td>1.000000</td>\n",
       "      <td>80.0</td>\n",
       "      <td>0.000000</td>\n",
       "      <td>0.000000</td>\n",
       "      <td>0.000000</td>\n",
       "      <td>1.000000</td>\n",
       "      <td>0.000000</td>\n",
       "      <td>0.00000</td>\n",
       "      <td>0.000000</td>\n",
       "      <td>0.000000</td>\n",
       "    </tr>\n",
       "    <tr>\n",
       "      <th>25%</th>\n",
       "      <td>374.750000</td>\n",
       "      <td>30.000000</td>\n",
       "      <td>463.500000</td>\n",
       "      <td>2.000000</td>\n",
       "      <td>2.000000</td>\n",
       "      <td>1.0</td>\n",
       "      <td>498.750000</td>\n",
       "      <td>2.000000</td>\n",
       "      <td>48.000000</td>\n",
       "      <td>2.000000</td>\n",
       "      <td>...</td>\n",
       "      <td>2.000000</td>\n",
       "      <td>80.0</td>\n",
       "      <td>0.000000</td>\n",
       "      <td>6.000000</td>\n",
       "      <td>2.000000</td>\n",
       "      <td>2.000000</td>\n",
       "      <td>3.000000</td>\n",
       "      <td>2.00000</td>\n",
       "      <td>0.000000</td>\n",
       "      <td>2.000000</td>\n",
       "    </tr>\n",
       "    <tr>\n",
       "      <th>50%</th>\n",
       "      <td>742.500000</td>\n",
       "      <td>36.000000</td>\n",
       "      <td>805.500000</td>\n",
       "      <td>7.000000</td>\n",
       "      <td>3.000000</td>\n",
       "      <td>1.0</td>\n",
       "      <td>1031.000000</td>\n",
       "      <td>3.000000</td>\n",
       "      <td>65.000000</td>\n",
       "      <td>3.000000</td>\n",
       "      <td>...</td>\n",
       "      <td>3.000000</td>\n",
       "      <td>80.0</td>\n",
       "      <td>1.000000</td>\n",
       "      <td>10.000000</td>\n",
       "      <td>3.000000</td>\n",
       "      <td>3.000000</td>\n",
       "      <td>5.000000</td>\n",
       "      <td>3.00000</td>\n",
       "      <td>1.000000</td>\n",
       "      <td>3.000000</td>\n",
       "    </tr>\n",
       "    <tr>\n",
       "      <th>75%</th>\n",
       "      <td>1101.250000</td>\n",
       "      <td>42.250000</td>\n",
       "      <td>1162.000000</td>\n",
       "      <td>14.000000</td>\n",
       "      <td>4.000000</td>\n",
       "      <td>1.0</td>\n",
       "      <td>1555.250000</td>\n",
       "      <td>4.000000</td>\n",
       "      <td>82.250000</td>\n",
       "      <td>3.000000</td>\n",
       "      <td>...</td>\n",
       "      <td>4.000000</td>\n",
       "      <td>80.0</td>\n",
       "      <td>1.000000</td>\n",
       "      <td>15.000000</td>\n",
       "      <td>3.000000</td>\n",
       "      <td>3.000000</td>\n",
       "      <td>9.000000</td>\n",
       "      <td>7.00000</td>\n",
       "      <td>2.250000</td>\n",
       "      <td>7.000000</td>\n",
       "    </tr>\n",
       "    <tr>\n",
       "      <th>max</th>\n",
       "      <td>1469.000000</td>\n",
       "      <td>60.000000</td>\n",
       "      <td>1499.000000</td>\n",
       "      <td>29.000000</td>\n",
       "      <td>5.000000</td>\n",
       "      <td>1.0</td>\n",
       "      <td>2068.000000</td>\n",
       "      <td>4.000000</td>\n",
       "      <td>100.000000</td>\n",
       "      <td>4.000000</td>\n",
       "      <td>...</td>\n",
       "      <td>4.000000</td>\n",
       "      <td>80.0</td>\n",
       "      <td>3.000000</td>\n",
       "      <td>40.000000</td>\n",
       "      <td>6.000000</td>\n",
       "      <td>4.000000</td>\n",
       "      <td>40.000000</td>\n",
       "      <td>18.00000</td>\n",
       "      <td>15.000000</td>\n",
       "      <td>17.000000</td>\n",
       "    </tr>\n",
       "  </tbody>\n",
       "</table>\n",
       "<p>8 rows × 27 columns</p>\n",
       "</div>"
      ],
      "text/plain": [
       "           user_id          Age    DailyRate  DistanceFromHome    Education  \\\n",
       "count  1176.000000  1176.000000  1176.000000       1176.000000  1176.000000   \n",
       "mean    736.124150    36.805272   802.033163          9.159864     2.918367   \n",
       "std     419.336964     9.065549   405.946729          8.137224     1.009809   \n",
       "min       0.000000    18.000000   104.000000          1.000000     1.000000   \n",
       "25%     374.750000    30.000000   463.500000          2.000000     2.000000   \n",
       "50%     742.500000    36.000000   805.500000          7.000000     3.000000   \n",
       "75%    1101.250000    42.250000  1162.000000         14.000000     4.000000   \n",
       "max    1469.000000    60.000000  1499.000000         29.000000     5.000000   \n",
       "\n",
       "       EmployeeCount  EmployeeNumber  EnvironmentSatisfaction   HourlyRate  \\\n",
       "count         1176.0     1176.000000              1176.000000  1176.000000   \n",
       "mean             1.0     1026.960034                 2.750850    65.130102   \n",
       "std              0.0      594.763609                 1.096221    20.294326   \n",
       "min              1.0        1.000000                 1.000000    30.000000   \n",
       "25%              1.0      498.750000                 2.000000    48.000000   \n",
       "50%              1.0     1031.000000                 3.000000    65.000000   \n",
       "75%              1.0     1555.250000                 4.000000    82.250000   \n",
       "max              1.0     2068.000000                 4.000000   100.000000   \n",
       "\n",
       "       JobInvolvement  ...  RelationshipSatisfaction  StandardHours  \\\n",
       "count     1176.000000  ...               1176.000000         1176.0   \n",
       "mean         2.724490  ...                  2.714286           80.0   \n",
       "std          0.715027  ...                  1.080583            0.0   \n",
       "min          1.000000  ...                  1.000000           80.0   \n",
       "25%          2.000000  ...                  2.000000           80.0   \n",
       "50%          3.000000  ...                  3.000000           80.0   \n",
       "75%          3.000000  ...                  4.000000           80.0   \n",
       "max          4.000000  ...                  4.000000           80.0   \n",
       "\n",
       "       StockOptionLevel  TotalWorkingYears  TrainingTimesLastYear  \\\n",
       "count       1176.000000        1176.000000            1176.000000   \n",
       "mean           0.805272          11.161565               2.767007   \n",
       "std            0.865611           7.747576               1.250756   \n",
       "min            0.000000           0.000000               0.000000   \n",
       "25%            0.000000           6.000000               2.000000   \n",
       "50%            1.000000          10.000000               3.000000   \n",
       "75%            1.000000          15.000000               3.000000   \n",
       "max            3.000000          40.000000               6.000000   \n",
       "\n",
       "       WorkLifeBalance  YearsAtCompany  YearsInCurrentRole  \\\n",
       "count      1176.000000     1176.000000          1176.00000   \n",
       "mean          2.764456        6.982143             4.19898   \n",
       "std           0.713251        6.094338             3.63124   \n",
       "min           1.000000        0.000000             0.00000   \n",
       "25%           2.000000        3.000000             2.00000   \n",
       "50%           3.000000        5.000000             3.00000   \n",
       "75%           3.000000        9.000000             7.00000   \n",
       "max           4.000000       40.000000            18.00000   \n",
       "\n",
       "       YearsSinceLastPromotion  YearsWithCurrManager  \n",
       "count              1176.000000           1176.000000  \n",
       "mean                  2.160714              4.098639  \n",
       "std                   3.208052              3.564190  \n",
       "min                   0.000000              0.000000  \n",
       "25%                   0.000000              2.000000  \n",
       "50%                   1.000000              3.000000  \n",
       "75%                   2.250000              7.000000  \n",
       "max                  15.000000             17.000000  \n",
       "\n",
       "[8 rows x 27 columns]"
      ]
     },
     "execution_count": 7,
     "metadata": {},
     "output_type": "execute_result"
    }
   ],
   "source": [
    "train_Attrition.describe()"
   ]
  },
  {
   "cell_type": "code",
   "execution_count": 8,
   "metadata": {},
   "outputs": [
    {
     "data": {
      "text/plain": [
       "<Figure size 2000x2000 with 30 Axes>"
      ]
     },
     "metadata": {},
     "output_type": "display_data"
    }
   ],
   "source": [
    "import matplotlib.pyplot as plt\n",
    "train_Attrition.hist(figsize=(20,20))\n",
    "plt.show()"
   ]
  },
  {
   "cell_type": "markdown",
   "metadata": {},
   "source": [
    "## Feature distribution by target attribute"
   ]
  },
  {
   "cell_type": "code",
   "execution_count": 9,
   "metadata": {},
   "outputs": [
    {
     "name": "stdout",
     "output_type": "stream",
     "text": [
      "Ex-exmployees: average age = 33.2 years old and standard deviation = 9.6\n",
      "Current exmployees: average age = 37.5 years old and standard deviation = 8.8\n"
     ]
    }
   ],
   "source": [
    "from scipy.stats import norm, skew\n",
    "(a, b) = norm.fit(train_Attrition.loc[train_Attrition['Attrition'] == 'Yes', 'Age'])\n",
    "print('Ex-exmployees: average age = {:.1f} years old and standard deviation = {:.1f}'.format(a, b))\n",
    "(c, d) = norm.fit(train_Attrition.loc[train_Attrition['Attrition'] == 'No', 'Age'])\n",
    "print('Current exmployees: average age = {:.1f} years old and standard deviation = {:.1f}'.format(c, d))"
   ]
  },
  {
   "cell_type": "code",
   "execution_count": 10,
   "metadata": {},
   "outputs": [
    {
     "data": {
      "text/plain": [
       "Text(0.5, 1.0, 'Age Distribution in Percent by Attrition Status')"
      ]
     },
     "execution_count": 10,
     "metadata": {},
     "output_type": "execute_result"
    },
    {
     "data": {
      "image/png": "[encoded data removed]",
      "text/plain": [
       "<Figure size 1080x432 with 1 Axes>"
      ]
     },
     "metadata": {
      "needs_background": "light"
     },
     "output_type": "display_data"
    }
   ],
   "source": [
    "# create a kernel density estimation (KDE) plot colored by the value of the target. \n",
    "# A kernel density estimation (KDE) is a non-parametric way to estimate the probability density function of a random variable. \n",
    "# It will allow us to identify if there is a correlation between the Age of the Client and their ability to pay it back.\n",
    "import seaborn as sns\n",
    "plt.figure(figsize=(15,6))\n",
    "#plt.style.use('seaborn-colorblind')\n",
    "plt.grid(True, alpha=0.5)\n",
    "sns.kdeplot(train_Attrition.loc[train_Attrition['Attrition'] == 'No', 'Age'], label = 'Active Employee')\n",
    "sns.kdeplot(train_Attrition.loc[train_Attrition['Attrition'] == 'Yes', 'Age'], label = 'Ex-Employees')\n",
    "plt.xlim(left=18, right=60)\n",
    "plt.xlabel('Age (years)')\n",
    "plt.ylabel('Density')\n",
    "plt.title('Age Distribution in Percent by Attrition Status')"
   ]
  },
  {
   "cell_type": "code",
   "execution_count": 11,
   "metadata": {},
   "outputs": [],
   "source": [
    "# the normalized % of Leavers for each Education Field"
   ]
  },
  {
   "cell_type": "code",
   "execution_count": 12,
   "metadata": {},
   "outputs": [
    {
     "data": {
      "text/plain": [
       "Life Sciences       490\n",
       "Medical             372\n",
       "Marketing           124\n",
       "Technical Degree    107\n",
       "Other                60\n",
       "Human Resources      23\n",
       "Name: EducationField, dtype: int64"
      ]
     },
     "execution_count": 12,
     "metadata": {},
     "output_type": "execute_result"
    }
   ],
   "source": [
    "train_Attrition['EducationField'].value_counts()"
   ]
  },
  {
   "cell_type": "code",
   "execution_count": 13,
   "metadata": {},
   "outputs": [],
   "source": [
    "df_EducationField = pd.DataFrame(columns=[\"Field\", \"% of Leavers\"])\n",
    "i=0\n",
    "for field in list(train_Attrition['EducationField'].unique()):\n",
    "    ratio = train_Attrition[(train_Attrition['EducationField']==field)&(train_Attrition['Attrition']==\"Yes\")].shape[0] / train_Attrition[train_Attrition['EducationField']==field].shape[0]\n",
    "    df_EducationField.loc[i] = (field, ratio*100)\n",
    "    i += 1\n",
    "    #print(\"In {}, the ratio of leavers is {:.2f}%\".format(field, ratio*100))    \n",
    "df_EF = df_EducationField.groupby(by=\"Field\").sum()"
   ]
  },
  {
   "cell_type": "code",
   "execution_count": 14,
   "metadata": {},
   "outputs": [
    {
     "name": "stdout",
     "output_type": "stream",
     "text": [
      "                  % of Leavers\n",
      "Field                         \n",
      "Human Resources      30.434783\n",
      "Life Sciences        13.877551\n",
      "Marketing            23.387097\n",
      "Medical              12.634409\n",
      "Other                16.666667\n",
      "Technical Degree     25.233645\n"
     ]
    }
   ],
   "source": [
    "print(df_EF)"
   ]
  },
  {
   "cell_type": "code",
   "execution_count": 15,
   "metadata": {},
   "outputs": [
    {
     "data": {
      "text/plain": [
       "Male      713\n",
       "Female    463\n",
       "Name: Gender, dtype: int64"
      ]
     },
     "execution_count": 15,
     "metadata": {},
     "output_type": "execute_result"
    }
   ],
   "source": [
    "# Gender of employees\n",
    "train_Attrition['Gender'].value_counts()"
   ]
  },
  {
   "cell_type": "code",
   "execution_count": 16,
   "metadata": {},
   "outputs": [
    {
     "name": "stdout",
     "output_type": "stream",
     "text": [
      "Normalised gender distribution of ex-employees in the dataset: Male = 17.1%; Female 14.3%.\n"
     ]
    }
   ],
   "source": [
    "print(\"Normalised gender distribution of ex-employees in the dataset: Male = {:.1f}%; Female {:.1f}%.\".format(\n",
    "(train_Attrition[(train_Attrition['Attrition'] == 'Yes') & (train_Attrition['Gender'] == 'Male')].shape[0] / train_Attrition[train_Attrition['Gender'] == 'Male'].shape[0])*100, (train_Attrition[(train_Attrition['Attrition'] == 'Yes') & (train_Attrition['Gender'] == 'Female')].shape[0] / train_Attrition[train_Attrition['Gender'] == 'Female'].shape[0])*100)\n",
    ")"
   ]
  },
  {
   "cell_type": "code",
   "execution_count": 17,
   "metadata": {},
   "outputs": [
    {
     "name": "stdout",
     "output_type": "stream",
     "text": [
      "        % of Leavers\n",
      "Gender              \n",
      "Female     14.254860\n",
      "Male       17.110799\n"
     ]
    }
   ],
   "source": [
    "df_Gender = pd.DataFrame(columns=[\"Gender\", \"% of Leavers\"])\n",
    "i=0\n",
    "for field in list(train_Attrition['Gender'].unique()):\n",
    "    ratio = train_Attrition[(train_Attrition['Gender']==field)&(train_Attrition['Attrition']==\"Yes\")].shape[0] / train_Attrition[train_Attrition['Gender']==field].shape[0]\n",
    "    df_Gender.loc[i] = (field, ratio*100)\n",
    "    i += 1\n",
    "    #print(\"In {}, the ratio of leavers is {:.2f}%\".format(field, ratio*100))    \n",
    "df_G = df_Gender.groupby(by=\"Gender\").sum()\n",
    "print(df_G)"
   ]
  },
  {
   "cell_type": "code",
   "execution_count": 18,
   "metadata": {},
   "outputs": [
    {
     "data": {
      "text/plain": [
       "Married     524\n",
       "Single      386\n",
       "Divorced    266\n",
       "Name: MaritalStatus, dtype: int64"
      ]
     },
     "execution_count": 18,
     "metadata": {},
     "output_type": "execute_result"
    }
   ],
   "source": [
    "# Marital Status of employees\n",
    "train_Attrition['MaritalStatus'].value_counts()"
   ]
  },
  {
   "cell_type": "code",
   "execution_count": 19,
   "metadata": {},
   "outputs": [
    {
     "name": "stdout",
     "output_type": "stream",
     "text": [
      "                % of Leavers\n",
      "Marital Status              \n",
      "Divorced           10.526316\n",
      "Married            12.213740\n",
      "Single             24.870466\n"
     ]
    }
   ],
   "source": [
    "df_Marital = pd.DataFrame(columns=[\"Marital Status\", \"% of Leavers\"])\n",
    "i=0\n",
    "for field in list(train_Attrition['MaritalStatus'].unique()):\n",
    "    ratio = train_Attrition[(train_Attrition['MaritalStatus']==field)&(train_Attrition['Attrition']==\"Yes\")].shape[0] / train_Attrition[train_Attrition['MaritalStatus']==field].shape[0]\n",
    "    df_Marital.loc[i] = (field, ratio*100)\n",
    "    i += 1\n",
    "    #print(\"In {}, the ratio of leavers is {:.2f}%\".format(field, ratio*100))    \n",
    "df_MF = df_Marital.groupby(by=\"Marital Status\").sum()\n",
    "print(df_MF)"
   ]
  },
  {
   "cell_type": "code",
   "execution_count": 20,
   "metadata": {},
   "outputs": [
    {
     "name": "stdout",
     "output_type": "stream",
     "text": [
      "Distance from home for employees to get to work is from 1 to 29 miles.\n"
     ]
    }
   ],
   "source": [
    "# Distance from Home\n",
    "print(\"Distance from home for employees to get to work is from {} to {} miles.\".format(train_Attrition['DistanceFromHome'].min(),\n",
    "                                                                                       train_Attrition['DistanceFromHome'].max()))"
   ]
  },
  {
   "cell_type": "code",
   "execution_count": 21,
   "metadata": {},
   "outputs": [
    {
     "name": "stdout",
     "output_type": "stream",
     "text": [
      "Average distance from home for currently active employees: 8.90 miles and ex-employees: 10.51 miles\n"
     ]
    }
   ],
   "source": [
    "print('Average distance from home for currently active employees: {:.2f} miles and ex-employees: {:.2f} miles'.format(\n",
    "    train_Attrition[train_Attrition['Attrition'] == 'No']['DistanceFromHome'].mean(), train_Attrition[train_Attrition['Attrition'] == 'Yes']['DistanceFromHome'].mean()))"
   ]
  },
  {
   "cell_type": "code",
   "execution_count": 22,
   "metadata": {},
   "outputs": [
    {
     "data": {
      "image/png": "[encoded data removed]",
      "text/plain": [
       "<Figure size 1080x432 with 1 Axes>"
      ]
     },
     "metadata": {
      "needs_background": "light"
     },
     "output_type": "display_data"
    }
   ],
   "source": [
    "plt.figure(figsize=(15,6))\n",
    "plt.style.use('seaborn-colorblind')\n",
    "plt.grid(True, alpha=0.5)\n",
    "sns.kdeplot(train_Attrition.loc[train_Attrition['Attrition'] == 'No', 'DistanceFromHome'], label = 'Active Employee')\n",
    "sns.kdeplot(train_Attrition.loc[train_Attrition['Attrition'] == 'Yes', 'DistanceFromHome'], label = 'Ex-Employees')\n",
    "plt.xlabel('DistanceFromHome')\n",
    "plt.xlim(left=0)\n",
    "plt.ylabel('Density')\n",
    "plt.title('Distance From Home Distribution in Percent by Attrition Status');"
   ]
  },
  {
   "cell_type": "code",
   "execution_count": 23,
   "metadata": {},
   "outputs": [
    {
     "data": {
      "text/plain": [
       "Research & Development    772\n",
       "Sales                     351\n",
       "Human Resources            53\n",
       "Name: Department, dtype: int64"
      ]
     },
     "execution_count": 23,
     "metadata": {},
     "output_type": "execute_result"
    }
   ],
   "source": [
    "# The organisation consists of several departments\n",
    "train_Attrition['Department'].value_counts()"
   ]
  },
  {
   "cell_type": "code",
   "execution_count": 24,
   "metadata": {},
   "outputs": [
    {
     "name": "stdout",
     "output_type": "stream",
     "text": [
      "                        % of Leavers\n",
      "Department                          \n",
      "Human Resources            20.754717\n",
      "Research & Development     13.601036\n",
      "Sales                      20.512821\n"
     ]
    }
   ],
   "source": [
    "df_Department = pd.DataFrame(columns=[\"Department\", \"% of Leavers\"])\n",
    "i=0\n",
    "for field in list(train_Attrition['Department'].unique()):\n",
    "    ratio = train_Attrition[(train_Attrition['Department']==field)&(train_Attrition['Attrition']==\"Yes\")].shape[0] / train_Attrition[train_Attrition['Department']==field].shape[0]\n",
    "    df_Department.loc[i] = (field, ratio*100)\n",
    "    i += 1\n",
    "    #print(\"In {}, the ratio of leavers is {:.2f}%\".format(field, ratio*100))    \n",
    "df_DF = df_Department.groupby(by=\"Department\").sum()\n",
    "print(df_DF)"
   ]
  },
  {
   "cell_type": "code",
   "execution_count": 25,
   "metadata": {},
   "outputs": [
    {
     "data": {
      "text/plain": [
       "Travel_Rarely        830\n",
       "Travel_Frequently    220\n",
       "Non-Travel           126\n",
       "Name: BusinessTravel, dtype: int64"
      ]
     },
     "execution_count": 25,
     "metadata": {},
     "output_type": "execute_result"
    }
   ],
   "source": [
    "# Employees have different business travel commitmnent depending on their roles and level in the organisation\n",
    "train_Attrition['BusinessTravel'].value_counts()"
   ]
  },
  {
   "cell_type": "code",
   "execution_count": 26,
   "metadata": {},
   "outputs": [
    {
     "name": "stdout",
     "output_type": "stream",
     "text": [
      "                   % of Leavers\n",
      "Business Travel                \n",
      "Non-Travel             7.142857\n",
      "Travel_Frequently     25.454545\n",
      "Travel_Rarely         14.819277\n"
     ]
    }
   ],
   "source": [
    "df_BusinessTravel = pd.DataFrame(columns=[\"Business Travel\", \"% of Leavers\"])\n",
    "i=0\n",
    "for field in list(train_Attrition['BusinessTravel'].unique()):\n",
    "    ratio = train_Attrition[(train_Attrition['BusinessTravel']==field)&(train_Attrition['Attrition']==\"Yes\")].shape[0] / train_Attrition[train_Attrition['BusinessTravel']==field].shape[0]\n",
    "    df_BusinessTravel.loc[i] = (field, ratio*100)\n",
    "    i += 1\n",
    "    #print(\"In {}, the ratio of leavers is {:.2f}%\".format(field, ratio*100))    \n",
    "df_BT = df_BusinessTravel.groupby(by=\"Business Travel\").sum()\n",
    "print(df_BT)"
   ]
  },
  {
   "cell_type": "code",
   "execution_count": 27,
   "metadata": {},
   "outputs": [
    {
     "data": {
      "text/plain": [
       "Sales Executive              258\n",
       "Research Scientist           240\n",
       "Laboratory Technician        210\n",
       "Manufacturing Director       117\n",
       "Healthcare Representative     98\n",
       "Manager                       81\n",
       "Sales Representative          66\n",
       "Research Director             63\n",
       "Human Resources               43\n",
       "Name: JobRole, dtype: int64"
      ]
     },
     "execution_count": 27,
     "metadata": {},
     "output_type": "execute_result"
    }
   ],
   "source": [
    "# Employees in the database have several roles on-file\n",
    "train_Attrition['JobRole'].value_counts()"
   ]
  },
  {
   "cell_type": "code",
   "execution_count": 28,
   "metadata": {},
   "outputs": [
    {
     "name": "stdout",
     "output_type": "stream",
     "text": [
      "                           % of Leavers\n",
      "Job Role                               \n",
      "Healthcare Representative      8.163265\n",
      "Human Resources               25.581395\n",
      "Laboratory Technician         24.285714\n",
      "Manager                        4.938272\n",
      "Manufacturing Director         5.128205\n",
      "Research Director              1.587302\n",
      "Research Scientist            15.000000\n",
      "Sales Executive               16.666667\n",
      "Sales Representative          42.424242\n"
     ]
    }
   ],
   "source": [
    "df_JobRole = pd.DataFrame(columns=[\"Job Role\", \"% of Leavers\"])\n",
    "i=0\n",
    "for field in list(train_Attrition['JobRole'].unique()):\n",
    "    ratio = train_Attrition[(train_Attrition['JobRole']==field)&(train_Attrition['Attrition']==\"Yes\")].shape[0] / train_Attrition[train_Attrition['JobRole']==field].shape[0]\n",
    "    df_JobRole.loc[i] = (field, ratio*100)\n",
    "    i += 1\n",
    "    #print(\"In {}, the ratio of leavers is {:.2f}%\".format(field, ratio*100))    \n",
    "df_JR = df_JobRole.groupby(by=\"Job Role\").sum()\n",
    "print(df_JR)"
   ]
  },
  {
   "cell_type": "code",
   "execution_count": 29,
   "metadata": {},
   "outputs": [
    {
     "data": {
      "text/plain": [
       "1    442\n",
       "2    420\n",
       "3    174\n",
       "4     87\n",
       "5     53\n",
       "Name: JobLevel, dtype: int64"
      ]
     },
     "execution_count": 29,
     "metadata": {},
     "output_type": "execute_result"
    }
   ],
   "source": [
    "# Employees have an assigned level within the organisation which varies from 1 (staff) to 5 (managerial/director). \n",
    "# Employees with an assigned Job Level of \"1\" show the largest normalized proportion of Leavers.\n",
    "train_Attrition['JobLevel'].value_counts()"
   ]
  },
  {
   "cell_type": "code",
   "execution_count": 30,
   "metadata": {},
   "outputs": [
    {
     "name": "stdout",
     "output_type": "stream",
     "text": [
      "           % of Leavers\n",
      "Job Level              \n",
      "1.0           26.470588\n",
      "2.0            8.571429\n",
      "3.0           16.091954\n",
      "4.0            4.597701\n",
      "5.0            5.660377\n"
     ]
    }
   ],
   "source": [
    "df_JobLevel = pd.DataFrame(columns=[\"Job Level\", \"% of Leavers\"])\n",
    "i=0\n",
    "for field in list(train_Attrition['JobLevel'].unique()):\n",
    "    ratio = train_Attrition[(train_Attrition['JobLevel']==field)&(train_Attrition['Attrition']==\"Yes\")].shape[0] / train_Attrition[train_Attrition['JobLevel']==field].shape[0]\n",
    "    df_JobLevel.loc[i] = (field, ratio*100)\n",
    "    i += 1\n",
    "    #print(\"In {}, the ratio of leavers is {:.2f}%\".format(field, ratio*100))    \n",
    "df_JL = df_JobLevel.groupby(by=\"Job Level\").sum()\n",
    "print(df_JL)"
   ]
  },
  {
   "cell_type": "code",
   "execution_count": 31,
   "metadata": {},
   "outputs": [
    {
     "data": {
      "text/plain": [
       "3    687\n",
       "2    306\n",
       "4    116\n",
       "1     67\n",
       "Name: JobInvolvement, dtype: int64"
      ]
     },
     "execution_count": 31,
     "metadata": {},
     "output_type": "execute_result"
    }
   ],
   "source": [
    "# A ranking is associated to the employee's Job Involvement :1 'Low' 2 'Medium' 3 'High' 4 'Very High'. \n",
    "# I see employees with higher Job Involvement are less likely to leave.\n",
    "train_Attrition['JobInvolvement'].value_counts()"
   ]
  },
  {
   "cell_type": "code",
   "execution_count": 32,
   "metadata": {},
   "outputs": [
    {
     "name": "stdout",
     "output_type": "stream",
     "text": [
      "                 % of Leavers\n",
      "Job Involvement              \n",
      "1.0                 34.328358\n",
      "2.0                 17.320261\n",
      "3.0                 14.556041\n",
      "4.0                 10.344828\n"
     ]
    }
   ],
   "source": [
    "df_JobInvolvement = pd.DataFrame(columns=[\"Job Involvement\", \"% of Leavers\"])\n",
    "i=0\n",
    "for field in list(train_Attrition['JobInvolvement'].unique()):\n",
    "    ratio = train_Attrition[(train_Attrition['JobInvolvement']==field)&(train_Attrition['Attrition']==\"Yes\")].shape[0] / train_Attrition[train_Attrition['JobInvolvement']==field].shape[0]\n",
    "    df_JobInvolvement.loc[i] = (field, ratio*100)\n",
    "    i += 1\n",
    "    #print(\"In {}, the ratio of leavers is {:.2f}%\".format(field, ratio*100))    \n",
    "df_JI = df_JobInvolvement.groupby(by=\"Job Involvement\").sum()\n",
    "print(df_JI)"
   ]
  },
  {
   "cell_type": "code",
   "execution_count": 33,
   "metadata": {},
   "outputs": [
    {
     "name": "stdout",
     "output_type": "stream",
     "text": [
      "Number of training times last year varies from 0 to 6 years.\n"
     ]
    }
   ],
   "source": [
    "# The data indicates that employees may have access to some Training. \n",
    "# A feature indicates how many years it's been since the employee attended such training.\n",
    "print(\"Number of training times last year varies from {} to {} years.\".format(\n",
    "    train_Attrition['TrainingTimesLastYear'].min(), train_Attrition['TrainingTimesLastYear'].max()))"
   ]
  },
  {
   "cell_type": "code",
   "execution_count": 34,
   "metadata": {},
   "outputs": [
    {
     "data": {
      "image/png": "[encoded data removed]",
      "text/plain": [
       "<Figure size 1080x432 with 1 Axes>"
      ]
     },
     "metadata": {
      "needs_background": "light"
     },
     "output_type": "display_data"
    }
   ],
   "source": [
    "plt.figure(figsize=(15,6))\n",
    "plt.style.use('seaborn-colorblind')\n",
    "plt.grid(True, alpha=0.5)\n",
    "sns.kdeplot(train_Attrition.loc[train_Attrition['Attrition'] == 'No', 'TrainingTimesLastYear'], label = 'Active Employee')\n",
    "sns.kdeplot(train_Attrition.loc[train_Attrition['Attrition'] == 'Yes', 'TrainingTimesLastYear'], label = 'Ex-Employees')\n",
    "plt.xlabel('TrainingTimesLastYear')\n",
    "plt.ylabel('Density')\n",
    "plt.title('Training Times Last Year Distribution in Percent by Attrition Status');"
   ]
  },
  {
   "cell_type": "code",
   "execution_count": 35,
   "metadata": {},
   "outputs": [
    {
     "data": {
      "text/plain": [
       "1    417\n",
       "0    163\n",
       "3    125\n",
       "4    114\n",
       "2    107\n",
       "7     60\n",
       "6     58\n",
       "5     51\n",
       "9     46\n",
       "8     35\n",
       "Name: NumCompaniesWorked, dtype: int64"
      ]
     },
     "execution_count": 35,
     "metadata": {},
     "output_type": "execute_result"
    }
   ],
   "source": [
    "# There is a feature for the number of companies the employee has worked at.\n",
    "# 0 likely indicates that according to records, the employee has only worked at this company.\n",
    "train_Attrition['NumCompaniesWorked'].value_counts()"
   ]
  },
  {
   "cell_type": "code",
   "execution_count": 36,
   "metadata": {},
   "outputs": [
    {
     "name": "stdout",
     "output_type": "stream",
     "text": [
      "                      % of Leavers\n",
      "Num Companies Worked              \n",
      "0.0                      11.042945\n",
      "1.0                      19.664269\n",
      "2.0                      10.280374\n",
      "3.0                       8.000000\n",
      "4.0                      12.280702\n",
      "5.0                      25.490196\n",
      "6.0                      22.413793\n",
      "7.0                      18.333333\n",
      "8.0                      14.285714\n",
      "9.0                      23.913043\n"
     ]
    }
   ],
   "source": [
    "df_NumCompaniesWorked = pd.DataFrame(columns=[\"Num Companies Worked\", \"% of Leavers\"])\n",
    "i=0\n",
    "for field in list(train_Attrition['NumCompaniesWorked'].unique()):\n",
    "    ratio = train_Attrition[(train_Attrition['NumCompaniesWorked']==field)&(train_Attrition['Attrition']==\"Yes\")].shape[0] / train_Attrition[train_Attrition['NumCompaniesWorked']==field].shape[0]\n",
    "    df_NumCompaniesWorked.loc[i] = (field, ratio*100)\n",
    "    i += 1\n",
    "    #print(\"In {}, the ratio of leavers is {:.2f}%\".format(field, ratio*100))    \n",
    "df_NC = df_NumCompaniesWorked.groupby(by=\"Num Companies Worked\").sum()\n",
    "print(df_NC)"
   ]
  },
  {
   "cell_type": "code",
   "execution_count": 37,
   "metadata": {},
   "outputs": [
    {
     "name": "stdout",
     "output_type": "stream",
     "text": [
      "Number of Years at the company varies from 0 to 40 years.\n"
     ]
    }
   ],
   "source": [
    "# Years at the Company\n",
    "print(\"Number of Years at the company varies from {} to {} years.\".format(\n",
    "    train_Attrition['YearsAtCompany'].min(), train_Attrition['YearsAtCompany'].max()))"
   ]
  },
  {
   "cell_type": "code",
   "execution_count": 38,
   "metadata": {},
   "outputs": [
    {
     "data": {
      "text/plain": [
       "Text(0.5, 1.0, 'Years At Company in Percent by Attrition Status')"
      ]
     },
     "execution_count": 38,
     "metadata": {},
     "output_type": "execute_result"
    },
    {
     "data": {
      "image/png": "[encoded data removed]",
      "text/plain": [
       "<Figure size 1080x432 with 1 Axes>"
      ]
     },
     "metadata": {
      "needs_background": "light"
     },
     "output_type": "display_data"
    }
   ],
   "source": [
    "plt.figure(figsize=(15,6))\n",
    "plt.style.use('seaborn-colorblind')\n",
    "plt.grid(True, alpha=0.5)\n",
    "sns.kdeplot(train_Attrition.loc[train_Attrition['Attrition'] == 'No', 'YearsAtCompany'], label = 'Active Employee')\n",
    "sns.kdeplot(train_Attrition.loc[train_Attrition['Attrition'] == 'Yes', 'YearsAtCompany'], label = 'Ex-Employees')\n",
    "plt.xlabel('YearsAtCompany')\n",
    "plt.xlim(left=0)\n",
    "plt.ylabel('Density')\n",
    "plt.title('Years At Company in Percent by Attrition Status')"
   ]
  },
  {
   "cell_type": "code",
   "execution_count": 39,
   "metadata": {},
   "outputs": [
    {
     "name": "stdout",
     "output_type": "stream",
     "text": [
      "Number of Years in the current role varies from 0 to 18 years.\n"
     ]
    }
   ],
   "source": [
    "print(\"Number of Years in the current role varies from {} to {} years.\".format(\n",
    "    train_Attrition['YearsInCurrentRole'].min(), train_Attrition['YearsInCurrentRole'].max()))"
   ]
  },
  {
   "cell_type": "code",
   "execution_count": 40,
   "metadata": {},
   "outputs": [
    {
     "data": {
      "image/png": "[encoded data removed]",
      "text/plain": [
       "<Figure size 1080x432 with 1 Axes>"
      ]
     },
     "metadata": {
      "needs_background": "light"
     },
     "output_type": "display_data"
    }
   ],
   "source": [
    "plt.figure(figsize=(15,6))\n",
    "plt.style.use('seaborn-colorblind')\n",
    "plt.grid(True, alpha=0.5)\n",
    "sns.kdeplot(train_Attrition.loc[train_Attrition['Attrition'] == 'No', 'YearsInCurrentRole'], label = 'Active Employee')\n",
    "sns.kdeplot(train_Attrition.loc[train_Attrition['Attrition'] == 'Yes', 'YearsInCurrentRole'], label = 'Ex-Employees')\n",
    "plt.xlabel('YearsInCurrentRole')\n",
    "plt.xlim(left=0)\n",
    "plt.ylabel('Density')\n",
    "plt.title('Years In Current Role in Percent by Attrition Status');"
   ]
  },
  {
   "cell_type": "code",
   "execution_count": 41,
   "metadata": {},
   "outputs": [
    {
     "name": "stdout",
     "output_type": "stream",
     "text": [
      "Number of Years since last promotion varies from 0 to 15 years.\n"
     ]
    }
   ],
   "source": [
    "print(\"Number of Years since last promotion varies from {} to {} years.\".format(\n",
    "    train_Attrition['YearsSinceLastPromotion'].min(), train_Attrition['YearsSinceLastPromotion'].max()))"
   ]
  },
  {
   "cell_type": "code",
   "execution_count": 42,
   "metadata": {},
   "outputs": [
    {
     "data": {
      "image/png": "[encoded data removed]",
      "text/plain": [
       "<Figure size 1080x432 with 1 Axes>"
      ]
     },
     "metadata": {
      "needs_background": "light"
     },
     "output_type": "display_data"
    }
   ],
   "source": [
    "plt.figure(figsize=(15,6))\n",
    "plt.style.use('seaborn-colorblind')\n",
    "plt.grid(True, alpha=0.5)\n",
    "sns.kdeplot(train_Attrition.loc[train_Attrition['Attrition'] == 'No', 'YearsSinceLastPromotion'], label = 'Active Employee')\n",
    "sns.kdeplot(train_Attrition.loc[train_Attrition['Attrition'] == 'Yes', 'YearsSinceLastPromotion'], label = 'Ex-Employees')\n",
    "plt.xlabel('YearsSinceLastPromotion')\n",
    "plt.xlim(left=0)\n",
    "plt.ylabel('Density')\n",
    "plt.title('Years Since Last Promotion in Percent by Attrition Status');"
   ]
  },
  {
   "cell_type": "code",
   "execution_count": 43,
   "metadata": {},
   "outputs": [
    {
     "name": "stdout",
     "output_type": "stream",
     "text": [
      "Total working years varies from 0 to 40 years.\n"
     ]
    }
   ],
   "source": [
    "print(\"Total working years varies from {} to {} years.\".format(\n",
    "    train_Attrition['TotalWorkingYears'].min(), train_Attrition['TotalWorkingYears'].max()))"
   ]
  },
  {
   "cell_type": "code",
   "execution_count": 44,
   "metadata": {},
   "outputs": [
    {
     "data": {
      "image/png": "[encoded data removed]",
      "text/plain": [
       "<Figure size 1080x432 with 1 Axes>"
      ]
     },
     "metadata": {
      "needs_background": "light"
     },
     "output_type": "display_data"
    }
   ],
   "source": [
    "plt.figure(figsize=(15,6))\n",
    "plt.grid(True, alpha=0.5)\n",
    "sns.kdeplot(train_Attrition.loc[train_Attrition['Attrition'] == 'No', 'TotalWorkingYears'], label = 'Active Employee')\n",
    "sns.kdeplot(train_Attrition.loc[train_Attrition['Attrition'] == 'Yes', 'TotalWorkingYears'], label = 'Ex-Employees')\n",
    "plt.xlabel('TotalWorkingYears')\n",
    "plt.xlim(left=0)\n",
    "plt.ylabel('Density')\n",
    "plt.title('Total Working Years in Percent by Attrition Status');"
   ]
  },
  {
   "cell_type": "code",
   "execution_count": 45,
   "metadata": {},
   "outputs": [
    {
     "name": "stdout",
     "output_type": "stream",
     "text": [
      "Number of Years wit current manager varies from 0 to 17 years.\n"
     ]
    }
   ],
   "source": [
    "# Years With Current Manager\n",
    "print(\"Number of Years wit current manager varies from {} to {} years.\".format(\n",
    "    train_Attrition['YearsWithCurrManager'].min(), train_Attrition['YearsWithCurrManager'].max()))"
   ]
  },
  {
   "cell_type": "code",
   "execution_count": 46,
   "metadata": {},
   "outputs": [
    {
     "data": {
      "image/png": "[encoded data removed]",
      "text/plain": [
       "<Figure size 1080x432 with 1 Axes>"
      ]
     },
     "metadata": {
      "needs_background": "light"
     },
     "output_type": "display_data"
    }
   ],
   "source": [
    "plt.figure(figsize=(15,6))\n",
    "plt.style.use('seaborn-colorblind')\n",
    "plt.grid(True, alpha=0.5)\n",
    "sns.kdeplot(train_Attrition.loc[train_Attrition['Attrition'] == 'No', 'YearsWithCurrManager'], label = 'Active Employee')\n",
    "sns.kdeplot(train_Attrition.loc[train_Attrition['Attrition'] == 'Yes', 'YearsWithCurrManager'], label = 'Ex-Employees')\n",
    "plt.xlabel('YearsWithCurrManager')\n",
    "plt.xlim(left=0)\n",
    "plt.ylabel('Density')\n",
    "plt.title('Years With Curr Manager in Percent by Attrition Status');"
   ]
  },
  {
   "cell_type": "code",
   "execution_count": 47,
   "metadata": {},
   "outputs": [
    {
     "data": {
      "text/plain": [
       "3    714\n",
       "2    269\n",
       "4    126\n",
       "1     67\n",
       "Name: WorkLifeBalance, dtype: int64"
      ]
     },
     "execution_count": 47,
     "metadata": {},
     "output_type": "execute_result"
    }
   ],
   "source": [
    "# Work-Life Balance Score\n",
    "# A feature related to \"Work-Life Balance\" was captured as: 1 'Bad' 2 'Good' 3 'Better' 4 'Best'. \n",
    "# The data indicates that the largest normalised proportion of Leavers had \"Bad\" Work-Life Balance.\n",
    "train_Attrition['WorkLifeBalance'].value_counts()"
   ]
  },
  {
   "cell_type": "code",
   "execution_count": 48,
   "metadata": {},
   "outputs": [
    {
     "name": "stdout",
     "output_type": "stream",
     "text": [
      "                 % of Leavers\n",
      "WorkLifeBalance              \n",
      "1.0                 32.835821\n",
      "2.0                 15.985130\n",
      "3.0                 14.425770\n",
      "4.0                 15.873016\n"
     ]
    }
   ],
   "source": [
    "df_WorkLifeBalance = pd.DataFrame(columns=[\"WorkLifeBalance\", \"% of Leavers\"])\n",
    "i=0\n",
    "for field in list(train_Attrition['WorkLifeBalance'].unique()):\n",
    "    ratio = train_Attrition[(train_Attrition['WorkLifeBalance']==field)&(train_Attrition['Attrition']==\"Yes\")].shape[0] / train_Attrition[train_Attrition['WorkLifeBalance']==field].shape[0]\n",
    "    df_WorkLifeBalance.loc[i] = (field, ratio*100)\n",
    "    i += 1\n",
    "    #print(\"In {}, the ratio of leavers is {:.2f}%\".format(field, ratio*100))    \n",
    "df_WLB = df_WorkLifeBalance.groupby(by=\"WorkLifeBalance\").sum()\n",
    "print(df_WLB)"
   ]
  },
  {
   "cell_type": "code",
   "execution_count": 49,
   "metadata": {},
   "outputs": [
    {
     "data": {
      "text/plain": [
       "80    1176\n",
       "Name: StandardHours, dtype: int64"
      ]
     },
     "execution_count": 49,
     "metadata": {},
     "output_type": "execute_result"
    }
   ],
   "source": [
    "# All employees have a standard 80-hour work commitment\n",
    "train_Attrition['StandardHours'].value_counts()"
   ]
  },
  {
   "cell_type": "code",
   "execution_count": 50,
   "metadata": {},
   "outputs": [
    {
     "data": {
      "text/plain": [
       "No     853\n",
       "Yes    323\n",
       "Name: OverTime, dtype: int64"
      ]
     },
     "execution_count": 50,
     "metadata": {},
     "output_type": "execute_result"
    }
   ],
   "source": [
    "# Some employees have overtime commitments. \n",
    "# The data clearly show that there is significant larger portion of employees with OT that have left the company.\n",
    "train_Attrition['OverTime'].value_counts()"
   ]
  },
  {
   "cell_type": "code",
   "execution_count": 51,
   "metadata": {},
   "outputs": [
    {
     "name": "stdout",
     "output_type": "stream",
     "text": [
      "          % of Leavers\n",
      "OverTime              \n",
      "No           10.902696\n",
      "Yes          29.411765\n"
     ]
    }
   ],
   "source": [
    "df_OverTime = pd.DataFrame(columns=[\"OverTime\", \"% of Leavers\"])\n",
    "i=0\n",
    "for field in list(train_Attrition['OverTime'].unique()):\n",
    "    ratio = train_Attrition[(train_Attrition['OverTime']==field)&(train_Attrition['Attrition']==\"Yes\")].shape[0] / train_Attrition[train_Attrition['OverTime']==field].shape[0]\n",
    "    df_OverTime.loc[i] = (field, ratio*100)\n",
    "    i += 1\n",
    "    #print(\"In {}, the ratio of leavers is {:.2f}%\".format(field, ratio*100))    \n",
    "df_OT = df_OverTime.groupby(by=\"OverTime\").sum()\n",
    "print(df_OT)"
   ]
  },
  {
   "cell_type": "code",
   "execution_count": 52,
   "metadata": {},
   "outputs": [
    {
     "name": "stdout",
     "output_type": "stream",
     "text": [
      "Employee Hourly Rate varies from $30 to $100.\n"
     ]
    }
   ],
   "source": [
    "# Pay/Salary Employee Information\n",
    "print(\"Employee Hourly Rate varies from ${} to ${}.\".format(\n",
    "    train_Attrition['HourlyRate'].min(), train_Attrition['HourlyRate'].max()))"
   ]
  },
  {
   "cell_type": "code",
   "execution_count": 53,
   "metadata": {},
   "outputs": [
    {
     "name": "stdout",
     "output_type": "stream",
     "text": [
      "Employee Daily Rate varies from $104 to $1499.\n"
     ]
    }
   ],
   "source": [
    "print(\"Employee Daily Rate varies from ${} to ${}.\".format(\n",
    "    train_Attrition['DailyRate'].min(), train_Attrition['DailyRate'].max()))"
   ]
  },
  {
   "cell_type": "code",
   "execution_count": 54,
   "metadata": {},
   "outputs": [
    {
     "name": "stdout",
     "output_type": "stream",
     "text": [
      "Employee Monthly Rate varies from $2094 to $26999.\n"
     ]
    }
   ],
   "source": [
    "print(\"Employee Monthly Rate varies from ${} to ${}.\".format(\n",
    "    train_Attrition['MonthlyRate'].min(), train_Attrition['MonthlyRate'].max()))"
   ]
  },
  {
   "cell_type": "code",
   "execution_count": 55,
   "metadata": {},
   "outputs": [
    {
     "name": "stdout",
     "output_type": "stream",
     "text": [
      "Employee Monthly Income varies from $1009 to $19999.\n"
     ]
    }
   ],
   "source": [
    "print(\"Employee Monthly Income varies from ${} to ${}.\".format(\n",
    "    train_Attrition['MonthlyIncome'].min(), train_Attrition['MonthlyIncome'].max()))"
   ]
  },
  {
   "cell_type": "code",
   "execution_count": 56,
   "metadata": {},
   "outputs": [
    {
     "data": {
      "image/png": "[encoded data removed]",
      "text/plain": [
       "<Figure size 1080x432 with 1 Axes>"
      ]
     },
     "metadata": {
      "needs_background": "light"
     },
     "output_type": "display_data"
    }
   ],
   "source": [
    "plt.figure(figsize=(15,6))\n",
    "plt.style.use('seaborn-colorblind')\n",
    "plt.grid(True, alpha=0.5)\n",
    "sns.kdeplot(train_Attrition.loc[train_Attrition['Attrition'] == 'No', 'MonthlyIncome'], label = 'Active Employee')\n",
    "sns.kdeplot(train_Attrition.loc[train_Attrition['Attrition'] == 'Yes', 'MonthlyIncome'], label = 'Ex-Employees')\n",
    "plt.xlabel('Monthly Income')\n",
    "plt.xlim(left=0)\n",
    "plt.ylabel('Density')\n",
    "plt.title('Monthly Income in Percent by Attrition Status');"
   ]
  },
  {
   "cell_type": "code",
   "execution_count": 57,
   "metadata": {},
   "outputs": [
    {
     "name": "stdout",
     "output_type": "stream",
     "text": [
      "Percentage Salary Hikes varies from 11% to 25%.\n"
     ]
    }
   ],
   "source": [
    "print(\"Percentage Salary Hikes varies from {}% to {}%.\".format(\n",
    "    train_Attrition['PercentSalaryHike'].min(), train_Attrition['PercentSalaryHike'].max()))"
   ]
  },
  {
   "cell_type": "code",
   "execution_count": 58,
   "metadata": {},
   "outputs": [
    {
     "data": {
      "image/png": "[encoded data removed]",
      "text/plain": [
       "<Figure size 1080x432 with 1 Axes>"
      ]
     },
     "metadata": {
      "needs_background": "light"
     },
     "output_type": "display_data"
    }
   ],
   "source": [
    "plt.figure(figsize=(15,6))\n",
    "plt.style.use('seaborn-colorblind')\n",
    "plt.grid(True, alpha=0.5)\n",
    "sns.kdeplot(train_Attrition.loc[train_Attrition['Attrition'] == 'No', 'PercentSalaryHike'], label = 'Active Employee')\n",
    "sns.kdeplot(train_Attrition.loc[train_Attrition['Attrition'] == 'Yes', 'PercentSalaryHike'], label = 'Ex-Employees')\n",
    "plt.xlabel('PercentSalaryHike')\n",
    "plt.xlim(left=0)\n",
    "plt.ylabel('Density')\n",
    "plt.title('Percent Salary Hike in Percent by Attrition Status');"
   ]
  },
  {
   "cell_type": "code",
   "execution_count": 59,
   "metadata": {},
   "outputs": [
    {
     "name": "stdout",
     "output_type": "stream",
     "text": [
      "Stock Option Levels varies from 0 to 3.\n"
     ]
    }
   ],
   "source": [
    "print(\"Stock Option Levels varies from {} to {}.\".format(\n",
    "    train_Attrition['StockOptionLevel'].min(), train_Attrition['StockOptionLevel'].max()))"
   ]
  },
  {
   "cell_type": "code",
   "execution_count": 60,
   "metadata": {},
   "outputs": [
    {
     "name": "stdout",
     "output_type": "stream",
     "text": [
      "Normalised percentage of leavers by Stock Option Level: 1: 10.00%, 2: 2.13%, 3: 2.55%\n"
     ]
    }
   ],
   "source": [
    "print(\"Normalised percentage of leavers by Stock Option Level: 1: {:.2f}%, 2: {:.2f}%, 3: {:.2f}%\".format(\n",
    "    train_Attrition[(train_Attrition['Attrition'] == 'Yes') & (train_Attrition['StockOptionLevel'] == 1)\n",
    "          ].shape[0] / train_Attrition[train_Attrition['StockOptionLevel'] == 1].shape[0]*100,\n",
    "    train_Attrition[(train_Attrition['Attrition'] == 'Yes') & (train_Attrition['StockOptionLevel'] == 2)\n",
    "          ].shape[0] / train_Attrition[train_Attrition['StockOptionLevel'] == 1].shape[0]*100,\n",
    "    train_Attrition[(train_Attrition['Attrition'] == 'Yes') & (train_Attrition['StockOptionLevel'] == 3)].shape[0] / train_Attrition[train_Attrition['StockOptionLevel'] == 1].shape[0]*100))"
   ]
  },
  {
   "cell_type": "code",
   "execution_count": 61,
   "metadata": {},
   "outputs": [
    {
     "name": "stdout",
     "output_type": "stream",
     "text": [
      "                  % of Leavers\n",
      "StockOptionLevel              \n",
      "0.0                  23.611111\n",
      "1.0                  10.000000\n",
      "2.0                   7.751938\n",
      "3.0                  16.438356\n"
     ]
    }
   ],
   "source": [
    "df_StockOptionLevel = pd.DataFrame(columns=[\"StockOptionLevel\", \"% of Leavers\"])\n",
    "i=0\n",
    "for field in list(train_Attrition['StockOptionLevel'].unique()):\n",
    "    ratio = train_Attrition[(train_Attrition['StockOptionLevel']==field)&(train_Attrition['Attrition']==\"Yes\")].shape[0] / train_Attrition[train_Attrition['StockOptionLevel']==field].shape[0]\n",
    "    df_StockOptionLevel.loc[i] = (field, ratio*100)\n",
    "    i += 1\n",
    "    #print(\"In {}, the ratio of leavers is {:.2f}%\".format(field, ratio*100))    \n",
    "df_SOL = df_StockOptionLevel.groupby(by=\"StockOptionLevel\").sum()\n",
    "print(df_SOL)"
   ]
  },
  {
   "cell_type": "code",
   "execution_count": 62,
   "metadata": {},
   "outputs": [
    {
     "data": {
      "text/plain": [
       "4    373\n",
       "3    360\n",
       "1    223\n",
       "2    220\n",
       "Name: EnvironmentSatisfaction, dtype: int64"
      ]
     },
     "execution_count": 62,
     "metadata": {},
     "output_type": "execute_result"
    }
   ],
   "source": [
    "# Employee Satisfaction and Performance Information: 1 'Low' 2 'Medium' 3 'High' 4 'Very High'.\n",
    "train_Attrition['EnvironmentSatisfaction'].value_counts()"
   ]
  },
  {
   "cell_type": "code",
   "execution_count": 63,
   "metadata": {},
   "outputs": [
    {
     "name": "stdout",
     "output_type": "stream",
     "text": [
      "                         % of Leavers\n",
      "EnvironmentSatisfaction              \n",
      "1.0                         26.008969\n",
      "2.0                         13.181818\n",
      "3.0                         13.333333\n",
      "4.0                         14.209115\n"
     ]
    }
   ],
   "source": [
    "df_EnvironmentSatisfaction = pd.DataFrame(columns=[\"EnvironmentSatisfaction\", \"% of Leavers\"])\n",
    "i=0\n",
    "for field in list(train_Attrition['EnvironmentSatisfaction'].unique()):\n",
    "    ratio = train_Attrition[(train_Attrition['EnvironmentSatisfaction']==field)&(train_Attrition['Attrition']==\"Yes\")].shape[0] / train_Attrition[train_Attrition['EnvironmentSatisfaction']==field].shape[0]\n",
    "    df_EnvironmentSatisfaction.loc[i] = (field, ratio*100)\n",
    "    i += 1\n",
    "    #print(\"In {}, the ratio of leavers is {:.2f}%\".format(field, ratio*100))    \n",
    "df_Env = df_EnvironmentSatisfaction.groupby(by=\"EnvironmentSatisfaction\").sum()\n",
    "print(df_Env)"
   ]
  },
  {
   "cell_type": "code",
   "execution_count": 64,
   "metadata": {},
   "outputs": [
    {
     "data": {
      "text/plain": [
       "4    371\n",
       "3    348\n",
       "2    229\n",
       "1    228\n",
       "Name: JobSatisfaction, dtype: int64"
      ]
     },
     "execution_count": 64,
     "metadata": {},
     "output_type": "execute_result"
    }
   ],
   "source": [
    "# Job Satisfaction was captured as: 1 'Low' 2 'Medium' 3 'High' 4 'Very High'\n",
    "train_Attrition['JobSatisfaction'].value_counts()"
   ]
  },
  {
   "cell_type": "code",
   "execution_count": 65,
   "metadata": {},
   "outputs": [
    {
     "name": "stdout",
     "output_type": "stream",
     "text": [
      "                 % of Leavers\n",
      "JobSatisfaction              \n",
      "1.0                 22.368421\n",
      "2.0                 16.593886\n",
      "3.0                 16.091954\n",
      "4.0                 11.590296\n"
     ]
    }
   ],
   "source": [
    "df_JobSatisfaction = pd.DataFrame(columns=[\"JobSatisfaction\", \"% of Leavers\"])\n",
    "i=0\n",
    "for field in list(train_Attrition['JobSatisfaction'].unique()):\n",
    "    ratio = train_Attrition[(train_Attrition['JobSatisfaction']==field)&(train_Attrition['Attrition']==\"Yes\")].shape[0] / train_Attrition[train_Attrition['JobSatisfaction']==field].shape[0]\n",
    "    df_JobSatisfaction.loc[i] = (field, ratio*100)\n",
    "    i += 1\n",
    "    #print(\"In {}, the ratio of leavers is {:.2f}%\".format(field, ratio*100))    \n",
    "df_JS = df_JobSatisfaction.groupby(by=\"JobSatisfaction\").sum()\n",
    "print(df_JS)"
   ]
  },
  {
   "cell_type": "code",
   "execution_count": 66,
   "metadata": {},
   "outputs": [
    {
     "data": {
      "text/plain": [
       "3    365\n",
       "4    347\n",
       "2    245\n",
       "1    219\n",
       "Name: RelationshipSatisfaction, dtype: int64"
      ]
     },
     "execution_count": 66,
     "metadata": {},
     "output_type": "execute_result"
    }
   ],
   "source": [
    "# Relationship Satisfaction was captured as: 1 'Low', 2 'Medium', 3 'High', 4 'Very High'.\n",
    "train_Attrition['RelationshipSatisfaction'].value_counts()"
   ]
  },
  {
   "cell_type": "code",
   "execution_count": 67,
   "metadata": {},
   "outputs": [
    {
     "name": "stdout",
     "output_type": "stream",
     "text": [
      "                          % of Leavers\n",
      "RelationshipSatisfaction              \n",
      "1.0                          20.091324\n",
      "2.0                          13.469388\n",
      "3.0                          16.438356\n",
      "4.0                          14.697406\n"
     ]
    }
   ],
   "source": [
    "df_RelationshipSatisfaction = pd.DataFrame(columns=[\"RelationshipSatisfaction\", \"% of Leavers\"])\n",
    "i=0\n",
    "for field in list(train_Attrition['RelationshipSatisfaction'].unique()):\n",
    "    ratio = train_Attrition[(train_Attrition['RelationshipSatisfaction']==field)&(train_Attrition['Attrition']==\"Yes\")].shape[0] / train_Attrition[train_Attrition['RelationshipSatisfaction']==field].shape[0]\n",
    "    df_RelationshipSatisfaction.loc[i] = (field, ratio*100)\n",
    "    i += 1\n",
    "    #print(\"In {}, the ratio of leavers is {:.2f}%\".format(field, ratio*100))    \n",
    "df_RS = df_RelationshipSatisfaction.groupby(by=\"RelationshipSatisfaction\").sum()\n",
    "print(df_RS)"
   ]
  },
  {
   "cell_type": "code",
   "execution_count": 68,
   "metadata": {},
   "outputs": [
    {
     "data": {
      "text/plain": [
       "3    999\n",
       "4    177\n",
       "Name: PerformanceRating, dtype: int64"
      ]
     },
     "execution_count": 68,
     "metadata": {},
     "output_type": "execute_result"
    }
   ],
   "source": [
    "# Employee Performance Rating was captured as: 1 'Low' 2 'Good' 3 'Excellent' 4 'Outstanding'\n",
    "train_Attrition['PerformanceRating'].value_counts()"
   ]
  },
  {
   "cell_type": "code",
   "execution_count": 69,
   "metadata": {},
   "outputs": [
    {
     "name": "stdout",
     "output_type": "stream",
     "text": [
      "                   % of Leavers\n",
      "PerformanceRating              \n",
      "3.0                   16.016016\n",
      "4.0                   15.819209\n"
     ]
    }
   ],
   "source": [
    "df_PerformanceRating = pd.DataFrame(columns=[\"PerformanceRating\", \"% of Leavers\"])\n",
    "i=0\n",
    "for field in list(train_Attrition['PerformanceRating'].unique()):\n",
    "    ratio = train_Attrition[(train_Attrition['PerformanceRating']==field)&(train_Attrition['Attrition']==\"Yes\")].shape[0] / train_Attrition[train_Attrition['PerformanceRating']==field].shape[0]\n",
    "    df_PerformanceRating.loc[i] = (field, ratio*100)\n",
    "    i += 1\n",
    "    #print(\"In {}, the ratio of leavers is {:.2f}%\".format(field, ratio*100))    \n",
    "df_PR = df_PerformanceRating.groupby(by=\"PerformanceRating\").sum()\n",
    "print(df_PR)"
   ]
  },
  {
   "cell_type": "markdown",
   "metadata": {},
   "source": [
    "## Target Variable: Attrition"
   ]
  },
  {
   "cell_type": "code",
   "execution_count": 70,
   "metadata": {},
   "outputs": [
    {
     "data": {
      "text/plain": [
       "No     988\n",
       "Yes    188\n",
       "Name: Attrition, dtype: int64"
      ]
     },
     "execution_count": 70,
     "metadata": {},
     "output_type": "execute_result"
    }
   ],
   "source": [
    "# Attrition indicates if the employee is currently active ('No') or has left the company ('Yes')\n",
    "train_Attrition['Attrition'].value_counts()"
   ]
  },
  {
   "cell_type": "code",
   "execution_count": 71,
   "metadata": {},
   "outputs": [
    {
     "name": "stdout",
     "output_type": "stream",
     "text": [
      "Percentage of Current Employees is 84.0% and of Ex-employees is: 16.0%\n"
     ]
    }
   ],
   "source": [
    "print(\"Percentage of Current Employees is {:.1f}% and of Ex-employees is: {:.1f}%\".format(\n",
    "    train_Attrition[train_Attrition['Attrition'] == 'No'].shape[0] / train_Attrition.shape[0]*100,\n",
    "    train_Attrition[train_Attrition['Attrition'] == 'Yes'].shape[0] / train_Attrition.shape[0]*100))"
   ]
  },
  {
   "cell_type": "markdown",
   "metadata": {},
   "source": [
    "## This is an imbalanced class problem. Indeed, the percentage of Current Employees is 84.0% and the percentage of Ex-employees is: 16.0%\n",
    "\n",
    "## Machine learning algorithms typically work best when the number of instances of each classes are roughly equal. I will have to address this target feature imbalance prior to implementing the Machine Learning algorithms."
   ]
  },
  {
   "cell_type": "code",
   "execution_count": null,
   "metadata": {},
   "outputs": [],
   "source": []
  },
  {
   "cell_type": "code",
   "execution_count": null,
   "metadata": {},
   "outputs": [],
   "source": []
  },
  {
   "cell_type": "markdown",
   "metadata": {},
   "source": [
    "# Correlation\n",
    "## correlation coefficients only measure linear correlations."
   ]
  },
  {
   "cell_type": "code",
   "execution_count": 72,
   "metadata": {},
   "outputs": [
    {
     "data": {
      "text/html": [
       "<div>\n",
       "<style scoped>\n",
       "    .dataframe tbody tr th:only-of-type {\n",
       "        vertical-align: middle;\n",
       "    }\n",
       "\n",
       "    .dataframe tbody tr th {\n",
       "        vertical-align: top;\n",
       "    }\n",
       "\n",
       "    .dataframe thead th {\n",
       "        text-align: right;\n",
       "    }\n",
       "</style>\n",
       "<table border=\"1\" class=\"dataframe\">\n",
       "  <thead>\n",
       "    <tr style=\"text-align: right;\">\n",
       "      <th></th>\n",
       "      <th>user_id</th>\n",
       "      <th>Age</th>\n",
       "      <th>Attrition</th>\n",
       "      <th>BusinessTravel</th>\n",
       "      <th>DailyRate</th>\n",
       "      <th>Department</th>\n",
       "      <th>DistanceFromHome</th>\n",
       "      <th>Education</th>\n",
       "      <th>EducationField</th>\n",
       "      <th>EmployeeCount</th>\n",
       "      <th>...</th>\n",
       "      <th>StandardHours</th>\n",
       "      <th>StockOptionLevel</th>\n",
       "      <th>TotalWorkingYears</th>\n",
       "      <th>TrainingTimesLastYear</th>\n",
       "      <th>WorkLifeBalance</th>\n",
       "      <th>YearsAtCompany</th>\n",
       "      <th>YearsInCurrentRole</th>\n",
       "      <th>YearsSinceLastPromotion</th>\n",
       "      <th>YearsWithCurrManager</th>\n",
       "      <th>Target</th>\n",
       "    </tr>\n",
       "  </thead>\n",
       "  <tbody>\n",
       "    <tr>\n",
       "      <th>0</th>\n",
       "      <td>1374</td>\n",
       "      <td>58</td>\n",
       "      <td>No</td>\n",
       "      <td>Travel_Rarely</td>\n",
       "      <td>605</td>\n",
       "      <td>Sales</td>\n",
       "      <td>21</td>\n",
       "      <td>3</td>\n",
       "      <td>Life Sciences</td>\n",
       "      <td>1</td>\n",
       "      <td>...</td>\n",
       "      <td>80</td>\n",
       "      <td>1</td>\n",
       "      <td>29</td>\n",
       "      <td>2</td>\n",
       "      <td>2</td>\n",
       "      <td>1</td>\n",
       "      <td>0</td>\n",
       "      <td>0</td>\n",
       "      <td>0</td>\n",
       "      <td>0</td>\n",
       "    </tr>\n",
       "    <tr>\n",
       "      <th>1</th>\n",
       "      <td>1092</td>\n",
       "      <td>45</td>\n",
       "      <td>No</td>\n",
       "      <td>Travel_Rarely</td>\n",
       "      <td>950</td>\n",
       "      <td>Research &amp; Development</td>\n",
       "      <td>28</td>\n",
       "      <td>3</td>\n",
       "      <td>Technical Degree</td>\n",
       "      <td>1</td>\n",
       "      <td>...</td>\n",
       "      <td>80</td>\n",
       "      <td>1</td>\n",
       "      <td>8</td>\n",
       "      <td>3</td>\n",
       "      <td>3</td>\n",
       "      <td>5</td>\n",
       "      <td>4</td>\n",
       "      <td>0</td>\n",
       "      <td>3</td>\n",
       "      <td>0</td>\n",
       "    </tr>\n",
       "    <tr>\n",
       "      <th>2</th>\n",
       "      <td>768</td>\n",
       "      <td>40</td>\n",
       "      <td>No</td>\n",
       "      <td>Travel_Rarely</td>\n",
       "      <td>300</td>\n",
       "      <td>Sales</td>\n",
       "      <td>26</td>\n",
       "      <td>3</td>\n",
       "      <td>Marketing</td>\n",
       "      <td>1</td>\n",
       "      <td>...</td>\n",
       "      <td>80</td>\n",
       "      <td>1</td>\n",
       "      <td>8</td>\n",
       "      <td>3</td>\n",
       "      <td>2</td>\n",
       "      <td>7</td>\n",
       "      <td>7</td>\n",
       "      <td>7</td>\n",
       "      <td>5</td>\n",
       "      <td>0</td>\n",
       "    </tr>\n",
       "    <tr>\n",
       "      <th>3</th>\n",
       "      <td>569</td>\n",
       "      <td>36</td>\n",
       "      <td>No</td>\n",
       "      <td>Non-Travel</td>\n",
       "      <td>1434</td>\n",
       "      <td>Sales</td>\n",
       "      <td>8</td>\n",
       "      <td>4</td>\n",
       "      <td>Life Sciences</td>\n",
       "      <td>1</td>\n",
       "      <td>...</td>\n",
       "      <td>80</td>\n",
       "      <td>0</td>\n",
       "      <td>10</td>\n",
       "      <td>1</td>\n",
       "      <td>3</td>\n",
       "      <td>10</td>\n",
       "      <td>7</td>\n",
       "      <td>0</td>\n",
       "      <td>9</td>\n",
       "      <td>0</td>\n",
       "    </tr>\n",
       "    <tr>\n",
       "      <th>4</th>\n",
       "      <td>911</td>\n",
       "      <td>25</td>\n",
       "      <td>Yes</td>\n",
       "      <td>Travel_Frequently</td>\n",
       "      <td>599</td>\n",
       "      <td>Sales</td>\n",
       "      <td>24</td>\n",
       "      <td>1</td>\n",
       "      <td>Life Sciences</td>\n",
       "      <td>1</td>\n",
       "      <td>...</td>\n",
       "      <td>80</td>\n",
       "      <td>0</td>\n",
       "      <td>1</td>\n",
       "      <td>4</td>\n",
       "      <td>3</td>\n",
       "      <td>1</td>\n",
       "      <td>0</td>\n",
       "      <td>1</td>\n",
       "      <td>0</td>\n",
       "      <td>1</td>\n",
       "    </tr>\n",
       "  </tbody>\n",
       "</table>\n",
       "<p>5 rows × 37 columns</p>\n",
       "</div>"
      ],
      "text/plain": [
       "   user_id  Age Attrition     BusinessTravel  DailyRate  \\\n",
       "0     1374   58        No      Travel_Rarely        605   \n",
       "1     1092   45        No      Travel_Rarely        950   \n",
       "2      768   40        No      Travel_Rarely        300   \n",
       "3      569   36        No         Non-Travel       1434   \n",
       "4      911   25       Yes  Travel_Frequently        599   \n",
       "\n",
       "               Department  DistanceFromHome  Education    EducationField  \\\n",
       "0                   Sales                21          3     Life Sciences   \n",
       "1  Research & Development                28          3  Technical Degree   \n",
       "2                   Sales                26          3         Marketing   \n",
       "3                   Sales                 8          4     Life Sciences   \n",
       "4                   Sales                24          1     Life Sciences   \n",
       "\n",
       "   EmployeeCount  ...  StandardHours  StockOptionLevel TotalWorkingYears  \\\n",
       "0              1  ...             80                 1                29   \n",
       "1              1  ...             80                 1                 8   \n",
       "2              1  ...             80                 1                 8   \n",
       "3              1  ...             80                 0                10   \n",
       "4              1  ...             80                 0                 1   \n",
       "\n",
       "   TrainingTimesLastYear  WorkLifeBalance  YearsAtCompany YearsInCurrentRole  \\\n",
       "0                      2                2               1                  0   \n",
       "1                      3                3               5                  4   \n",
       "2                      3                2               7                  7   \n",
       "3                      1                3              10                  7   \n",
       "4                      4                3               1                  0   \n",
       "\n",
       "   YearsSinceLastPromotion YearsWithCurrManager  Target  \n",
       "0                        0                    0       0  \n",
       "1                        0                    3       0  \n",
       "2                        7                    5       0  \n",
       "3                        0                    9       0  \n",
       "4                        1                    0       1  \n",
       "\n",
       "[5 rows x 37 columns]"
      ]
     },
     "execution_count": 72,
     "metadata": {},
     "output_type": "execute_result"
    }
   ],
   "source": [
    "# Find correlations with the target and sort\n",
    "train_Attrition['Target'] = train_Attrition['Attrition'].apply(\n",
    "    lambda x: 0 if x == 'No' else 1)\n",
    "train_Attrition.head()"
   ]
  },
  {
   "cell_type": "code",
   "execution_count": 73,
   "metadata": {},
   "outputs": [
    {
     "name": "stdout",
     "output_type": "stream",
     "text": [
      "                           user_id       Age  DailyRate  DistanceFromHome  \\\n",
      "user_id                   1.000000  0.009300  -0.041355          0.029618   \n",
      "Age                       0.009300  1.000000   0.016997         -0.006119   \n",
      "DailyRate                -0.041355  0.016997   1.000000         -0.013230   \n",
      "DistanceFromHome          0.029618 -0.006119  -0.013230          1.000000   \n",
      "Education                 0.058138  0.201116  -0.013333         -0.005039   \n",
      "EmployeeCount                  NaN       NaN        NaN               NaN   \n",
      "EmployeeNumber            0.999906  0.009602  -0.040680          0.029432   \n",
      "EnvironmentSatisfaction   0.042355  0.016010   0.013415         -0.013182   \n",
      "HourlyRate                0.014785  0.035942   0.024577          0.024524   \n",
      "JobInvolvement           -0.012119  0.043840   0.045446          0.020156   \n",
      "JobLevel                 -0.009289  0.521973   0.004230          0.006961   \n",
      "JobSatisfaction          -0.046578  0.003564   0.042196          0.003149   \n",
      "MonthlyIncome            -0.004551  0.512036   0.010181         -0.018398   \n",
      "MonthlyRate               0.008913  0.009248  -0.019472          0.009890   \n",
      "NumCompaniesWorked        0.020461  0.321967   0.020453         -0.044021   \n",
      "PercentSalaryHike        -0.010746  0.020275   0.020790          0.024150   \n",
      "PerformanceRating        -0.020788  0.001435  -0.008661          0.020380   \n",
      "RelationshipSatisfaction -0.064190  0.059735   0.000101          0.028912   \n",
      "StandardHours                  NaN       NaN        NaN               NaN   \n",
      "StockOptionLevel          0.041794  0.045595   0.045414          0.056862   \n",
      "TotalWorkingYears        -0.008958  0.686609   0.022416         -0.005337   \n",
      "TrainingTimesLastYear    -0.018542 -0.014888   0.000097         -0.051527   \n",
      "WorkLifeBalance           0.006358 -0.018682  -0.017483         -0.010663   \n",
      "YearsAtCompany           -0.019605  0.317604  -0.021911         -0.003907   \n",
      "YearsInCurrentRole       -0.019685  0.220128   0.027265          0.015311   \n",
      "YearsSinceLastPromotion  -0.016308  0.213677  -0.015516         -0.005778   \n",
      "YearsWithCurrManager     -0.025553  0.204173  -0.002437          0.014304   \n",
      "Target                   -0.009329 -0.175754  -0.065743          0.072157   \n",
      "\n",
      "                          Education  EmployeeCount  EmployeeNumber  \\\n",
      "user_id                    0.058138            NaN        0.999906   \n",
      "Age                        0.201116            NaN        0.009602   \n",
      "DailyRate                 -0.013333            NaN       -0.040680   \n",
      "DistanceFromHome          -0.005039            NaN        0.029432   \n",
      "Education                  1.000000            NaN        0.058453   \n",
      "EmployeeCount                   NaN            NaN             NaN   \n",
      "EmployeeNumber             0.058453            NaN        1.000000   \n",
      "EnvironmentSatisfaction   -0.038378            NaN        0.042183   \n",
      "HourlyRate                 0.004381            NaN        0.015261   \n",
      "JobInvolvement             0.052512            NaN       -0.011711   \n",
      "JobLevel                   0.106913            NaN       -0.009964   \n",
      "JobSatisfaction           -0.002777            NaN       -0.046731   \n",
      "MonthlyIncome              0.103431            NaN       -0.005157   \n",
      "MonthlyRate               -0.039819            NaN        0.009164   \n",
      "NumCompaniesWorked         0.127862            NaN        0.019587   \n",
      "PercentSalaryHike         -0.025471            NaN       -0.010404   \n",
      "PerformanceRating         -0.043706            NaN       -0.020664   \n",
      "RelationshipSatisfaction   0.000446            NaN       -0.064441   \n",
      "StandardHours                   NaN            NaN             NaN   \n",
      "StockOptionLevel           0.016850            NaN        0.041471   \n",
      "TotalWorkingYears          0.148434            NaN       -0.009325   \n",
      "TrainingTimesLastYear     -0.016419            NaN       -0.018590   \n",
      "WorkLifeBalance            0.026454            NaN        0.005984   \n",
      "YearsAtCompany             0.070153            NaN       -0.019196   \n",
      "YearsInCurrentRole         0.063850            NaN       -0.019196   \n",
      "YearsSinceLastPromotion    0.043986            NaN       -0.016330   \n",
      "YearsWithCurrManager       0.063246            NaN       -0.025114   \n",
      "Target                    -0.033683            NaN       -0.009786   \n",
      "\n",
      "                          EnvironmentSatisfaction  HourlyRate  JobInvolvement  \\\n",
      "user_id                                  0.042355    0.014785       -0.012119   \n",
      "Age                                      0.016010    0.035942        0.043840   \n",
      "DailyRate                                0.013415    0.024577        0.045446   \n",
      "DistanceFromHome                        -0.013182    0.024524        0.020156   \n",
      "Education                               -0.038378    0.004381        0.052512   \n",
      "EmployeeCount                                 NaN         NaN             NaN   \n",
      "EmployeeNumber                           0.042183    0.015261       -0.011711   \n",
      "EnvironmentSatisfaction                  1.000000   -0.048388        0.000299   \n",
      "HourlyRate                              -0.048388    1.000000        0.070095   \n",
      "JobInvolvement                           0.000299    0.070095        1.000000   \n",
      "JobLevel                                 0.011368   -0.021629        0.018196   \n",
      "JobSatisfaction                         -0.016361   -0.065127       -0.012427   \n",
      "MonthlyIncome                            0.004277   -0.014367        0.011298   \n",
      "MonthlyRate                              0.030246   -0.024027       -0.029698   \n",
      "NumCompaniesWorked                       0.010484    0.015841        0.010313   \n",
      "PercentSalaryHike                       -0.017302    0.008183       -0.027596   \n",
      "PerformanceRating                       -0.014976    0.005624       -0.047363   \n",
      "RelationshipSatisfaction                 0.018885    0.008333        0.036821   \n",
      "StandardHours                                 NaN         NaN             NaN   \n",
      "StockOptionLevel                        -0.002740    0.039087        0.001249   \n",
      "TotalWorkingYears                       -0.004375    0.000532        0.023866   \n",
      "TrainingTimesLastYear                   -0.014442   -0.023348       -0.037580   \n",
      "WorkLifeBalance                          0.038081   -0.012992       -0.022222   \n",
      "YearsAtCompany                          -0.003979   -0.011851        0.004729   \n",
      "YearsInCurrentRole                       0.028714   -0.011254        0.018510   \n",
      "YearsSinceLastPromotion                  0.016720   -0.001080       -0.013330   \n",
      "YearsWithCurrManager                    -0.008952   -0.021674        0.036053   \n",
      "Target                                  -0.095627   -0.003484       -0.114287   \n",
      "\n",
      "                          ...  StandardHours  StockOptionLevel  \\\n",
      "user_id                   ...            NaN          0.041794   \n",
      "Age                       ...            NaN          0.045595   \n",
      "DailyRate                 ...            NaN          0.045414   \n",
      "DistanceFromHome          ...            NaN          0.056862   \n",
      "Education                 ...            NaN          0.016850   \n",
      "EmployeeCount             ...            NaN               NaN   \n",
      "EmployeeNumber            ...            NaN          0.041471   \n",
      "EnvironmentSatisfaction   ...            NaN         -0.002740   \n",
      "HourlyRate                ...            NaN          0.039087   \n",
      "JobInvolvement            ...            NaN          0.001249   \n",
      "JobLevel                  ...            NaN          0.030808   \n",
      "JobSatisfaction           ...            NaN          0.031976   \n",
      "MonthlyIncome             ...            NaN          0.022962   \n",
      "MonthlyRate               ...            NaN         -0.051149   \n",
      "NumCompaniesWorked        ...            NaN          0.024583   \n",
      "PercentSalaryHike         ...            NaN          0.026610   \n",
      "PerformanceRating         ...            NaN          0.015025   \n",
      "RelationshipSatisfaction  ...            NaN         -0.026776   \n",
      "StandardHours             ...            NaN               NaN   \n",
      "StockOptionLevel          ...            NaN          1.000000   \n",
      "TotalWorkingYears         ...            NaN          0.026650   \n",
      "TrainingTimesLastYear     ...            NaN         -0.025434   \n",
      "WorkLifeBalance           ...            NaN          0.015246   \n",
      "YearsAtCompany            ...            NaN          0.027250   \n",
      "YearsInCurrentRole        ...            NaN          0.056742   \n",
      "YearsSinceLastPromotion   ...            NaN          0.027216   \n",
      "YearsWithCurrManager      ...            NaN          0.037954   \n",
      "Target                    ...            NaN         -0.129769   \n",
      "\n",
      "                          TotalWorkingYears  TrainingTimesLastYear  \\\n",
      "user_id                           -0.008958              -0.018542   \n",
      "Age                                0.686609              -0.014888   \n",
      "DailyRate                          0.022416               0.000097   \n",
      "DistanceFromHome                  -0.005337              -0.051527   \n",
      "Education                          0.148434              -0.016419   \n",
      "EmployeeCount                           NaN                    NaN   \n",
      "EmployeeNumber                    -0.009325              -0.018590   \n",
      "EnvironmentSatisfaction           -0.004375              -0.014442   \n",
      "HourlyRate                         0.000532              -0.023348   \n",
      "JobInvolvement                     0.023866              -0.037580   \n",
      "JobLevel                           0.785153               0.002550   \n",
      "JobSatisfaction                   -0.022147              -0.023552   \n",
      "MonthlyIncome                      0.774175               0.000405   \n",
      "MonthlyRate                        0.021866              -0.004748   \n",
      "NumCompaniesWorked                 0.261906              -0.064855   \n",
      "PercentSalaryHike                 -0.007065              -0.010487   \n",
      "PerformanceRating                  0.010257              -0.035685   \n",
      "RelationshipSatisfaction           0.028391               0.015563   \n",
      "StandardHours                           NaN                    NaN   \n",
      "StockOptionLevel                   0.026650              -0.025434   \n",
      "TotalWorkingYears                  1.000000              -0.032999   \n",
      "TrainingTimesLastYear             -0.032999               1.000000   \n",
      "WorkLifeBalance                    0.001194               0.019520   \n",
      "YearsAtCompany                     0.634263               0.011289   \n",
      "YearsInCurrentRole                 0.462848              -0.000465   \n",
      "YearsSinceLastPromotion            0.409752               0.016340   \n",
      "YearsWithCurrManager               0.461941               0.000387   \n",
      "Target                            -0.181079              -0.056043   \n",
      "\n",
      "                          WorkLifeBalance  YearsAtCompany  YearsInCurrentRole  \\\n",
      "user_id                          0.006358       -0.019605           -0.019685   \n",
      "Age                             -0.018682        0.317604            0.220128   \n",
      "DailyRate                       -0.017483       -0.021911            0.027265   \n",
      "DistanceFromHome                -0.010663       -0.003907            0.015311   \n",
      "Education                        0.026454        0.070153            0.063850   \n",
      "EmployeeCount                         NaN             NaN                 NaN   \n",
      "EmployeeNumber                   0.005984       -0.019196           -0.019196   \n",
      "EnvironmentSatisfaction          0.038081       -0.003979            0.028714   \n",
      "HourlyRate                      -0.012992       -0.011851           -0.011254   \n",
      "JobInvolvement                  -0.022222        0.004729            0.018510   \n",
      "JobLevel                         0.039172        0.526776            0.381651   \n",
      "JobSatisfaction                 -0.012945       -0.029844           -0.030511   \n",
      "MonthlyIncome                    0.022595        0.511371            0.361812   \n",
      "MonthlyRate                      0.026192       -0.026878           -0.008505   \n",
      "NumCompaniesWorked              -0.001043       -0.088854           -0.068468   \n",
      "PercentSalaryHike               -0.008441       -0.014789            0.031146   \n",
      "PerformanceRating               -0.001030        0.014116            0.051615   \n",
      "RelationshipSatisfaction         0.010885        0.017059           -0.023239   \n",
      "StandardHours                         NaN             NaN                 NaN   \n",
      "StockOptionLevel                 0.015246        0.027250            0.056742   \n",
      "TotalWorkingYears                0.001194        0.634263            0.462848   \n",
      "TrainingTimesLastYear            0.019520        0.011289           -0.000465   \n",
      "WorkLifeBalance                  1.000000        0.007255            0.055572   \n",
      "YearsAtCompany                   0.007255        1.000000            0.752043   \n",
      "YearsInCurrentRole               0.055572        0.752043            1.000000   \n",
      "YearsSinceLastPromotion          0.015814        0.620109            0.547815   \n",
      "YearsWithCurrManager             0.002117        0.775746            0.703930   \n",
      "Target                          -0.073935       -0.141555           -0.169024   \n",
      "\n",
      "                          YearsSinceLastPromotion  YearsWithCurrManager  \\\n",
      "user_id                                 -0.016308             -0.025553   \n",
      "Age                                      0.213677              0.204173   \n",
      "DailyRate                               -0.015516             -0.002437   \n",
      "DistanceFromHome                        -0.005778              0.014304   \n",
      "Education                                0.043986              0.063246   \n",
      "EmployeeCount                                 NaN                   NaN   \n",
      "EmployeeNumber                          -0.016330             -0.025114   \n",
      "EnvironmentSatisfaction                  0.016720             -0.008952   \n",
      "HourlyRate                              -0.001080             -0.021674   \n",
      "JobInvolvement                          -0.013330              0.036053   \n",
      "JobLevel                                 0.352960              0.368002   \n",
      "JobSatisfaction                         -0.049939             -0.049388   \n",
      "MonthlyIncome                            0.353480              0.339039   \n",
      "MonthlyRate                             -0.011861             -0.028764   \n",
      "NumCompaniesWorked                      -0.005041             -0.097412   \n",
      "PercentSalaryHike                       -0.014727              0.002441   \n",
      "PerformanceRating                        0.015243              0.023724   \n",
      "RelationshipSatisfaction                 0.030197             -0.000852   \n",
      "StandardHours                                 NaN                   NaN   \n",
      "StockOptionLevel                         0.027216              0.037954   \n",
      "TotalWorkingYears                        0.409752              0.461941   \n",
      "TrainingTimesLastYear                    0.016340              0.000387   \n",
      "WorkLifeBalance                          0.015814              0.002117   \n",
      "YearsAtCompany                           0.620109              0.775746   \n",
      "YearsInCurrentRole                       0.547815              0.703930   \n",
      "YearsSinceLastPromotion                  1.000000              0.512640   \n",
      "YearsWithCurrManager                     0.512640              1.000000   \n",
      "Target                                  -0.042846             -0.163825   \n",
      "\n",
      "                            Target  \n",
      "user_id                  -0.009329  \n",
      "Age                      -0.175754  \n",
      "DailyRate                -0.065743  \n",
      "DistanceFromHome          0.072157  \n",
      "Education                -0.033683  \n",
      "EmployeeCount                  NaN  \n",
      "EmployeeNumber           -0.009786  \n",
      "EnvironmentSatisfaction  -0.095627  \n",
      "HourlyRate               -0.003484  \n",
      "JobInvolvement           -0.114287  \n",
      "JobLevel                 -0.172917  \n",
      "JobSatisfaction          -0.098544  \n",
      "MonthlyIncome            -0.163906  \n",
      "MonthlyRate               0.034358  \n",
      "NumCompaniesWorked        0.037556  \n",
      "PercentSalaryHike        -0.041065  \n",
      "PerformanceRating        -0.001920  \n",
      "RelationshipSatisfaction -0.034985  \n",
      "StandardHours                  NaN  \n",
      "StockOptionLevel         -0.129769  \n",
      "TotalWorkingYears        -0.181079  \n",
      "TrainingTimesLastYear    -0.056043  \n",
      "WorkLifeBalance          -0.073935  \n",
      "YearsAtCompany           -0.141555  \n",
      "YearsInCurrentRole       -0.169024  \n",
      "YearsSinceLastPromotion  -0.042846  \n",
      "YearsWithCurrManager     -0.163825  \n",
      "Target                    1.000000  \n",
      "\n",
      "[28 rows x 28 columns]\n"
     ]
    }
   ],
   "source": [
    "print(train_Attrition.corr())"
   ]
  },
  {
   "cell_type": "code",
   "execution_count": 74,
   "metadata": {},
   "outputs": [
    {
     "data": {
      "text/plain": [
       "TotalWorkingYears          -0.181079\n",
       "Age                        -0.175754\n",
       "JobLevel                   -0.172917\n",
       "YearsInCurrentRole         -0.169024\n",
       "MonthlyIncome              -0.163906\n",
       "YearsWithCurrManager       -0.163825\n",
       "YearsAtCompany             -0.141555\n",
       "StockOptionLevel           -0.129769\n",
       "JobInvolvement             -0.114287\n",
       "JobSatisfaction            -0.098544\n",
       "EnvironmentSatisfaction    -0.095627\n",
       "WorkLifeBalance            -0.073935\n",
       "DailyRate                  -0.065743\n",
       "TrainingTimesLastYear      -0.056043\n",
       "YearsSinceLastPromotion    -0.042846\n",
       "PercentSalaryHike          -0.041065\n",
       "RelationshipSatisfaction   -0.034985\n",
       "Education                  -0.033683\n",
       "EmployeeNumber             -0.009786\n",
       "user_id                    -0.009329\n",
       "HourlyRate                 -0.003484\n",
       "PerformanceRating          -0.001920\n",
       "MonthlyRate                 0.034358\n",
       "NumCompaniesWorked          0.037556\n",
       "DistanceFromHome            0.072157\n",
       "Target                      1.000000\n",
       "EmployeeCount                    NaN\n",
       "StandardHours                    NaN\n",
       "Name: Target, dtype: float64"
      ]
     },
     "execution_count": 74,
     "metadata": {},
     "output_type": "execute_result"
    }
   ],
   "source": [
    "train_Attrition.corr()['Target'].sort_values()"
   ]
  },
  {
   "cell_type": "code",
   "execution_count": 75,
   "metadata": {},
   "outputs": [
    {
     "name": "stdout",
     "output_type": "stream",
     "text": [
      "Most Positive Correlations: \n",
      " PerformanceRating    -0.001920\n",
      "MonthlyRate           0.034358\n",
      "NumCompaniesWorked    0.037556\n",
      "DistanceFromHome      0.072157\n",
      "Target                1.000000\n",
      "Name: Target, dtype: float64\n",
      "\n",
      "Most Negative Correlations: \n",
      " TotalWorkingYears    -0.181079\n",
      "Age                  -0.175754\n",
      "JobLevel             -0.172917\n",
      "YearsInCurrentRole   -0.169024\n",
      "MonthlyIncome        -0.163906\n",
      "Name: Target, dtype: float64\n"
     ]
    }
   ],
   "source": [
    "train_Attrition = train_Attrition.drop(\n",
    "    ['user_id', 'Attrition', 'EmployeeCount', 'EmployeeNumber', 'StandardHours', 'Over18'], axis=1)\n",
    "correlations = train_Attrition.corr()['Target'].sort_values()\n",
    "print('Most Positive Correlations: \\n', correlations.tail(5))\n",
    "print('\\nMost Negative Correlations: \\n', correlations.head(5))"
   ]
  },
  {
   "cell_type": "code",
   "execution_count": 76,
   "metadata": {},
   "outputs": [
    {
     "data": {
      "text/plain": [
       "<matplotlib.axes._subplots.AxesSubplot at 0x202a6c3a2b0>"
      ]
     },
     "execution_count": 76,
     "metadata": {},
     "output_type": "execute_result"
    },
    {
     "data": {
      "image/png": "[encoded data removed]",
      "text/plain": [
       "<Figure size 1080x720 with 2 Axes>"
      ]
     },
     "metadata": {
      "needs_background": "light"
     },
     "output_type": "display_data"
    }
   ],
   "source": [
    "# Calculate correlations\n",
    "import numpy as np\n",
    "corr = train_Attrition.corr()\n",
    "mask = np.zeros_like(corr)\n",
    "mask[np.triu_indices_from(mask)] = True\n",
    "# Heatmap\n",
    "plt.figure(figsize=(15, 10))\n",
    "sns.heatmap(corr,\n",
    "            vmax=.5,\n",
    "            mask=mask,\n",
    "            # annot=True, fmt='.2f',\n",
    "            linewidths=.2, cmap=\"YlGnBu\")"
   ]
  },
  {
   "cell_type": "markdown",
   "metadata": {},
   "source": [
    "## EDA Conclusion"
   ]
  },
  {
   "cell_type": "markdown",
   "metadata": {},
   "source": [
    "### 1. The dataset does not have any missing data, and all features are of the correct data type.\n",
    "### 2. The strongest positive correlations with the target features are: Performance Rating, Monthly Rate, Num Companies Worked, Distance From Home.\n",
    "### 3. The strongest negative correlations with the target features are: Total Working Years, Job Level, Years In Current Role, and Monthly Income.\n",
    "### 4. The dataset is imbalanced with the majoriy of observations describing Currently Active Employees.\n",
    "### 5. Several features are redundant for our analysis: EmployeeCount, EmployeeNumber, StandardHours, and Over18."
   ]
  },
  {
   "cell_type": "markdown",
   "metadata": {},
   "source": [
    "Other observations:\n",
    "\n",
    "1. Single employees show the largest proportion of leavers, compared to Married and Divorced counterparts.\n",
    "2. About 10% of leavers left when they reach their 2-year anniversary at the company.\n",
    "3. Loyal employees with higher salaries and more responsbilities show lower proportion of leavers compared to their counterparts.\n",
    "4. People who live further away from their work show higher proportion of leavers compared to their counterparts.\n",
    "5. People who travel frequently show higher proportion of leavers compared to their counterparts.\n",
    "6. People who have to work overtime show higher proportion of leavers compared to their counterparts.\n",
    "7. Employee who work as Sales Representatives show a significant percentage of Leavers in the submitted dataset.\n",
    "8. Employees that have already worked at several companies previously (already \"bounced\" between workplaces) show higher proportion of leavers compared to their counterparts."
   ]
  },
  {
   "cell_type": "code",
   "execution_count": null,
   "metadata": {},
   "outputs": [],
   "source": []
  },
  {
   "cell_type": "markdown",
   "metadata": {},
   "source": [
    "## Pre-processing Pipeline\n",
    "### (prepare the datasets for Machine Learning algorithm implementation)"
   ]
  },
  {
   "cell_type": "code",
   "execution_count": null,
   "metadata": {},
   "outputs": [],
   "source": []
  },
  {
   "cell_type": "markdown",
   "metadata": {},
   "source": [
    "### Lable Encoding and One-Hot Encoding "
   ]
  },
  {
   "cell_type": "code",
   "execution_count": 77,
   "metadata": {},
   "outputs": [],
   "source": [
    "from sklearn.preprocessing import LabelEncoder, OneHotEncoder\n",
    "# Create a label encoder object\n",
    "one_hot_encode = OneHotEncoder(handle_unknown='ignore', sparse=False)"
   ]
  },
  {
   "cell_type": "code",
   "execution_count": 78,
   "metadata": {},
   "outputs": [],
   "source": [
    "temp = train_Attrition.dtypes == 'object'\n",
    "one_hot_features = temp[temp].index.to_list()\n",
    "\n",
    "one_hot_df = pd.DataFrame(one_hot_encode.fit_transform(train_Attrition.loc[:, one_hot_features]), \n",
    "                          columns=one_hot_encode.get_feature_names(one_hot_features))"
   ]
  },
  {
   "cell_type": "code",
   "execution_count": 79,
   "metadata": {},
   "outputs": [],
   "source": [
    "train_Attrition = pd.concat([train_Attrition.drop(columns=one_hot_features), one_hot_df], axis=1)"
   ]
  },
  {
   "cell_type": "code",
   "execution_count": 80,
   "metadata": {},
   "outputs": [
    {
     "data": {
      "text/plain": [
       "(1176, 52)"
      ]
     },
     "execution_count": 80,
     "metadata": {},
     "output_type": "execute_result"
    }
   ],
   "source": [
    "pd.get_dummies(train_Attrition).shape"
   ]
  },
  {
   "cell_type": "code",
   "execution_count": 81,
   "metadata": {},
   "outputs": [
    {
     "name": "stdout",
     "output_type": "stream",
     "text": [
      "(1176, 52)\n"
     ]
    },
    {
     "data": {
      "text/html": [
       "<div>\n",
       "<style scoped>\n",
       "    .dataframe tbody tr th:only-of-type {\n",
       "        vertical-align: middle;\n",
       "    }\n",
       "\n",
       "    .dataframe tbody tr th {\n",
       "        vertical-align: top;\n",
       "    }\n",
       "\n",
       "    .dataframe thead th {\n",
       "        text-align: right;\n",
       "    }\n",
       "</style>\n",
       "<table border=\"1\" class=\"dataframe\">\n",
       "  <thead>\n",
       "    <tr style=\"text-align: right;\">\n",
       "      <th></th>\n",
       "      <th>Age</th>\n",
       "      <th>DailyRate</th>\n",
       "      <th>DistanceFromHome</th>\n",
       "      <th>Education</th>\n",
       "      <th>EnvironmentSatisfaction</th>\n",
       "      <th>HourlyRate</th>\n",
       "      <th>JobInvolvement</th>\n",
       "      <th>JobLevel</th>\n",
       "      <th>JobSatisfaction</th>\n",
       "      <th>MonthlyIncome</th>\n",
       "      <th>...</th>\n",
       "      <th>JobRole_Manufacturing Director</th>\n",
       "      <th>JobRole_Research Director</th>\n",
       "      <th>JobRole_Research Scientist</th>\n",
       "      <th>JobRole_Sales Executive</th>\n",
       "      <th>JobRole_Sales Representative</th>\n",
       "      <th>MaritalStatus_Divorced</th>\n",
       "      <th>MaritalStatus_Married</th>\n",
       "      <th>MaritalStatus_Single</th>\n",
       "      <th>OverTime_No</th>\n",
       "      <th>OverTime_Yes</th>\n",
       "    </tr>\n",
       "  </thead>\n",
       "  <tbody>\n",
       "    <tr>\n",
       "      <th>0</th>\n",
       "      <td>58</td>\n",
       "      <td>605</td>\n",
       "      <td>21</td>\n",
       "      <td>3</td>\n",
       "      <td>4</td>\n",
       "      <td>72</td>\n",
       "      <td>3</td>\n",
       "      <td>4</td>\n",
       "      <td>4</td>\n",
       "      <td>17875</td>\n",
       "      <td>...</td>\n",
       "      <td>0.0</td>\n",
       "      <td>0.0</td>\n",
       "      <td>0.0</td>\n",
       "      <td>0.0</td>\n",
       "      <td>0.0</td>\n",
       "      <td>0.0</td>\n",
       "      <td>1.0</td>\n",
       "      <td>0.0</td>\n",
       "      <td>0.0</td>\n",
       "      <td>1.0</td>\n",
       "    </tr>\n",
       "    <tr>\n",
       "      <th>1</th>\n",
       "      <td>45</td>\n",
       "      <td>950</td>\n",
       "      <td>28</td>\n",
       "      <td>3</td>\n",
       "      <td>4</td>\n",
       "      <td>97</td>\n",
       "      <td>3</td>\n",
       "      <td>1</td>\n",
       "      <td>4</td>\n",
       "      <td>2132</td>\n",
       "      <td>...</td>\n",
       "      <td>0.0</td>\n",
       "      <td>0.0</td>\n",
       "      <td>1.0</td>\n",
       "      <td>0.0</td>\n",
       "      <td>0.0</td>\n",
       "      <td>0.0</td>\n",
       "      <td>1.0</td>\n",
       "      <td>0.0</td>\n",
       "      <td>1.0</td>\n",
       "      <td>0.0</td>\n",
       "    </tr>\n",
       "    <tr>\n",
       "      <th>2</th>\n",
       "      <td>40</td>\n",
       "      <td>300</td>\n",
       "      <td>26</td>\n",
       "      <td>3</td>\n",
       "      <td>3</td>\n",
       "      <td>74</td>\n",
       "      <td>3</td>\n",
       "      <td>2</td>\n",
       "      <td>1</td>\n",
       "      <td>8396</td>\n",
       "      <td>...</td>\n",
       "      <td>0.0</td>\n",
       "      <td>0.0</td>\n",
       "      <td>0.0</td>\n",
       "      <td>1.0</td>\n",
       "      <td>0.0</td>\n",
       "      <td>0.0</td>\n",
       "      <td>1.0</td>\n",
       "      <td>0.0</td>\n",
       "      <td>1.0</td>\n",
       "      <td>0.0</td>\n",
       "    </tr>\n",
       "    <tr>\n",
       "      <th>3</th>\n",
       "      <td>36</td>\n",
       "      <td>1434</td>\n",
       "      <td>8</td>\n",
       "      <td>4</td>\n",
       "      <td>1</td>\n",
       "      <td>76</td>\n",
       "      <td>2</td>\n",
       "      <td>3</td>\n",
       "      <td>1</td>\n",
       "      <td>7587</td>\n",
       "      <td>...</td>\n",
       "      <td>0.0</td>\n",
       "      <td>0.0</td>\n",
       "      <td>0.0</td>\n",
       "      <td>1.0</td>\n",
       "      <td>0.0</td>\n",
       "      <td>0.0</td>\n",
       "      <td>0.0</td>\n",
       "      <td>1.0</td>\n",
       "      <td>1.0</td>\n",
       "      <td>0.0</td>\n",
       "    </tr>\n",
       "    <tr>\n",
       "      <th>4</th>\n",
       "      <td>25</td>\n",
       "      <td>599</td>\n",
       "      <td>24</td>\n",
       "      <td>1</td>\n",
       "      <td>3</td>\n",
       "      <td>73</td>\n",
       "      <td>1</td>\n",
       "      <td>1</td>\n",
       "      <td>4</td>\n",
       "      <td>1118</td>\n",
       "      <td>...</td>\n",
       "      <td>0.0</td>\n",
       "      <td>0.0</td>\n",
       "      <td>0.0</td>\n",
       "      <td>0.0</td>\n",
       "      <td>1.0</td>\n",
       "      <td>0.0</td>\n",
       "      <td>0.0</td>\n",
       "      <td>1.0</td>\n",
       "      <td>0.0</td>\n",
       "      <td>1.0</td>\n",
       "    </tr>\n",
       "  </tbody>\n",
       "</table>\n",
       "<p>5 rows × 52 columns</p>\n",
       "</div>"
      ],
      "text/plain": [
       "   Age  DailyRate  DistanceFromHome  Education  EnvironmentSatisfaction  \\\n",
       "0   58        605                21          3                        4   \n",
       "1   45        950                28          3                        4   \n",
       "2   40        300                26          3                        3   \n",
       "3   36       1434                 8          4                        1   \n",
       "4   25        599                24          1                        3   \n",
       "\n",
       "   HourlyRate  JobInvolvement  JobLevel  JobSatisfaction  MonthlyIncome  ...  \\\n",
       "0          72               3         4                4          17875  ...   \n",
       "1          97               3         1                4           2132  ...   \n",
       "2          74               3         2                1           8396  ...   \n",
       "3          76               2         3                1           7587  ...   \n",
       "4          73               1         1                4           1118  ...   \n",
       "\n",
       "   JobRole_Manufacturing Director  JobRole_Research Director  \\\n",
       "0                             0.0                        0.0   \n",
       "1                             0.0                        0.0   \n",
       "2                             0.0                        0.0   \n",
       "3                             0.0                        0.0   \n",
       "4                             0.0                        0.0   \n",
       "\n",
       "   JobRole_Research Scientist  JobRole_Sales Executive  \\\n",
       "0                         0.0                      0.0   \n",
       "1                         1.0                      0.0   \n",
       "2                         0.0                      1.0   \n",
       "3                         0.0                      1.0   \n",
       "4                         0.0                      0.0   \n",
       "\n",
       "   JobRole_Sales Representative  MaritalStatus_Divorced  \\\n",
       "0                           0.0                     0.0   \n",
       "1                           0.0                     0.0   \n",
       "2                           0.0                     0.0   \n",
       "3                           0.0                     0.0   \n",
       "4                           1.0                     0.0   \n",
       "\n",
       "   MaritalStatus_Married  MaritalStatus_Single  OverTime_No  OverTime_Yes  \n",
       "0                    1.0                   0.0          0.0           1.0  \n",
       "1                    1.0                   0.0          1.0           0.0  \n",
       "2                    1.0                   0.0          1.0           0.0  \n",
       "3                    0.0                   1.0          1.0           0.0  \n",
       "4                    0.0                   1.0          0.0           1.0  \n",
       "\n",
       "[5 rows x 52 columns]"
      ]
     },
     "execution_count": 81,
     "metadata": {},
     "output_type": "execute_result"
    }
   ],
   "source": [
    "print(train_Attrition.shape)\n",
    "train_Attrition.head()"
   ]
  },
  {
   "cell_type": "code",
   "execution_count": 82,
   "metadata": {},
   "outputs": [],
   "source": [
    "# # Label Encoding will be used for columns with 2 or less unique values\n",
    "# le_count = 0\n",
    "# for col in train_Attrition.columns:\n",
    "#     if train_Attrition[col].dtype == 'object':\n",
    "#         if len(list(train_Attrition[col].unique())) <= 2:\n",
    "#             le.fit(train_Attrition[col])\n",
    "#             train_Attrition[col] = le.transform(train_Attrition[col])\n",
    "#             le_count += 1\n",
    "# print('{} columns were label encoded.'.format(le_count))"
   ]
  },
  {
   "cell_type": "code",
   "execution_count": 83,
   "metadata": {},
   "outputs": [],
   "source": [
    "# # convert rest of categorical variable into dummy\n",
    "# train_Attrition = pd.get_dummies(train_Attrition)"
   ]
  },
  {
   "cell_type": "code",
   "execution_count": 84,
   "metadata": {},
   "outputs": [],
   "source": [
    "# print(train_Attrition.shape)\n",
    "# train_Attrition.head()"
   ]
  },
  {
   "cell_type": "code",
   "execution_count": 85,
   "metadata": {},
   "outputs": [
    {
     "data": {
      "text/plain": [
       "Index(['Age', 'DailyRate', 'DistanceFromHome', 'Education',\n",
       "       'EnvironmentSatisfaction', 'HourlyRate', 'JobInvolvement', 'JobLevel',\n",
       "       'JobSatisfaction', 'MonthlyIncome', 'MonthlyRate', 'NumCompaniesWorked',\n",
       "       'PercentSalaryHike', 'PerformanceRating', 'RelationshipSatisfaction',\n",
       "       'StockOptionLevel', 'TotalWorkingYears', 'TrainingTimesLastYear',\n",
       "       'WorkLifeBalance', 'YearsAtCompany', 'YearsInCurrentRole',\n",
       "       'YearsSinceLastPromotion', 'YearsWithCurrManager', 'Target',\n",
       "       'BusinessTravel_Non-Travel', 'BusinessTravel_Travel_Frequently',\n",
       "       'BusinessTravel_Travel_Rarely', 'Department_Human Resources',\n",
       "       'Department_Research & Development', 'Department_Sales',\n",
       "       'EducationField_Human Resources', 'EducationField_Life Sciences',\n",
       "       'EducationField_Marketing', 'EducationField_Medical',\n",
       "       'EducationField_Other', 'EducationField_Technical Degree',\n",
       "       'Gender_Female', 'Gender_Male', 'JobRole_Healthcare Representative',\n",
       "       'JobRole_Human Resources', 'JobRole_Laboratory Technician',\n",
       "       'JobRole_Manager', 'JobRole_Manufacturing Director',\n",
       "       'JobRole_Research Director', 'JobRole_Research Scientist',\n",
       "       'JobRole_Sales Executive', 'JobRole_Sales Representative',\n",
       "       'MaritalStatus_Divorced', 'MaritalStatus_Married',\n",
       "       'MaritalStatus_Single', 'OverTime_No', 'OverTime_Yes'],\n",
       "      dtype='object')"
      ]
     },
     "execution_count": 85,
     "metadata": {},
     "output_type": "execute_result"
    }
   ],
   "source": [
    "train_Attrition.columns"
   ]
  },
  {
   "cell_type": "code",
   "execution_count": null,
   "metadata": {},
   "outputs": [],
   "source": []
  },
  {
   "cell_type": "markdown",
   "metadata": {},
   "source": [
    "## Feature Scaling\n",
    "\n",
    "### Feature Scaling using MinMaxScaler essentially shrinks the range such that the range is now between 0 and n. Machine Learning algorithms perform better when input numerical variables fall within a similar scale."
   ]
  },
  {
   "cell_type": "code",
   "execution_count": 86,
   "metadata": {},
   "outputs": [],
   "source": [
    "# # import MinMaxScaler\n",
    "# from sklearn.preprocessing import MinMaxScaler\n",
    "# scaler = MinMaxScaler(feature_range=(0, 5))\n",
    "# train_col = list(train_Attrition.columns)"
   ]
  },
  {
   "cell_type": "code",
   "execution_count": 87,
   "metadata": {},
   "outputs": [],
   "source": [
    "# for col in train_col:\n",
    "#     train_Attrition[col] = train_Attrition[col].astype(float)\n",
    "#     train_Attrition[[col]] = scaler.fit_transform(train_Attrition[[col]])\n",
    "# train_Attrition.head()"
   ]
  },
  {
   "cell_type": "code",
   "execution_count": 88,
   "metadata": {},
   "outputs": [],
   "source": [
    "# print('Size of Full Encoded Dataset: {}'. format(train_Attrition.shape))"
   ]
  },
  {
   "cell_type": "code",
   "execution_count": 89,
   "metadata": {},
   "outputs": [],
   "source": [
    "# train_Attrition.columns"
   ]
  },
  {
   "cell_type": "code",
   "execution_count": null,
   "metadata": {},
   "outputs": [],
   "source": []
  },
  {
   "cell_type": "markdown",
   "metadata": {},
   "source": [
    "## Splitting data into training and testing sets"
   ]
  },
  {
   "cell_type": "code",
   "execution_count": 90,
   "metadata": {},
   "outputs": [],
   "source": [
    "# assign the target to a new dataframe\n",
    "Target = train_Attrition['Target'].copy()"
   ]
  },
  {
   "cell_type": "code",
   "execution_count": 91,
   "metadata": {},
   "outputs": [
    {
     "data": {
      "text/plain": [
       "pandas.core.series.Series"
      ]
     },
     "execution_count": 91,
     "metadata": {},
     "output_type": "execute_result"
    }
   ],
   "source": [
    "type(Target)"
   ]
  },
  {
   "cell_type": "code",
   "execution_count": 92,
   "metadata": {},
   "outputs": [
    {
     "name": "stdout",
     "output_type": "stream",
     "text": [
      "Size of Full dataset is: (1176, 51)\n"
     ]
    }
   ],
   "source": [
    "# remove the target feature from the dataset\n",
    "train_Attrition.drop(['Target'], axis=1, inplace=True)\n",
    "print('Size of Full dataset is: {}'.format(train_Attrition.shape))"
   ]
  },
  {
   "cell_type": "code",
   "execution_count": 93,
   "metadata": {},
   "outputs": [
    {
     "name": "stdout",
     "output_type": "stream",
     "text": [
      "Number transactions X_train dataset:  (882, 51)\n",
      "Number transactions y_train dataset:  (882,)\n",
      "Number transactions X_test dataset:  (294, 51)\n",
      "Number transactions y_test dataset:  (294,)\n"
     ]
    }
   ],
   "source": [
    "# Since there is class imbalance (i.e. more employees with turnover=0 than turnover=1), \n",
    "# I will use stratify=y to maintain the same ratio as in the training dataset when splitting the dataset.\n",
    "from sklearn.model_selection import train_test_split\n",
    "X_train, X_test, y_train, y_test = train_test_split(train_Attrition,\n",
    "                                                    Target,\n",
    "                                                    test_size=0.25, \n",
    "                                                    random_state=8,\n",
    "                                                    stratify=Target)  \n",
    "print(\"Number transactions X_train dataset: \", X_train.shape)\n",
    "print(\"Number transactions y_train dataset: \", y_train.shape)\n",
    "print(\"Number transactions X_test dataset: \", X_test.shape)\n",
    "print(\"Number transactions y_test dataset: \", y_test.shape)"
   ]
  },
  {
   "cell_type": "code",
   "execution_count": null,
   "metadata": {},
   "outputs": [],
   "source": []
  },
  {
   "cell_type": "markdown",
   "metadata": {},
   "source": [
    "## Building Machine Learning Models"
   ]
  },
  {
   "cell_type": "markdown",
   "metadata": {},
   "source": [
    "### baseline algorithms"
   ]
  },
  {
   "cell_type": "markdown",
   "metadata": {},
   "source": [
    "First use a range of baseline algorithms (using out-of-the-box hyper-parameters) before moving on to more sophisticated solutions. \n",
    "The algorithms considered are: Logistic Regression, Random Forest, SVM, KNN, Decision Tree Classifier, Gaussian NB."
   ]
  },
  {
   "cell_type": "code",
   "execution_count": 94,
   "metadata": {},
   "outputs": [],
   "source": [
    "from sklearn import svm, tree, linear_model, neighbors\n",
    "from sklearn import naive_bayes, ensemble, discriminant_analysis, gaussian_process\n",
    "from sklearn.linear_model import LogisticRegression\n",
    "from sklearn.tree import DecisionTreeClassifier\n",
    "from sklearn.neighbors import KNeighborsClassifier\n",
    "from sklearn.discriminant_analysis import LinearDiscriminantAnalysis\n",
    "from sklearn.naive_bayes import GaussianNB\n",
    "from sklearn.svm import SVC\n",
    "from sklearn.neighbors import KNeighborsClassifier\n",
    "from xgboost import XGBClassifier\n",
    "from sklearn.ensemble import RandomForestClassifier\n",
    "\n",
    "models = []\n",
    "models.append(('Logistic Regression', LogisticRegression(solver='liblinear', random_state=8,\n",
    "                                                         class_weight='balanced')))\n",
    "models.append(('Random Forest', RandomForestClassifier(\n",
    "    n_estimators=100, random_state=8)))\n",
    "models.append(('SVM', SVC(gamma='auto', random_state=8)))\n",
    "models.append(('KNN', KNeighborsClassifier()))\n",
    "models.append(('Decision Tree Classifier',\n",
    "               DecisionTreeClassifier(random_state=8)))\n",
    "models.append(('Gaussian NB', GaussianNB()))"
   ]
  },
  {
   "cell_type": "code",
   "execution_count": 95,
   "metadata": {},
   "outputs": [
    {
     "data": {
      "text/plain": [
       "[('Logistic Regression',\n",
       "  LogisticRegression(C=1.0, class_weight='balanced', dual=False,\n",
       "                     fit_intercept=True, intercept_scaling=1, l1_ratio=None,\n",
       "                     max_iter=100, multi_class='warn', n_jobs=None, penalty='l2',\n",
       "                     random_state=8, solver='liblinear', tol=0.0001, verbose=0,\n",
       "                     warm_start=False)),\n",
       " ('Random Forest',\n",
       "  RandomForestClassifier(bootstrap=True, class_weight=None, criterion='gini',\n",
       "                         max_depth=None, max_features='auto', max_leaf_nodes=None,\n",
       "                         min_impurity_decrease=0.0, min_impurity_split=None,\n",
       "                         min_samples_leaf=1, min_samples_split=2,\n",
       "                         min_weight_fraction_leaf=0.0, n_estimators=100,\n",
       "                         n_jobs=None, oob_score=False, random_state=8, verbose=0,\n",
       "                         warm_start=False)),\n",
       " ('SVM', SVC(C=1.0, cache_size=200, class_weight=None, coef0=0.0,\n",
       "      decision_function_shape='ovr', degree=3, gamma='auto', kernel='rbf',\n",
       "      max_iter=-1, probability=False, random_state=8, shrinking=True, tol=0.001,\n",
       "      verbose=False)),\n",
       " ('KNN',\n",
       "  KNeighborsClassifier(algorithm='auto', leaf_size=30, metric='minkowski',\n",
       "                       metric_params=None, n_jobs=None, n_neighbors=5, p=2,\n",
       "                       weights='uniform')),\n",
       " ('Decision Tree Classifier',\n",
       "  DecisionTreeClassifier(class_weight=None, criterion='gini', max_depth=None,\n",
       "                         max_features=None, max_leaf_nodes=None,\n",
       "                         min_impurity_decrease=0.0, min_impurity_split=None,\n",
       "                         min_samples_leaf=1, min_samples_split=2,\n",
       "                         min_weight_fraction_leaf=0.0, presort=False,\n",
       "                         random_state=8, splitter='best')),\n",
       " ('Gaussian NB', GaussianNB(priors=None, var_smoothing=1e-09))]"
      ]
     },
     "execution_count": 95,
     "metadata": {},
     "output_type": "execute_result"
    }
   ],
   "source": [
    "models"
   ]
  },
  {
   "cell_type": "code",
   "execution_count": 96,
   "metadata": {},
   "outputs": [
    {
     "data": {
      "text/html": [
       "<div>\n",
       "<style scoped>\n",
       "    .dataframe tbody tr th:only-of-type {\n",
       "        vertical-align: middle;\n",
       "    }\n",
       "\n",
       "    .dataframe tbody tr th {\n",
       "        vertical-align: top;\n",
       "    }\n",
       "\n",
       "    .dataframe thead th {\n",
       "        text-align: right;\n",
       "    }\n",
       "</style>\n",
       "<table border=\"1\" class=\"dataframe\">\n",
       "  <thead>\n",
       "    <tr style=\"text-align: right;\">\n",
       "      <th></th>\n",
       "      <th>Algorithm</th>\n",
       "      <th>ROC AUC Mean</th>\n",
       "      <th>ROC AUC STD</th>\n",
       "      <th>Accuracy Mean</th>\n",
       "      <th>Accuracy STD</th>\n",
       "    </tr>\n",
       "  </thead>\n",
       "  <tbody>\n",
       "    <tr>\n",
       "      <th>0</th>\n",
       "      <td>Logistic Regression</td>\n",
       "      <td>80.35</td>\n",
       "      <td>9.92</td>\n",
       "      <td>74.83</td>\n",
       "      <td>4.14</td>\n",
       "    </tr>\n",
       "    <tr>\n",
       "      <th>1</th>\n",
       "      <td>Random Forest</td>\n",
       "      <td>79.41</td>\n",
       "      <td>9.16</td>\n",
       "      <td>86.15</td>\n",
       "      <td>3.79</td>\n",
       "    </tr>\n",
       "    <tr>\n",
       "      <th>5</th>\n",
       "      <td>Gaussian NB</td>\n",
       "      <td>77.11</td>\n",
       "      <td>7.19</td>\n",
       "      <td>77.66</td>\n",
       "      <td>3.86</td>\n",
       "    </tr>\n",
       "    <tr>\n",
       "      <th>4</th>\n",
       "      <td>Decision Tree Classifier</td>\n",
       "      <td>62.10</td>\n",
       "      <td>6.78</td>\n",
       "      <td>79.02</td>\n",
       "      <td>3.36</td>\n",
       "    </tr>\n",
       "    <tr>\n",
       "      <th>3</th>\n",
       "      <td>KNN</td>\n",
       "      <td>59.08</td>\n",
       "      <td>9.68</td>\n",
       "      <td>82.86</td>\n",
       "      <td>4.64</td>\n",
       "    </tr>\n",
       "    <tr>\n",
       "      <th>2</th>\n",
       "      <td>SVM</td>\n",
       "      <td>50.00</td>\n",
       "      <td>0.00</td>\n",
       "      <td>84.00</td>\n",
       "      <td>4.56</td>\n",
       "    </tr>\n",
       "  </tbody>\n",
       "</table>\n",
       "</div>"
      ],
      "text/plain": [
       "                  Algorithm  ROC AUC Mean  ROC AUC STD  Accuracy Mean  \\\n",
       "0       Logistic Regression         80.35         9.92          74.83   \n",
       "1             Random Forest         79.41         9.16          86.15   \n",
       "5               Gaussian NB         77.11         7.19          77.66   \n",
       "4  Decision Tree Classifier         62.10         6.78          79.02   \n",
       "3                       KNN         59.08         9.68          82.86   \n",
       "2                       SVM         50.00         0.00          84.00   \n",
       "\n",
       "   Accuracy STD  \n",
       "0          4.14  \n",
       "1          3.79  \n",
       "5          3.86  \n",
       "4          3.36  \n",
       "3          4.64  \n",
       "2          4.56  "
      ]
     },
     "execution_count": 96,
     "metadata": {},
     "output_type": "execute_result"
    }
   ],
   "source": [
    "# evaluate each model and provide accuracy and standard deviation scores\n",
    "\n",
    "from sklearn import model_selection\n",
    "\n",
    "acc_results = []\n",
    "auc_results = []\n",
    "names = []\n",
    "# set table to table to populate with performance results\n",
    "col = ['Algorithm', 'ROC AUC Mean', 'ROC AUC STD', \n",
    "       'Accuracy Mean', 'Accuracy STD']\n",
    "df_results = pd.DataFrame(columns=col)\n",
    "i = 0\n",
    "# evaluate each model using cross-validation\n",
    "for name, model in models:\n",
    "    kfold = model_selection.KFold(\n",
    "        n_splits=10, random_state=8)  # 10-fold cross-validation\n",
    "\n",
    "    cv_acc_results = model_selection.cross_val_score(  # accuracy scoring\n",
    "        model, X_train, y_train, cv=kfold, scoring='accuracy')\n",
    "\n",
    "    cv_auc_results = model_selection.cross_val_score(  # roc_auc scoring\n",
    "        model, X_train, y_train, cv=kfold, scoring='roc_auc')\n",
    "\n",
    "    acc_results.append(cv_acc_results)\n",
    "    auc_results.append(cv_auc_results)\n",
    "    names.append(name)\n",
    "    df_results.loc[i] = [name,\n",
    "                         round(cv_auc_results.mean()*100, 2),\n",
    "                         round(cv_auc_results.std()*100, 2),\n",
    "                         round(cv_acc_results.mean()*100, 2),\n",
    "                         round(cv_acc_results.std()*100, 2)\n",
    "                         ]\n",
    "    i += 1\n",
    "df_results.sort_values(by=['ROC AUC Mean'], ascending=False)"
   ]
  },
  {
   "cell_type": "code",
   "execution_count": null,
   "metadata": {},
   "outputs": [],
   "source": []
  },
  {
   "cell_type": "markdown",
   "metadata": {},
   "source": [
    "Classification Accuracy is the number of correct predictions made as a ratio of all predictions made.\n",
    "It is the most common evaluation metric for classification problems. However, it is often misused as it is only really suitable when there are an equal number of observations in each class and all predictions and prediction errors are equally important. Since it is not the case in this project, so a different scoring metric may be more suitable."
   ]
  },
  {
   "cell_type": "code",
   "execution_count": null,
   "metadata": {},
   "outputs": [],
   "source": []
  },
  {
   "cell_type": "code",
   "execution_count": 97,
   "metadata": {},
   "outputs": [
    {
     "data": {
      "image/png": "[encoded data removed]",
      "text/plain": [
       "<Figure size 1080x504 with 1 Axes>"
      ]
     },
     "metadata": {
      "needs_background": "light"
     },
     "output_type": "display_data"
    }
   ],
   "source": [
    "fig = plt.figure(figsize=(15, 7))\n",
    "fig.suptitle('Algorithm Accuracy Comparison')\n",
    "ax = fig.add_subplot(111)\n",
    "plt.boxplot(acc_results)\n",
    "ax.set_xticklabels(names)\n",
    "plt.show()"
   ]
  },
  {
   "cell_type": "markdown",
   "metadata": {},
   "source": [
    "Area under ROC Curve (or AUC for short) is a performance metric for binary classification problems.\n",
    "The AUC represents a model’s ability to discriminate between positive and negative classes. An area of 1.0 represents a model that made all predictions perfectly. An area of 0.5 represents a model as good as random."
   ]
  },
  {
   "cell_type": "code",
   "execution_count": null,
   "metadata": {},
   "outputs": [],
   "source": []
  },
  {
   "cell_type": "code",
   "execution_count": 98,
   "metadata": {},
   "outputs": [
    {
     "data": {
      "image/png": "[encoded data removed]",
      "text/plain": [
       "<Figure size 1080x504 with 1 Axes>"
      ]
     },
     "metadata": {
      "needs_background": "light"
     },
     "output_type": "display_data"
    }
   ],
   "source": [
    "fig = plt.figure(figsize=(15, 7))\n",
    "fig.suptitle('Algorithm ROC AUC Comparison')\n",
    "ax = fig.add_subplot(111)\n",
    "plt.boxplot(auc_results)\n",
    "ax.set_xticklabels(names)\n",
    "plt.show()"
   ]
  },
  {
   "cell_type": "markdown",
   "metadata": {},
   "source": [
    "Based on the ROC AUC comparison analysis, Logistic Regression and Random Forest show the highest mean AUC scores. I will use these two algorithms for further analysis."
   ]
  },
  {
   "cell_type": "markdown",
   "metadata": {},
   "source": [
    "Logistic Regression is a Machine Learning classification algorithm that is used to predict the probability of a categorical dependent variable. Logistic Regression is classification algorithm that is not as sophisticated as the ensemble methods or boosted decision trees method. Hence, it provides a good benchmark."
   ]
  },
  {
   "cell_type": "markdown",
   "metadata": {},
   "source": [
    "Random Forest is a popular and versatile machine learning method that is capable of solving both regression and classification. Random Forest is a brand of Ensemble learning, as it relies on an ensemble of decision trees. It aggregates Classification (or Regression) Trees. A decision tree is composed of a series of decisions that can be used to classify an observation in a dataset.\n",
    "\n",
    "Random Forest fits a number of decision tree classifiers on various sub-samples of the dataset and use averaging to improve the predictive accuracy and control over-fitting. Random Forest can handle a large number of features, and is helpful for estimating which of the variables are important in the underlying data being modeled."
   ]
  },
  {
   "cell_type": "code",
   "execution_count": null,
   "metadata": {},
   "outputs": [],
   "source": []
  },
  {
   "cell_type": "markdown",
   "metadata": {},
   "source": [
    "## Logistic Regression"
   ]
  },
  {
   "cell_type": "code",
   "execution_count": 99,
   "metadata": {},
   "outputs": [
    {
     "name": "stdout",
     "output_type": "stream",
     "text": [
      "AUC score (STD): 0.80 (0.10)\n"
     ]
    }
   ],
   "source": [
    "# use 10 fold Cross-Validation to train the Logistic Regression Model and estimate its AUC score\n",
    "kfold = model_selection.KFold(n_splits=10, random_state=8)\n",
    "modelCV = LogisticRegression(solver='liblinear',\n",
    "                             class_weight=\"balanced\", \n",
    "                             random_state=8)\n",
    "scoring = 'roc_auc'\n",
    "results = model_selection.cross_val_score(\n",
    "    modelCV, X_train, y_train, cv=kfold, scoring=scoring)\n",
    "print(\"AUC score (STD): %.2f (%.2f)\" % (results.mean(), results.std()))"
   ]
  },
  {
   "cell_type": "markdown",
   "metadata": {},
   "source": [
    "### Fine-tuning\n",
    "GridSearchCV allows use to fine-tune hyper-parameters by searching over specified parameter values for an estimator."
   ]
  },
  {
   "cell_type": "code",
   "execution_count": 100,
   "metadata": {},
   "outputs": [
    {
     "name": "stdout",
     "output_type": "stream",
     "text": [
      "====================\n",
      "best params: LogisticRegression(C=0.30099999999999993, class_weight='balanced', dual=False,\n",
      "                   fit_intercept=True, intercept_scaling=1, l1_ratio=None,\n",
      "                   max_iter=100, multi_class='warn', n_jobs=None, penalty='l2',\n",
      "                   random_state=8, solver='liblinear', tol=0.0001, verbose=0,\n",
      "                   warm_start=False)\n",
      "best params: {'C': 0.30099999999999993}\n",
      "best score: 0.8070293033558339\n",
      "====================\n"
     ]
    }
   ],
   "source": [
    "from sklearn.model_selection import GridSearchCV\n",
    "param_grid = {'C': np.arange(1e-03, 2, 0.01)} # hyper-parameter list to fine-tune\n",
    "log_gs = GridSearchCV(LogisticRegression(solver='liblinear', # setting GridSearchCV\n",
    "                                         class_weight=\"balanced\", \n",
    "                                         random_state=8),\n",
    "                      iid=True,\n",
    "                      return_train_score=True,\n",
    "                      param_grid=param_grid,\n",
    "                      scoring='roc_auc',\n",
    "                      cv=10)\n",
    "\n",
    "log_grid = log_gs.fit(X_train, y_train)\n",
    "log_opt = log_grid.best_estimator_\n",
    "results = log_gs.cv_results_\n",
    "\n",
    "print('='*20)\n",
    "print(\"best params: \" + str(log_gs.best_estimator_))\n",
    "print(\"best params: \" + str(log_gs.best_params_))\n",
    "print('best score:', log_gs.best_score_)\n",
    "print('='*20)"
   ]
  },
  {
   "cell_type": "markdown",
   "metadata": {},
   "source": [
    "The results from GridSearchCV provided fine-tuned hyper-parameter using ROC_AUC as the scoring metric."
   ]
  },
  {
   "cell_type": "markdown",
   "metadata": {},
   "source": [
    "### Evaluation"
   ]
  },
  {
   "cell_type": "code",
   "execution_count": 101,
   "metadata": {},
   "outputs": [
    {
     "data": {
      "text/plain": [
       "Text(0.5, 257.44, 'Predicted label')"
      ]
     },
     "execution_count": 101,
     "metadata": {},
     "output_type": "execute_result"
    },
    {
     "data": {
      "image/png": "[encoded data removed]",
      "text/plain": [
       "<Figure size 432x288 with 2 Axes>"
      ]
     },
     "metadata": {
      "needs_background": "light"
     },
     "output_type": "display_data"
    }
   ],
   "source": [
    "from sklearn import metrics\n",
    "## Confusion Matrix\n",
    "cnf_matrix = metrics.confusion_matrix(y_test, log_opt.predict(X_test))\n",
    "class_names=[0,1] # name  of classes\n",
    "fig, ax = plt.subplots()\n",
    "tick_marks = np.arange(len(class_names))\n",
    "plt.xticks(tick_marks, class_names)\n",
    "plt.yticks(tick_marks, class_names)\n",
    "# create heatmap\n",
    "sns.heatmap(pd.DataFrame(cnf_matrix), annot=True, cmap=\"YlGnBu\" ,fmt='g')\n",
    "ax.xaxis.set_label_position(\"top\")\n",
    "plt.tight_layout()\n",
    "plt.title('Confusion matrix', y=1.1)\n",
    "plt.ylabel('Actual label')\n",
    "plt.xlabel('Predicted label')"
   ]
  },
  {
   "cell_type": "code",
   "execution_count": 102,
   "metadata": {},
   "outputs": [
    {
     "name": "stdout",
     "output_type": "stream",
     "text": [
      "Accuracy of Logistic Regression Classifier on test set: 76.87\n"
     ]
    }
   ],
   "source": [
    "print('Accuracy of Logistic Regression Classifier on test set: {:.2f}'.format(log_opt.score(X_test, y_test)*100))"
   ]
  },
  {
   "cell_type": "markdown",
   "metadata": {},
   "source": [
    "The Confusion matrix provides a much more detailed representation of the accuracy score and of what's going on with the labels - I know exactly which/how labels were correctly and incorrectly predicted"
   ]
  },
  {
   "cell_type": "code",
   "execution_count": 103,
   "metadata": {},
   "outputs": [
    {
     "name": "stdout",
     "output_type": "stream",
     "text": [
      "              precision    recall  f1-score   support\n",
      "\n",
      "           0       0.93      0.78      0.85       247\n",
      "           1       0.38      0.70      0.49        47\n",
      "\n",
      "    accuracy                           0.77       294\n",
      "   macro avg       0.66      0.74      0.67       294\n",
      "weighted avg       0.84      0.77      0.79       294\n",
      "\n"
     ]
    }
   ],
   "source": [
    "# Classification report for the optimised Log Regression\n",
    "from sklearn.metrics import classification_report, precision_recall_curve, roc_auc_score\n",
    "log_opt.fit(X_train, y_train)\n",
    "print(classification_report(y_test, log_opt.predict(X_test)))"
   ]
  },
  {
   "cell_type": "markdown",
   "metadata": {},
   "source": [
    "Instead of getting binary estimated target features (0 or 1), a probability can be associated with the predicted target.\n",
    "The output provides a first index referring to the probability that the data belong to class 0 (employee not leaving), and the second refers to the probability that the data belong to class 1 (employee leaving).\n",
    "\n",
    "The resulting AUC score is higher than that best score during the optimisation step. Predicting probabilities of a particular label provides a measure of how likely an employee is to leave the company."
   ]
  },
  {
   "cell_type": "code",
   "execution_count": 104,
   "metadata": {},
   "outputs": [
    {
     "name": "stdout",
     "output_type": "stream",
     "text": [
      "AUC score: 0.809\n"
     ]
    }
   ],
   "source": [
    "log_opt.fit(X_train, y_train) # fit optimised model to the training data\n",
    "probs = log_opt.predict_proba(X_test) # predict probabilities\n",
    "probs = probs[:, 1] # we will only keep probabilities associated with the employee leaving\n",
    "logit_roc_auc = roc_auc_score(y_test, probs) # calculate AUC score using test dataset\n",
    "print('AUC score: %.3f' % logit_roc_auc)"
   ]
  },
  {
   "cell_type": "code",
   "execution_count": null,
   "metadata": {},
   "outputs": [],
   "source": []
  },
  {
   "cell_type": "markdown",
   "metadata": {},
   "source": [
    "## Random Forest Classifier"
   ]
  },
  {
   "cell_type": "markdown",
   "metadata": {},
   "source": [
    "fine-tune the Random Forest algorithm's hyper-parameters by cross-validation against the AUC score."
   ]
  },
  {
   "cell_type": "markdown",
   "metadata": {},
   "source": [
    "### Fine-tuning"
   ]
  },
  {
   "cell_type": "code",
   "execution_count": 105,
   "metadata": {},
   "outputs": [
    {
     "name": "stdout",
     "output_type": "stream",
     "text": [
      "====================\n",
      "best params: RandomForestClassifier(bootstrap=True, class_weight='balanced',\n",
      "                       criterion='gini', max_depth=15, max_features='auto',\n",
      "                       max_leaf_nodes=None, min_impurity_decrease=0.0,\n",
      "                       min_impurity_split=None, min_samples_leaf=3,\n",
      "                       min_samples_split=10, min_weight_fraction_leaf=0.0,\n",
      "                       n_estimators=150, n_jobs=None, oob_score=False,\n",
      "                       random_state=7, verbose=0, warm_start=False)\n",
      "best params: {'max_depth': 15, 'min_samples_leaf': 3, 'min_samples_split': 10, 'n_estimators': 150}\n",
      "best score: 0.8111403531811695\n",
      "====================\n"
     ]
    }
   ],
   "source": [
    "rf_classifier = RandomForestClassifier(class_weight = \"balanced\",\n",
    "                                       random_state=7)\n",
    "param_grid = {'n_estimators': [50, 75, 100, 125, 150],\n",
    "              'min_samples_split':[4, 6, 8, 10],\n",
    "              'min_samples_leaf': [2, 3, 4],\n",
    "              'max_depth': [5, 10, 15, 20]}\n",
    "\n",
    "grid_obj = GridSearchCV(rf_classifier,\n",
    "                        iid=True,\n",
    "                        return_train_score=True,\n",
    "                        param_grid=param_grid,\n",
    "                        scoring='roc_auc',\n",
    "                        cv=10)\n",
    "\n",
    "grid_fit = grid_obj.fit(X_train, y_train)\n",
    "rf_opt = grid_fit.best_estimator_\n",
    "\n",
    "print('='*20)\n",
    "print(\"best params: \" + str(grid_obj.best_estimator_))\n",
    "print(\"best params: \" + str(grid_obj.best_params_))\n",
    "print('best score:', grid_obj.best_score_)\n",
    "print('='*20)"
   ]
  },
  {
   "cell_type": "code",
   "execution_count": null,
   "metadata": {},
   "outputs": [],
   "source": []
  },
  {
   "cell_type": "markdown",
   "metadata": {},
   "source": [
    "Random Forest provides which features are of the most importance in predicting the target feature."
   ]
  },
  {
   "cell_type": "code",
   "execution_count": 106,
   "metadata": {},
   "outputs": [
    {
     "data": {
      "image/png": "[encoded data removed]",
      "text/plain": [
       "<Figure size 1080x504 with 1 Axes>"
      ]
     },
     "metadata": {
      "needs_background": "light"
     },
     "output_type": "display_data"
    }
   ],
   "source": [
    "# plot features by their importance:\n",
    "importances = rf_opt.feature_importances_\n",
    "indices = np.argsort(importances)[::-1] # Sort feature importances in descending order\n",
    "names = [X_train.columns[i] for i in indices] # Rearrange feature names so they match the sorted feature importances\n",
    "plt.figure(figsize=(15, 7)) # Create plot\n",
    "plt.title(\"Feature Importance\") # Create plot title\n",
    "plt.bar(range(X_train.shape[1]), importances[indices]) # Add bars\n",
    "plt.xticks(range(X_train.shape[1]), names, rotation=90) # Add feature names as x-axis labels\n",
    "plt.show() # Show plot"
   ]
  },
  {
   "cell_type": "code",
   "execution_count": null,
   "metadata": {},
   "outputs": [],
   "source": []
  },
  {
   "cell_type": "markdown",
   "metadata": {},
   "source": [
    "Random Forest helped me identify the Top 10 most important indicators (ranked in the table below)."
   ]
  },
  {
   "cell_type": "code",
   "execution_count": 107,
   "metadata": {},
   "outputs": [
    {
     "data": {
      "text/html": [
       "<div>\n",
       "<style scoped>\n",
       "    .dataframe tbody tr th:only-of-type {\n",
       "        vertical-align: middle;\n",
       "    }\n",
       "\n",
       "    .dataframe tbody tr th {\n",
       "        vertical-align: top;\n",
       "    }\n",
       "\n",
       "    .dataframe thead th {\n",
       "        text-align: right;\n",
       "    }\n",
       "</style>\n",
       "<table border=\"1\" class=\"dataframe\">\n",
       "  <thead>\n",
       "    <tr style=\"text-align: right;\">\n",
       "      <th></th>\n",
       "      <th>Feature</th>\n",
       "      <th>Coefficient</th>\n",
       "    </tr>\n",
       "  </thead>\n",
       "  <tbody>\n",
       "    <tr>\n",
       "      <th>0</th>\n",
       "      <td>Age</td>\n",
       "      <td>0.078539</td>\n",
       "    </tr>\n",
       "    <tr>\n",
       "      <th>1</th>\n",
       "      <td>MonthlyIncome</td>\n",
       "      <td>0.078438</td>\n",
       "    </tr>\n",
       "    <tr>\n",
       "      <th>2</th>\n",
       "      <td>TotalWorkingYears</td>\n",
       "      <td>0.055238</td>\n",
       "    </tr>\n",
       "    <tr>\n",
       "      <th>3</th>\n",
       "      <td>DistanceFromHome</td>\n",
       "      <td>0.049594</td>\n",
       "    </tr>\n",
       "    <tr>\n",
       "      <th>4</th>\n",
       "      <td>MonthlyRate</td>\n",
       "      <td>0.046656</td>\n",
       "    </tr>\n",
       "    <tr>\n",
       "      <th>5</th>\n",
       "      <td>DailyRate</td>\n",
       "      <td>0.045797</td>\n",
       "    </tr>\n",
       "    <tr>\n",
       "      <th>6</th>\n",
       "      <td>YearsAtCompany</td>\n",
       "      <td>0.043770</td>\n",
       "    </tr>\n",
       "    <tr>\n",
       "      <th>7</th>\n",
       "      <td>HourlyRate</td>\n",
       "      <td>0.040505</td>\n",
       "    </tr>\n",
       "    <tr>\n",
       "      <th>8</th>\n",
       "      <td>YearsWithCurrManager</td>\n",
       "      <td>0.040304</td>\n",
       "    </tr>\n",
       "    <tr>\n",
       "      <th>9</th>\n",
       "      <td>StockOptionLevel</td>\n",
       "      <td>0.034308</td>\n",
       "    </tr>\n",
       "  </tbody>\n",
       "</table>\n",
       "</div>"
      ],
      "text/plain": [
       "                Feature  Coefficient\n",
       "0                   Age     0.078539\n",
       "1         MonthlyIncome     0.078438\n",
       "2     TotalWorkingYears     0.055238\n",
       "3      DistanceFromHome     0.049594\n",
       "4           MonthlyRate     0.046656\n",
       "5             DailyRate     0.045797\n",
       "6        YearsAtCompany     0.043770\n",
       "7            HourlyRate     0.040505\n",
       "8  YearsWithCurrManager     0.040304\n",
       "9      StockOptionLevel     0.034308"
      ]
     },
     "execution_count": 107,
     "metadata": {},
     "output_type": "execute_result"
    }
   ],
   "source": [
    "importances = rf_opt.feature_importances_\n",
    "df_param_coeff = pd.DataFrame(columns=['Feature', 'Coefficient'])\n",
    "for i in range(44):\n",
    "    feat = X_train.columns[i]\n",
    "    coeff = importances[i]\n",
    "    df_param_coeff.loc[i] = (feat, coeff)\n",
    "df_param_coeff.sort_values(by='Coefficient', ascending=False, inplace=True)\n",
    "df_param_coeff = df_param_coeff.reset_index(drop=True)\n",
    "df_param_coeff.head(10)"
   ]
  },
  {
   "cell_type": "code",
   "execution_count": null,
   "metadata": {},
   "outputs": [],
   "source": []
  },
  {
   "cell_type": "markdown",
   "metadata": {},
   "source": [
    "### Evaluation"
   ]
  },
  {
   "cell_type": "code",
   "execution_count": 108,
   "metadata": {},
   "outputs": [
    {
     "data": {
      "text/plain": [
       "Text(0.5, 257.44, 'Predicted label')"
      ]
     },
     "execution_count": 108,
     "metadata": {},
     "output_type": "execute_result"
    },
    {
     "data": {
      "image/png": "[encoded data removed]",
      "text/plain": [
       "<Figure size 432x288 with 2 Axes>"
      ]
     },
     "metadata": {
      "needs_background": "light"
     },
     "output_type": "display_data"
    }
   ],
   "source": [
    "## Confusion Matrix\n",
    "cnf_matrix = metrics.confusion_matrix(y_test, rf_opt.predict(X_test))\n",
    "class_names=[0,1] # name  of classes\n",
    "fig, ax = plt.subplots()\n",
    "tick_marks = np.arange(len(class_names))\n",
    "plt.xticks(tick_marks, class_names)\n",
    "plt.yticks(tick_marks, class_names)\n",
    "# create heatmap\n",
    "sns.heatmap(pd.DataFrame(cnf_matrix), annot=True, cmap=\"YlGnBu\" ,fmt='g')\n",
    "ax.xaxis.set_label_position(\"top\")\n",
    "plt.tight_layout()\n",
    "plt.title('Confusion matrix', y=1.1)\n",
    "plt.ylabel('Actual label')\n",
    "plt.xlabel('Predicted label')"
   ]
  },
  {
   "cell_type": "code",
   "execution_count": 109,
   "metadata": {},
   "outputs": [
    {
     "name": "stdout",
     "output_type": "stream",
     "text": [
      "Accuracy of RandomForest Regression Classifier on test set: 86.73\n"
     ]
    }
   ],
   "source": [
    "print('Accuracy of RandomForest Regression Classifier on test set: {:.2f}'.format(rf_opt.score(X_test, y_test)*100))"
   ]
  },
  {
   "cell_type": "code",
   "execution_count": 110,
   "metadata": {},
   "outputs": [
    {
     "name": "stdout",
     "output_type": "stream",
     "text": [
      "              precision    recall  f1-score   support\n",
      "\n",
      "           0       0.88      0.98      0.93       247\n",
      "           1       0.70      0.30      0.42        47\n",
      "\n",
      "    accuracy                           0.87       294\n",
      "   macro avg       0.79      0.64      0.67       294\n",
      "weighted avg       0.85      0.87      0.84       294\n",
      "\n"
     ]
    }
   ],
   "source": [
    "# Classification report for the optimised RF Regression\n",
    "rf_opt.fit(X_train, y_train)\n",
    "print(classification_report(y_test, rf_opt.predict(X_test)))"
   ]
  },
  {
   "cell_type": "code",
   "execution_count": null,
   "metadata": {},
   "outputs": [],
   "source": []
  },
  {
   "cell_type": "markdown",
   "metadata": {},
   "source": [
    "The resulting AUC score is higher than that best score during the optimisation step. Predicting probabilities of a particular label provides a measure of how likely an employee is to leave the company."
   ]
  },
  {
   "cell_type": "code",
   "execution_count": 111,
   "metadata": {},
   "outputs": [
    {
     "name": "stdout",
     "output_type": "stream",
     "text": [
      "AUC score: 0.800\n"
     ]
    }
   ],
   "source": [
    "rf_opt.fit(X_train, y_train) # fit optimised model to the training data\n",
    "probs = rf_opt.predict_proba(X_test) # predict probabilities\n",
    "probs = probs[:, 1] # we will only keep probabilities associated with the employee leaving\n",
    "rf_opt_roc_auc = roc_auc_score(y_test, probs) # calculate AUC score using test dataset\n",
    "print('AUC score: %.3f' % rf_opt_roc_auc)"
   ]
  },
  {
   "cell_type": "markdown",
   "metadata": {},
   "source": [
    "AUC - ROC curve is a performance measurement for classification problem at various thresholds settings. ROC is a probability curve and AUC represents degree or measure of separability. It tells how much model is capable of distinguishing between classes."
   ]
  },
  {
   "cell_type": "markdown",
   "metadata": {},
   "source": [
    "### The fine-tuned Logistic Regression model(AUC score: 0.809) has a higher AUC score compared to the Random Forest Classifier(AUC score: 0.800)."
   ]
  },
  {
   "cell_type": "code",
   "execution_count": 112,
   "metadata": {},
   "outputs": [],
   "source": [
    "test_Attrition=pd.read_csv('test_Employee_Attrition.csv')"
   ]
  },
  {
   "cell_type": "code",
   "execution_count": 113,
   "metadata": {},
   "outputs": [
    {
     "data": {
      "text/plain": [
       "(294, 35)"
      ]
     },
     "execution_count": 113,
     "metadata": {},
     "output_type": "execute_result"
    }
   ],
   "source": [
    "test_Attrition.shape"
   ]
  },
  {
   "cell_type": "code",
   "execution_count": 114,
   "metadata": {},
   "outputs": [
    {
     "data": {
      "text/html": [
       "<div>\n",
       "<style scoped>\n",
       "    .dataframe tbody tr th:only-of-type {\n",
       "        vertical-align: middle;\n",
       "    }\n",
       "\n",
       "    .dataframe tbody tr th {\n",
       "        vertical-align: top;\n",
       "    }\n",
       "\n",
       "    .dataframe thead th {\n",
       "        text-align: right;\n",
       "    }\n",
       "</style>\n",
       "<table border=\"1\" class=\"dataframe\">\n",
       "  <thead>\n",
       "    <tr style=\"text-align: right;\">\n",
       "      <th></th>\n",
       "      <th>user_id</th>\n",
       "      <th>Age</th>\n",
       "      <th>BusinessTravel</th>\n",
       "      <th>DailyRate</th>\n",
       "      <th>Department</th>\n",
       "      <th>DistanceFromHome</th>\n",
       "      <th>Education</th>\n",
       "      <th>EducationField</th>\n",
       "      <th>EmployeeCount</th>\n",
       "      <th>EmployeeNumber</th>\n",
       "      <th>...</th>\n",
       "      <th>RelationshipSatisfaction</th>\n",
       "      <th>StandardHours</th>\n",
       "      <th>StockOptionLevel</th>\n",
       "      <th>TotalWorkingYears</th>\n",
       "      <th>TrainingTimesLastYear</th>\n",
       "      <th>WorkLifeBalance</th>\n",
       "      <th>YearsAtCompany</th>\n",
       "      <th>YearsInCurrentRole</th>\n",
       "      <th>YearsSinceLastPromotion</th>\n",
       "      <th>YearsWithCurrManager</th>\n",
       "    </tr>\n",
       "  </thead>\n",
       "  <tbody>\n",
       "    <tr>\n",
       "      <th>0</th>\n",
       "      <td>442</td>\n",
       "      <td>36</td>\n",
       "      <td>Non-Travel</td>\n",
       "      <td>635</td>\n",
       "      <td>Sales</td>\n",
       "      <td>10</td>\n",
       "      <td>4</td>\n",
       "      <td>Medical</td>\n",
       "      <td>1</td>\n",
       "      <td>592</td>\n",
       "      <td>...</td>\n",
       "      <td>4</td>\n",
       "      <td>80</td>\n",
       "      <td>0</td>\n",
       "      <td>10</td>\n",
       "      <td>3</td>\n",
       "      <td>2</td>\n",
       "      <td>10</td>\n",
       "      <td>3</td>\n",
       "      <td>9</td>\n",
       "      <td>7</td>\n",
       "    </tr>\n",
       "    <tr>\n",
       "      <th>1</th>\n",
       "      <td>1091</td>\n",
       "      <td>33</td>\n",
       "      <td>Travel_Rarely</td>\n",
       "      <td>575</td>\n",
       "      <td>Research &amp; Development</td>\n",
       "      <td>25</td>\n",
       "      <td>3</td>\n",
       "      <td>Life Sciences</td>\n",
       "      <td>1</td>\n",
       "      <td>1545</td>\n",
       "      <td>...</td>\n",
       "      <td>4</td>\n",
       "      <td>80</td>\n",
       "      <td>0</td>\n",
       "      <td>5</td>\n",
       "      <td>2</td>\n",
       "      <td>3</td>\n",
       "      <td>5</td>\n",
       "      <td>3</td>\n",
       "      <td>0</td>\n",
       "      <td>2</td>\n",
       "    </tr>\n",
       "    <tr>\n",
       "      <th>2</th>\n",
       "      <td>981</td>\n",
       "      <td>35</td>\n",
       "      <td>Travel_Frequently</td>\n",
       "      <td>662</td>\n",
       "      <td>Sales</td>\n",
       "      <td>18</td>\n",
       "      <td>4</td>\n",
       "      <td>Marketing</td>\n",
       "      <td>1</td>\n",
       "      <td>1380</td>\n",
       "      <td>...</td>\n",
       "      <td>3</td>\n",
       "      <td>80</td>\n",
       "      <td>1</td>\n",
       "      <td>5</td>\n",
       "      <td>0</td>\n",
       "      <td>2</td>\n",
       "      <td>4</td>\n",
       "      <td>2</td>\n",
       "      <td>3</td>\n",
       "      <td>2</td>\n",
       "    </tr>\n",
       "    <tr>\n",
       "      <th>3</th>\n",
       "      <td>785</td>\n",
       "      <td>40</td>\n",
       "      <td>Travel_Rarely</td>\n",
       "      <td>1492</td>\n",
       "      <td>Research &amp; Development</td>\n",
       "      <td>20</td>\n",
       "      <td>4</td>\n",
       "      <td>Technical Degree</td>\n",
       "      <td>1</td>\n",
       "      <td>1092</td>\n",
       "      <td>...</td>\n",
       "      <td>4</td>\n",
       "      <td>80</td>\n",
       "      <td>1</td>\n",
       "      <td>14</td>\n",
       "      <td>6</td>\n",
       "      <td>3</td>\n",
       "      <td>11</td>\n",
       "      <td>10</td>\n",
       "      <td>11</td>\n",
       "      <td>1</td>\n",
       "    </tr>\n",
       "    <tr>\n",
       "      <th>4</th>\n",
       "      <td>1332</td>\n",
       "      <td>29</td>\n",
       "      <td>Travel_Frequently</td>\n",
       "      <td>459</td>\n",
       "      <td>Research &amp; Development</td>\n",
       "      <td>24</td>\n",
       "      <td>2</td>\n",
       "      <td>Life Sciences</td>\n",
       "      <td>1</td>\n",
       "      <td>1868</td>\n",
       "      <td>...</td>\n",
       "      <td>2</td>\n",
       "      <td>80</td>\n",
       "      <td>0</td>\n",
       "      <td>1</td>\n",
       "      <td>3</td>\n",
       "      <td>2</td>\n",
       "      <td>1</td>\n",
       "      <td>0</td>\n",
       "      <td>1</td>\n",
       "      <td>0</td>\n",
       "    </tr>\n",
       "  </tbody>\n",
       "</table>\n",
       "<p>5 rows × 35 columns</p>\n",
       "</div>"
      ],
      "text/plain": [
       "   user_id  Age     BusinessTravel  DailyRate              Department  \\\n",
       "0      442   36         Non-Travel        635                   Sales   \n",
       "1     1091   33      Travel_Rarely        575  Research & Development   \n",
       "2      981   35  Travel_Frequently        662                   Sales   \n",
       "3      785   40      Travel_Rarely       1492  Research & Development   \n",
       "4     1332   29  Travel_Frequently        459  Research & Development   \n",
       "\n",
       "   DistanceFromHome  Education    EducationField  EmployeeCount  \\\n",
       "0                10          4           Medical              1   \n",
       "1                25          3     Life Sciences              1   \n",
       "2                18          4         Marketing              1   \n",
       "3                20          4  Technical Degree              1   \n",
       "4                24          2     Life Sciences              1   \n",
       "\n",
       "   EmployeeNumber  ...  RelationshipSatisfaction StandardHours  \\\n",
       "0             592  ...                         4            80   \n",
       "1            1545  ...                         4            80   \n",
       "2            1380  ...                         3            80   \n",
       "3            1092  ...                         4            80   \n",
       "4            1868  ...                         2            80   \n",
       "\n",
       "   StockOptionLevel  TotalWorkingYears  TrainingTimesLastYear WorkLifeBalance  \\\n",
       "0                 0                 10                      3               2   \n",
       "1                 0                  5                      2               3   \n",
       "2                 1                  5                      0               2   \n",
       "3                 1                 14                      6               3   \n",
       "4                 0                  1                      3               2   \n",
       "\n",
       "   YearsAtCompany YearsInCurrentRole  YearsSinceLastPromotion  \\\n",
       "0              10                  3                        9   \n",
       "1               5                  3                        0   \n",
       "2               4                  2                        3   \n",
       "3              11                 10                       11   \n",
       "4               1                  0                        1   \n",
       "\n",
       "   YearsWithCurrManager  \n",
       "0                     7  \n",
       "1                     2  \n",
       "2                     2  \n",
       "3                     1  \n",
       "4                     0  \n",
       "\n",
       "[5 rows x 35 columns]"
      ]
     },
     "execution_count": 114,
     "metadata": {},
     "output_type": "execute_result"
    }
   ],
   "source": [
    "test_Attrition.head()"
   ]
  },
  {
   "cell_type": "code",
   "execution_count": 115,
   "metadata": {},
   "outputs": [],
   "source": [
    "test_Attrition = test_Attrition.drop(\n",
    "    ['user_id', 'EmployeeCount', 'EmployeeNumber', 'StandardHours', 'Over18'], axis=1)"
   ]
  },
  {
   "cell_type": "code",
   "execution_count": 116,
   "metadata": {},
   "outputs": [],
   "source": [
    "# apply trained one-hot encoder to the test dataset\n",
    "test_one_hot_df = pd.DataFrame(one_hot_encode.transform(test_Attrition.loc[:, one_hot_features]), \n",
    "                                 columns=one_hot_encode.get_feature_names(one_hot_features))\n",
    "test_Attrition = pd.concat([test_Attrition.drop(columns=one_hot_features), test_one_hot_df], axis=1)"
   ]
  },
  {
   "cell_type": "code",
   "execution_count": null,
   "metadata": {},
   "outputs": [],
   "source": [
    "print('Size of Full Encoded Dataset: {}'. format(test_Attrition.shape))"
   ]
  },
  {
   "cell_type": "code",
   "execution_count": 122,
   "metadata": {},
   "outputs": [
    {
     "data": {
      "text/plain": [
       "array([0.33891616, 0.50303251, 0.87533444, 0.77537927, 0.92224937,\n",
       "       0.29166864, 0.90456851, 0.26012904, 0.0080791 , 0.51705867,\n",
       "       0.22581521, 0.50893897, 0.09528747, 0.69952493, 0.19616535,\n",
       "       0.04267141, 0.27409572, 0.20211217, 0.20359979, 0.66533362,\n",
       "       0.5240815 , 0.12260696, 0.21435929, 0.21783909, 0.92427396,\n",
       "       0.83405948, 0.34845377, 0.10291197, 0.92768412, 0.18291084,\n",
       "       0.070076  , 0.67438278, 0.2031052 , 0.15054563, 0.14597841,\n",
       "       0.11619265, 0.76199916, 0.37825982, 0.11535213, 0.37755315,\n",
       "       0.28153192, 0.09763099, 0.03925426, 0.03360238, 0.08519866,\n",
       "       0.64561675, 0.74984512, 0.01075077, 0.79419271, 0.48220882,\n",
       "       0.22125843, 0.95130801, 0.17663984, 0.66018369, 0.70628024,\n",
       "       0.44642792, 0.08557954, 0.53530279, 0.13079788, 0.6529209 ,\n",
       "       0.05864664, 0.56070671, 0.54859063, 0.19776785, 0.60600173,\n",
       "       0.09881544, 0.45645036, 0.66774011, 0.49677399, 0.50043323,\n",
       "       0.42069944, 0.50096071, 0.41705359, 0.20334042, 0.35829509,\n",
       "       0.31969521, 0.12681236, 0.07480111, 0.81355454, 0.16862473,\n",
       "       0.06355145, 0.25588706, 0.65157593, 0.14299477, 0.18581023,\n",
       "       0.29891931, 0.02067757, 0.11784659, 0.13234095, 0.40000762,\n",
       "       0.27811103, 0.45448669, 0.74746297, 0.4165851 , 0.08825832,\n",
       "       0.46519947, 0.81388946, 0.81819925, 0.17865161, 0.21380189,\n",
       "       0.39520239, 0.82095148, 0.9427686 , 0.03856804, 0.35973616,\n",
       "       0.04663511, 0.37234655, 0.60658992, 0.12966471, 0.6686165 ,\n",
       "       0.20599668, 0.54114479, 0.0269301 , 0.72987047, 0.14675818,\n",
       "       0.08208496, 0.1388164 , 0.16904394, 0.02234572, 0.04445467,\n",
       "       0.30106816, 0.18107769, 0.40074707, 0.93502957, 0.03861093,\n",
       "       0.04413636, 0.01826826, 0.42545251, 0.39467709, 0.09071952,\n",
       "       0.07224188, 0.56739684, 0.78196159, 0.54512951, 0.02664033,\n",
       "       0.51177843, 0.87233229, 0.47462393, 0.67500378, 0.76137267,\n",
       "       0.12377484, 0.15245588, 0.23670634, 0.57700597, 0.78328667,\n",
       "       0.16951318, 0.56691314, 0.0418738 , 0.25974564, 0.51240126,\n",
       "       0.05672919, 0.69817607, 0.23662609, 0.57736418, 0.11639387,\n",
       "       0.1616367 , 0.56811208, 0.71177428, 0.06727746, 0.14631227,\n",
       "       0.87728518, 0.03862058, 0.1238907 , 0.96082809, 0.04475201,\n",
       "       0.49400454, 0.61394424, 0.47471718, 0.17526107, 0.01685172,\n",
       "       0.79177678, 0.20698411, 0.05716582, 0.59168469, 0.34271675,\n",
       "       0.32701   , 0.2821349 , 0.2993872 , 0.17888728, 0.32141588,\n",
       "       0.14634063, 0.4057918 , 0.02150673, 0.88721766, 0.42787554,\n",
       "       0.30890516, 0.79727116, 0.10151826, 0.76080102, 0.63299987,\n",
       "       0.59746355, 0.73807097, 0.67210799, 0.06102291, 0.20543774,\n",
       "       0.46584636, 0.20569322, 0.06356756, 0.64444823, 0.09443424,\n",
       "       0.74947861, 0.4942885 , 0.91973343, 0.22810052, 0.64945367,\n",
       "       0.21684663, 0.61537168, 0.00843489, 0.51742005, 0.10247187,\n",
       "       0.46904526, 0.84830876, 0.35645458, 0.75021528, 0.30733993,\n",
       "       0.04142482, 0.34150999, 0.18004637, 0.31197525, 0.21371359,\n",
       "       0.41272183, 0.71683661, 0.79362464, 0.59921398, 0.71344785,\n",
       "       0.04087291, 0.28674471, 0.45754972, 0.93191128, 0.24720168,\n",
       "       0.61380126, 0.29721153, 0.26102162, 0.20939362, 0.22203856,\n",
       "       0.31806247, 0.57227245, 0.01296205, 0.32946974, 0.0298653 ,\n",
       "       0.302928  , 0.74901931, 0.05952887, 0.32464549, 0.21702358,\n",
       "       0.21237645, 0.52668976, 0.47356746, 0.20138228, 0.22264961,\n",
       "       0.60510628, 0.1743047 , 0.92061098, 0.28345034, 0.29040939,\n",
       "       0.26758874, 0.03415603, 0.88804414, 0.87481883, 0.7369212 ,\n",
       "       0.44315402, 0.13086139, 0.64857959, 0.33037986, 0.12188491,\n",
       "       0.19545773, 0.02260894, 0.7115201 , 0.76485529, 0.179029  ,\n",
       "       0.19867312, 0.07010649, 0.39493301, 0.16761701, 0.04795001,\n",
       "       0.05589319, 0.52382015, 0.47964619, 0.49375225, 0.4706557 ,\n",
       "       0.85177337, 0.03489931, 0.20699288, 0.45929124, 0.16033196,\n",
       "       0.22177903, 0.00443658, 0.65122892, 0.01868783, 0.12663312,\n",
       "       0.25487129, 0.79397374, 0.12083721, 0.24927127])"
      ]
     },
     "execution_count": 122,
     "metadata": {},
     "output_type": "execute_result"
    }
   ],
   "source": [
    "final_prediction_ = log_opt.predict_proba(test_Attrition)[:, 1]\n",
    "final_prediction"
   ]
  },
  {
   "cell_type": "code",
   "execution_count": 130,
   "metadata": {},
   "outputs": [],
   "source": [
    "pd.DataFrame(final_prediction, index=pd.read_csv('test_Employee_Attrition.csv').user_id).rename(columns={0:'Attrition'})\\\n",
    ".to_excel('final_prediction_with_logit.xlsx')"
   ]
  },
  {
   "cell_type": "code",
   "execution_count": null,
   "metadata": {},
   "outputs": [],
   "source": []
  }
 ],
 "metadata": {
  "kernelspec": {
   "display_name": "Python 3",
   "language": "python",
   "name": "python3"
  },
  "language_info": {
   "codemirror_mode": {
    "name": "ipython",
    "version": 3
   },
   "file_extension": ".py",
   "mimetype": "text/x-python",
   "name": "python",
   "nbconvert_exporter": "python",
   "pygments_lexer": "ipython3",
   "version": "3.7.3"
  }
 },
 "nbformat": 4,
 "nbformat_minor": 2
}
