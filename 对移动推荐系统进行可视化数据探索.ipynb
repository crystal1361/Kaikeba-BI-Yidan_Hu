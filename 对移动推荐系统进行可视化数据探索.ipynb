{
 "cells": [
  {
   "cell_type": "code",
   "execution_count": 1,
   "metadata": {},
   "outputs": [],
   "source": [
    "import pandas as pd"
   ]
  },
  {
   "cell_type": "code",
   "execution_count": 2,
   "metadata": {},
   "outputs": [
    {
     "name": "stdout",
     "output_type": "stream",
     "text": [
      "    user_id    item_id  behavior_type user_geohash  item_category  \\\n",
      "0  10001082  285259775              1      97lk14c           4076   \n",
      "1  10001082    4368907              1          NaN           5503   \n",
      "2  10001082    4368907              1          NaN           5503   \n",
      "3  10001082   53616768              1          NaN           9762   \n",
      "4  10001082  151466952              1          NaN           5232   \n",
      "\n",
      "            time  \n",
      "0  2014-12-08 18  \n",
      "1  2014-12-12 12  \n",
      "2  2014-12-12 12  \n",
      "3  2014-12-02 15  \n",
      "4  2014-12-12 11  \n",
      "Index(['user_id', 'item_id', 'behavior_type', 'user_geohash', 'item_category',\n",
      "       'time'],\n",
      "      dtype='object')\n",
      "<class 'pandas.core.frame.DataFrame'>\n",
      "RangeIndex: 23291027 entries, 0 to 23291026\n",
      "Data columns (total 6 columns):\n",
      "user_id          int64\n",
      "item_id          int64\n",
      "behavior_type    int64\n",
      "user_geohash     object\n",
      "item_category    int64\n",
      "time             object\n",
      "dtypes: int64(4), object(2)\n",
      "memory usage: 1.0+ GB\n",
      "None\n",
      "user_id                 0\n",
      "item_id                 0\n",
      "behavior_type           0\n",
      "user_geohash     15911010\n",
      "item_category           0\n",
      "time                    0\n",
      "dtype: int64\n"
     ]
    }
   ],
   "source": [
    "#数据加载\n",
    "filename='tianchi_fresh_comp_train_user.csv'\n",
    "df=pd.read_csv(filename)\n",
    "print(df.head())\n",
    "print(df.columns)\n",
    "print(df.info())\n",
    "print(df.isnull().sum())"
   ]
  },
  {
   "cell_type": "code",
   "execution_count": 3,
   "metadata": {},
   "outputs": [
    {
     "name": "stdout",
     "output_type": "stream",
     "text": [
      "1    21940520\n",
      "3      659437\n",
      "2      458491\n",
      "4      232579\n",
      "Name: behavior_type, dtype: int64\n",
      "CVR=0.9985776926023916%\n"
     ]
    }
   ],
   "source": [
    "#计算CVR\n",
    "count_all=0\n",
    "count_4=0 #统计behavior_type=4\n",
    "count_user=df['behavior_type'].value_counts()\n",
    "print(count_user)\n",
    "count_all=count_user[1]+count_user[2]+count_user[3]+count_user[4]\n",
    "count_4=count_user[4]\n",
    "cvr=count_4/count_all\n",
    "print('CVR={}%'.format(cvr*100))"
   ]
  },
  {
   "cell_type": "code",
   "execution_count": 4,
   "metadata": {},
   "outputs": [
    {
     "name": "stdout",
     "output_type": "stream",
     "text": [
      "                      user_id    item_id  behavior_type user_geohash  \\\n",
      "time                                                                   \n",
      "2014-12-08 18:00:00  10001082  285259775              1      97lk14c   \n",
      "2014-12-12 12:00:00  10001082    4368907              1          NaN   \n",
      "2014-12-12 12:00:00  10001082    4368907              1          NaN   \n",
      "2014-12-02 15:00:00  10001082   53616768              1          NaN   \n",
      "2014-12-12 11:00:00  10001082  151466952              1          NaN   \n",
      "\n",
      "                     item_category                time  \n",
      "time                                                    \n",
      "2014-12-08 18:00:00           4076 2014-12-08 18:00:00  \n",
      "2014-12-12 12:00:00           5503 2014-12-12 12:00:00  \n",
      "2014-12-12 12:00:00           5503 2014-12-12 12:00:00  \n",
      "2014-12-02 15:00:00           9762 2014-12-02 15:00:00  \n",
      "2014-12-12 11:00:00           5232 2014-12-12 11:00:00  \n",
      "                      user_id    item_id  behavior_type user_geohash  \\\n",
      "time                                                                   \n",
      "2014-12-08 18:00:00  10001082  285259775              1      97lk14c   \n",
      "2014-12-12 12:00:00  10001082    4368907              1          NaN   \n",
      "2014-12-12 12:00:00  10001082    4368907              1          NaN   \n",
      "2014-12-02 15:00:00  10001082   53616768              1          NaN   \n",
      "2014-12-12 11:00:00  10001082  151466952              1          NaN   \n",
      "\n",
      "                     item_category  \n",
      "time                                \n",
      "2014-12-08 18:00:00           4076  \n",
      "2014-12-12 12:00:00           5503  \n",
      "2014-12-12 12:00:00           5503  \n",
      "2014-12-02 15:00:00           9762  \n",
      "2014-12-12 11:00:00           5232  \n"
     ]
    }
   ],
   "source": [
    "#将time字段设置为pandas中的datetime类型\n",
    "df['time']=pd.to_datetime(df['time'])\n",
    "df.index=df['time']\n",
    "print(df.head())\n",
    "df.drop(['time'],axis=1,inplace=True)\n",
    "print(df.head())"
   ]
  },
  {
   "cell_type": "code",
   "execution_count": 5,
   "metadata": {},
   "outputs": [],
   "source": [
    "#时间规律统计\n",
    "from collections import defaultdict\n",
    "from datetime import datetime, timedelta\n",
    "import matplotlib.pyplot as plt\n",
    "def show_count_day(df):\n",
    "    count_day=defaultdict(int)\n",
    "    #时间是从2014-11-18到2014-12-18\n",
    "    str1='2014-11-18'\n",
    "    #strptime将字符串转化为时间类型\n",
    "    temp_date = datetime.strptime(str1, '%Y-%m-%d')\n",
    "    delta=timedelta(days=1)\n",
    "    for i in range(30):\n",
    "        temp_date = temp_date+delta\n",
    "        # strftime时间类型转换为字符串\n",
    "        temp_str=temp_date.strftime('%Y-%m-%d')\n",
    "        count_day[temp_str]+=df[temp_str].shape[0]\n",
    "    print(count_day)\n",
    "    df_count_day=pd.DataFrame.from_dict(count_day,orient='index', columns=['count'])\n",
    "    df_count_day['count'].plot(kind='bar')\n",
    "    plt.legend(loc='best')\n",
    "    plt.grid(True)"
   ]
  },
  {
   "cell_type": "code",
   "execution_count": 6,
   "metadata": {},
   "outputs": [
    {
     "name": "stdout",
     "output_type": "stream",
     "text": [
      "defaultdict(<class 'int'>, {'2014-11-19': 687528, '2014-11-20': 672189, '2014-11-21': 634122, '2014-11-22': 668509, '2014-11-23': 722978, '2014-11-24': 718217, '2014-11-25': 699413, '2014-11-26': 679323, '2014-11-27': 689855, '2014-11-28': 658806, '2014-11-29': 684442, '2014-11-30': 751093, '2014-12-01': 744363, '2014-12-02': 753810, '2014-12-03': 788689, '2014-12-04': 745391, '2014-12-05': 693593, '2014-12-06': 732821, '2014-12-07': 763498, '2014-12-08': 753138, '2014-12-09': 767838, '2014-12-10': 788712, '2014-12-11': 944979, '2014-12-12': 1344980, '2014-12-13': 777013, '2014-12-14': 779285, '2014-12-15': 764085, '2014-12-16': 751370, '2014-12-17': 734520, '2014-12-18': 711839})\n"
     ]
    },
    {
     "data": {
      "image/png": "[encoded data removed]",
      "text/plain": [
       "<Figure size 432x288 with 1 Axes>"
      ]
     },
     "metadata": {
      "needs_background": "light"
     },
     "output_type": "display_data"
    }
   ],
   "source": [
    "#时间规律统计    \n",
    "show_count_day(df)"
   ]
  },
  {
   "cell_type": "code",
   "execution_count": 7,
   "metadata": {},
   "outputs": [
    {
     "name": "stdout",
     "output_type": "stream",
     "text": [
      "     item_id item_geohash  item_category\n",
      "0  100002303          NaN           3368\n",
      "1  100003592          NaN           7995\n",
      "2  100006838          NaN          12630\n",
      "3  100008089          NaN           7791\n",
      "4  100012750          NaN           9614\n",
      "(23291027, 5)\n",
      "(4279962, 7)\n",
      "                      user_id    item_id  behavior_type user_geohash  \\\n",
      "time                                                                   \n",
      "2014-12-03 01:00:00  10001082  275221686              1          NaN   \n",
      "2014-12-13 14:00:00  10001082  275221686              1          NaN   \n",
      "2014-12-08 07:00:00  10001082  275221686              1          NaN   \n",
      "2014-12-08 07:00:00  10001082  275221686              1          NaN   \n",
      "2014-12-08 00:00:00  10001082  275221686              1          NaN   \n",
      "\n",
      "                     item_category_x item_geohash  item_category_y  \n",
      "time                                                                \n",
      "2014-12-03 01:00:00            10576          NaN            10576  \n",
      "2014-12-13 14:00:00            10576          NaN            10576  \n",
      "2014-12-08 07:00:00            10576          NaN            10576  \n",
      "2014-12-08 07:00:00            10576          NaN            10576  \n",
      "2014-12-08 00:00:00            10576          NaN            10576  \n",
      "defaultdict(<class 'int'>, {'2014-11-19': 94513, '2014-11-20': 90008, '2014-11-21': 81061, '2014-11-22': 121133, '2014-11-23': 157253, '2014-11-24': 113969, '2014-11-25': 106101, '2014-11-26': 103857, '2014-11-27': 91260, '2014-11-28': 135652, '2014-11-29': 127997, '2014-11-30': 117067, '2014-12-01': 104922, '2014-12-02': 134609, '2014-12-03': 144284, '2014-12-04': 103145, '2014-12-05': 114820, '2014-12-06': 138450, '2014-12-07': 129833, '2014-12-08': 157222, '2014-12-09': 204471, '2014-12-10': 149494, '2014-12-11': 225812, '2014-12-12': 422308, '2014-12-13': 120220, '2014-12-14': 130784, '2014-12-15': 156657, '2014-12-16': 130437, '2014-12-17': 155796, '2014-12-18': 130095})\n"
     ]
    },
    {
     "data": {
      "image/png": "[encoded data removed]",
      "text/plain": [
       "<Figure size 432x288 with 1 Axes>"
      ]
     },
     "metadata": {
      "needs_background": "light"
     },
     "output_type": "display_data"
    }
   ],
   "source": [
    "#属于商品子集P的操作次数\n",
    "df_p=pd.read_csv('tianchi_fresh_comp_train_item.csv')\n",
    "print(df_p.head())\n",
    "print(df.shape)\n",
    "df=pd.merge(df.reset_index(),df_p,on=['item_id']).set_index('time')\n",
    "print(df.shape)\n",
    "print(df.head())\n",
    "show_count_day(df)"
   ]
  },
  {
   "cell_type": "code",
   "execution_count": 8,
   "metadata": {},
   "outputs": [],
   "source": [
    "#基于小时的统计分布式\n",
    "import matplotlib.pyplot as plt\n",
    "def show_count_hour(date1):\n",
    "    count_hour={}\n",
    "    #设置初始值\n",
    "    for i in range(24):\n",
    "        time_str=date1+' %02.d' % i\n",
    "        count_hour[time_str]=[0,0,0,0]\n",
    "        \n",
    "    for i in range(24):\n",
    "        time_str=date1+' %02.d' % i\n",
    "        temp=df[time_str]['behavior_type'].value_counts()\n",
    "        for j in range(len(temp)):\n",
    "            count_hour[time_str][temp.index[j]-1]+=temp[temp.index[j]]\n",
    "    print(count_hour)\n",
    "    # 从字典类型生成DataFrame\n",
    "    df_count_hour=pd.DataFrame.from_dict(count_hour, orient='index')\n",
    "    df_count_hour.plot(kind='bar')\n",
    "    plt.legend(loc='best')\n",
    "    plt.grid(True)"
   ]
  },
  {
   "cell_type": "code",
   "execution_count": 9,
   "metadata": {},
   "outputs": [
    {
     "name": "stdout",
     "output_type": "stream",
     "text": [
      "{'2014-12-12 00': [29817, 336, 285, 758], '2014-12-12 01': [8736, 101, 288, 75], '2014-12-12 02': [13356, 24, 196, 22], '2014-12-12 03': [4530, 14, 42, 27], '2014-12-12 04': [4280, 11, 42, 10], '2014-12-12 05': [1243, 4, 46, 27], '2014-12-12 06': [6992, 20, 388, 60], '2014-12-12 07': [12673, 24, 102, 80], '2014-12-12 08': [19034, 40, 462, 558], '2014-12-12 09': [13913, 39, 176, 130], '2014-12-12 10': [43971, 55, 522, 210], '2014-12-12 11': [29353, 1662, 468, 140], '2014-12-12 12': [32532, 60, 211, 144], '2014-12-12 13': [9523, 65, 1811, 1745], '2014-12-12 14': [23214, 74, 182, 134], '2014-12-12 15': [9205, 51, 204, 122], '2014-12-12 16': [8948, 50, 145, 83], '2014-12-12 17': [20686, 225, 274, 165], '2014-12-12 18': [8288, 75, 109, 79], '2014-12-12 19': [19089, 48, 171, 118], '2014-12-12 20': [16837, 93, 198, 119], '2014-12-12 21': [20207, 85, 325, 176], '2014-12-12 22': [22404, 109, 373, 189], '2014-12-12 23': [25051, 1745, 1028, 197]}\n"
     ]
    },
    {
     "data": {
      "image/png": "[encoded data removed]",
      "text/plain": [
       "<Figure size 432x288 with 1 Axes>"
      ]
     },
     "metadata": {
      "needs_background": "light"
     },
     "output_type": "display_data"
    }
   ],
   "source": [
    "show_count_hour('2014-12-12')"
   ]
  },
  {
   "cell_type": "code",
   "execution_count": null,
   "metadata": {},
   "outputs": [],
   "source": []
  }
 ],
 "metadata": {
  "kernelspec": {
   "display_name": "Python 3",
   "language": "python",
   "name": "python3"
  },
  "language_info": {
   "codemirror_mode": {
    "name": "ipython",
    "version": 3
   },
   "file_extension": ".py",
   "mimetype": "text/x-python",
   "name": "python",
   "nbconvert_exporter": "python",
   "pygments_lexer": "ipython3",
   "version": "3.7.3"
  }
 },
 "nbformat": 4,
 "nbformat_minor": 2
}
