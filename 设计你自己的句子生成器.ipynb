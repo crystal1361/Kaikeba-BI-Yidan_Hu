{
 "cells": [
  {
   "cell_type": "code",
   "execution_count": 1,
   "metadata": {},
   "outputs": [],
   "source": [
    "import random\n",
    "\n",
    "# 定语从句语法\n",
    "grammar = '''\n",
    "战斗 => 施法  ， 结果 。\n",
    "施法 => 主语 动作 技能 \n",
    "结果 => 主语 获得 效果\n",
    "主语 => 张飞 | 关羽 | 赵云 | 典韦 | 许褚 | 刘备 | 黄忠 | 曹操 | 鲁班七号 | 貂蝉\n",
    "动作 => 施放 | 使用 | 召唤 \n",
    "技能 => 一骑当千 | 单刀赴会 | 青龙偃月 | 刀锋铁骑 | 黑暗潜能 | 画地为牢 | 守护机关 | 狂兽血性 | 龙鸣 | 惊雷之龙 | 破云之龙 | 天翔之龙\n",
    "获得 => 损失 | 获得 \n",
    "效果 => 数值 状态\n",
    "数值 => 1 | 1000 |5000 | 100 \n",
    "状态 => 法力 | 生命\n",
    "'''\n",
    "\n",
    "# 得到语法字典\n",
    "def getGrammarDict(gram, linesplit = \"\\n\", gramsplit = \"=>\"):\n",
    "    #定义字典\n",
    "    result = {}\n",
    "\n",
    "    for line in gram.split(linesplit):\n",
    "        # 去掉首尾空格后，如果为空则退出\n",
    "        if not line.strip(): \n",
    "            continue\n",
    "        expr, statement = line.split(gramsplit)\n",
    "        result[expr.strip()] = [i.split() for i in statement.split(\"|\")]\n",
    "    #print(result)\n",
    "    return result\n",
    "\n",
    "# 生成句子\n",
    "def generate(gramdict, target, isEng = False):\n",
    "    if target not in gramdict: \n",
    "        return target\n",
    "    find = random.choice(gramdict[target])\n",
    "    #print(find)\n",
    "    blank = ''\n",
    "    # 如果是英文中间间隔为空格\n",
    "    if isEng: \n",
    "        blank = ' '\n",
    "    return blank.join(generate(gramdict, t, isEng) for t in find)"
   ]
  },
  {
   "cell_type": "code",
   "execution_count": 2,
   "metadata": {},
   "outputs": [
    {
     "data": {
      "text/plain": [
       "{'战斗': [['施法', '，', '结果', '。']],\n",
       " '施法': [['主语', '动作', '技能']],\n",
       " '结果': [['主语', '获得', '效果']],\n",
       " '主语': [['张飞'],\n",
       "  ['关羽'],\n",
       "  ['赵云'],\n",
       "  ['典韦'],\n",
       "  ['许褚'],\n",
       "  ['刘备'],\n",
       "  ['黄忠'],\n",
       "  ['曹操'],\n",
       "  ['鲁班七号'],\n",
       "  ['貂蝉']],\n",
       " '动作': [['施放'], ['使用'], ['召唤']],\n",
       " '技能': [['一骑当千'],\n",
       "  ['单刀赴会'],\n",
       "  ['青龙偃月'],\n",
       "  ['刀锋铁骑'],\n",
       "  ['黑暗潜能'],\n",
       "  ['画地为牢'],\n",
       "  ['守护机关'],\n",
       "  ['狂兽血性'],\n",
       "  ['龙鸣'],\n",
       "  ['惊雷之龙'],\n",
       "  ['破云之龙'],\n",
       "  ['天翔之龙']],\n",
       " '获得': [['损失'], ['获得']],\n",
       " '效果': [['数值', '状态']],\n",
       " '数值': [['1'], ['1000'], ['5000'], ['100']],\n",
       " '状态': [['法力'], ['生命']]}"
      ]
     },
     "execution_count": 2,
     "metadata": {},
     "output_type": "execute_result"
    }
   ],
   "source": [
    "getGrammarDict(grammar)"
   ]
  },
  {
   "cell_type": "code",
   "execution_count": 3,
   "metadata": {},
   "outputs": [
    {
     "name": "stdout",
     "output_type": "stream",
     "text": [
      "张飞召唤画地为牢，黄忠损失5000生命。\n",
      "典韦 召唤 黑暗潜能 ， 曹操 损失 1000 生命 。\n"
     ]
    }
   ],
   "source": [
    "gramdict = getGrammarDict(grammar)\n",
    "print(generate(gramdict,\"战斗\"))\n",
    "print(generate(gramdict,\"战斗\", True))"
   ]
  },
  {
   "cell_type": "code",
   "execution_count": 12,
   "metadata": {},
   "outputs": [],
   "source": [
    "import random\n",
    "\n",
    "# 定语从句语法\n",
    "host = \"\"\"\n",
    "host = 寒暄 报数 询问 具体业务 结尾 \n",
    "报数 = 我是工号 数字 号 ,\n",
    "数字 = 单个数字 | 数字 单个数字 \n",
    "单个数字 = 1 | 2 | 3 | 4 | 5 | 6 | 7 | 8 | 9 \n",
    "寒暄 = 称谓 打招呼 | 打招呼\n",
    "称谓 = 人称 ,\n",
    "人称 = 先生 | 女士 | 小朋友\n",
    "打招呼 = 你好 | 您好 \n",
    "询问 = 请问你要 | 您需要\n",
    "具体业务 = 喝酒 | 打牌 | 打猎 | 赌博\n",
    "结尾 = 吗？\"\"\"\n",
    "\n",
    "# 得到语法字典\n",
    "def getHostDict(gram, linesplit = \"\\n\", gramsplit = \"=\"):\n",
    "    #定义字典\n",
    "    result = {}\n",
    "\n",
    "    for line in gram.split(linesplit):\n",
    "        # 去掉首尾空格后，如果为空则退出\n",
    "        if not line.strip(): \n",
    "            continue\n",
    "        expr, statement = line.split(gramsplit)\n",
    "        result[expr.strip()] = [i.split() for i in statement.split(\"|\")]\n",
    "    #print(result)\n",
    "    return result\n",
    "\n",
    "# 生成句子\n",
    "def generate(hostdict, target, isEng = False):\n",
    "    if target not in hostdict: \n",
    "        return target\n",
    "    find = random.choice(hostdict[target])\n",
    "    #print(find)\n",
    "    blank = ''\n",
    "    # 如果是英文中间间隔为空格\n",
    "    if isEng: \n",
    "        blank = ' '\n",
    "    return blank.join(generate(hostdict, t, isEng) for t in find)"
   ]
  },
  {
   "cell_type": "code",
   "execution_count": 29,
   "metadata": {},
   "outputs": [
    {
     "name": "stdout",
     "output_type": "stream",
     "text": [
      "女士,您好我是工号7号,请问你要喝酒吗？\n"
     ]
    }
   ],
   "source": [
    "hostdict = getHostDict(host)\n",
    "print(generate(hostdict,\"host\"))"
   ]
  },
  {
   "cell_type": "code",
   "execution_count": null,
   "metadata": {},
   "outputs": [],
   "source": []
  }
 ],
 "metadata": {
  "kernelspec": {
   "display_name": "Python 3",
   "language": "python",
   "name": "python3"
  },
  "language_info": {
   "codemirror_mode": {
    "name": "ipython",
    "version": 3
   },
   "file_extension": ".py",
   "mimetype": "text/x-python",
   "name": "python",
   "nbconvert_exporter": "python",
   "pygments_lexer": "ipython3",
   "version": "3.7.3"
  }
 },
 "nbformat": 4,
 "nbformat_minor": 2
}
